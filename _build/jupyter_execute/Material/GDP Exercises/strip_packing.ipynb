{
 "cells": [
  {
   "cell_type": "markdown",
   "metadata": {},
   "source": [
    "#### Strip Packing\n",
    "\n",
    "This model packs a set of rectangles without rotation or overlap within a strip of a given width, while minimizing the length of the strip.\n",
    "\n",
    "This is a Strip-packing example from http://minlp.org/library/lib.php?lib=GDP"
   ]
  },
  {
   "cell_type": "code",
   "execution_count": 1,
   "metadata": {},
   "outputs": [
    {
     "ename": "ModuleNotFoundError",
     "evalue": "No module named 'pyomo'",
     "output_type": "error",
     "traceback": [
      "\u001b[1;31m---------------------------------------------------------------------------\u001b[0m",
      "\u001b[1;31mModuleNotFoundError\u001b[0m                       Traceback (most recent call last)",
      "Cell \u001b[1;32mIn[1], line 1\u001b[0m\n\u001b[1;32m----> 1\u001b[0m \u001b[38;5;28;01mimport\u001b[39;00m \u001b[38;5;21;01mpyomo\u001b[39;00m\u001b[38;5;21;01m.\u001b[39;00m\u001b[38;5;21;01menviron\u001b[39;00m \u001b[38;5;28;01mas\u001b[39;00m \u001b[38;5;21;01mpyo\u001b[39;00m\n\u001b[0;32m      2\u001b[0m \u001b[38;5;28;01mfrom\u001b[39;00m \u001b[38;5;21;01mpyomo\u001b[39;00m\u001b[38;5;21;01m.\u001b[39;00m\u001b[38;5;21;01mgdp\u001b[39;00m \u001b[38;5;28;01mimport\u001b[39;00m Disjunct, Disjunction\n\u001b[0;32m      4\u001b[0m model \u001b[38;5;241m=\u001b[39m pyo\u001b[38;5;241m.\u001b[39mConcreteModel()\n",
      "\u001b[1;31mModuleNotFoundError\u001b[0m: No module named 'pyomo'"
     ]
    }
   ],
   "source": [
    "import pyomo.environ as pyo\n",
    "from pyomo.gdp import Disjunct, Disjunction\n",
    "\n",
    "model = pyo.ConcreteModel()\n",
    "\n",
    "model.RECTANGLES = pyo.Set(ordered=True, initialize=[0,1,2,3])\n",
    "\n",
    "# Width and Lenght of each rectangle\n",
    "model.Width = pyo.Param(model.RECTANGLES, initialize={0:6, 1:3, 2:4, 3:2})\n",
    "model.Length = pyo.Param(model.RECTANGLES, initialize={0:6, 1:8, 2:5, 3:3})\n",
    "\n",
    "model.StripWidth = pyo.Param(initialize=10, doc=\"Width of the strip\" )\n",
    "\n",
    "# upperbound on length (default is sum of lengths of rectangles)\n",
    "model.LengthUB = pyo.Param(initialize=sum(model.Length[i] for i in\n",
    "                                          model.RECTANGLES))\n",
    "\n",
    "# x (length) and y (width) coordinates of each of the rectangles\n",
    "model.x = pyo.Var(model.RECTANGLES, bounds=(0, model.LengthUB),\n",
    "                  doc=\"rectangle corner x-position (position down length)\")\n",
    "def y_bounds(m, i):\n",
    "    return (0, m.StripWidth-m.Width[i])\n",
    "model.y = pyo.Var(model.RECTANGLES,\n",
    "              bounds=y_bounds,\n",
    "              doc=\"rectangle corner y-position (position across width)\")\n",
    "\n",
    "# length of strip (this will be the objective)\n",
    "model.MaxLength = pyo.Var(within=pyo.NonNegativeReals)\n",
    "\n",
    "# generate the list of possible rectangle conflicts (which are any pair)\n",
    "def rec_pairs_filter(model, i, j):\n",
    "    return i < j\n",
    "model.OVERLAP_PAIRS = pyo.Set(initialize=model.RECTANGLES * model.RECTANGLES,\n",
    "    dimen=2, filter=rec_pairs_filter)\n",
    "\n",
    "# strip length constraint\n",
    "@model.Constraint(model.RECTANGLES)\n",
    "def strip_ends_after_last_rec(model, i):\n",
    "    return model.MaxLength >= model.x[i] + model.Length[i]\n",
    "\n",
    "# minimize length\n",
    "model.total_length = pyo.Objective(expr=model.MaxLength)\n",
    "\n",
    "#\n",
    "# Insert the no-overlap disjunctions here!\n",
    "#\n",
    "@model.Disjunction(model.OVERLAP_PAIRS)\n",
    "def noOverlap(m,i,j):\n",
    "    return [\n",
    "        m.x[i] + m.Length[i] <= m.x[j],\n",
    "        m.x[j] + m.Length[j] <= m.x[i],\n",
    "        m.y[i] + m.Width[i] <= m.y[j],\n",
    "        m.y[j] + m.Width[j] <= m.y[i],\n",
    "    ]\n",
    "#\n",
    "# Transform the model using the BigM relaxation\n",
    "#\n",
    "pyo.TransformationFactory('gdp.bigm').apply_to(model)\n",
    "\n",
    "#\n",
    "# Solve and print the solution\n",
    "#\n",
    "pyo.SolverFactory('glpk').solve(model, tee=True)\n",
    "model.pprint()\n",
    "for i in model.RECTANGLES:\n",
    "    print(\"Rectangle %s: (%s, %s)\" % (i, pyo.value(model.x[i]), pyo.value(model.y[i])))\n",
    "model.total_length.display()\n"
   ]
  }
 ],
 "metadata": {
  "kernelspec": {
   "display_name": ".venv",
   "language": "python",
   "name": "python3"
  },
  "language_info": {
   "codemirror_mode": {
    "name": "ipython",
    "version": 3
   },
   "file_extension": ".py",
   "mimetype": "text/x-python",
   "name": "python",
   "nbconvert_exporter": "python",
   "pygments_lexer": "ipython3",
   "version": "3.11.5"
  }
 },
 "nbformat": 4,
 "nbformat_minor": 2
}