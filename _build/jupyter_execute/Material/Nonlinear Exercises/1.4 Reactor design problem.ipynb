{
 "cells": [
  {
   "cell_type": "markdown",
   "metadata": {},
   "source": [
    "#### 1.4 Reactor design problem (Hart et al., 2017; Bequette, 2003): \n",
    "In this example, we will consider a chemical reactor designed to produce\n",
    "product B from reactant A using a reaction scheme known as the Van\n",
    "de Vusse reaction:\n",
    "\n",
    "$$A^{\\underrightarrow{k_{1}}}B^{\\underrightarrow{k_{2}}}C$$\n",
    "$$2A^{\\underrightarrow{k_{3}}}D$$\n",
    "Under appropriate assumptions, $F$ is the volumetric flowrate through the tank. The concentation of component $A$ in the feed is $c_{Af}$ , and the concentrations in the reactor are equivalent to the concentrations of each component flowing out of the reactor, given by $c_{A}, c_{B}, c_{C}, c_{D}$\n",
    "\n",
    "If the reactor is too small, we will not produce sufficient quantity of $B$, and if the reactor is too large, much of $B$ will be further reacted to form the undesired product $C$. Therefore, our goal is to solve for the reactor volume that maximizes the outlet concentration for product $B$.\n",
    "\n",
    "The steady-state mole balances for each of the four components are given by,\n",
    "\n",
    "$$0 = \\frac{F}{V}c_{Af} - \\frac{F}{V}c_{A} - k_{1}c_{A} - 2k_{3}c_{A}^{2}$$\n",
    "$$0 = -\\frac{F}{V}c_{B} + k_{1}c_{A} - k_{2}c_{B}$$\n",
    "$$0 = -\\frac{F}{V}c_{C} + k_{2}c_{B}$$\n",
    "$$0 = -\\frac{F}{V}c_{D} + k_{3}c_{A}^{2}$$\n",
    "\n",
    "The known parameters for the system are,\n",
    "\n",
    "$$c_{Af} = 10 \\frac{gmol}{m^3} \\;\\;\\;\\; k_{1} = \\frac{5}{6} min^{-1} \\;\\;\\;\\; k_{2} = \\frac{5}{3} min^{-1} \\;\\;\\;\\; k_{3} = \\frac{1}{6000} \\frac{m^{3}}{mol\\;min}$$\n",
    "\n",
    "Below we formulate and solve this optimization problem using Pyomo. Since the\n",
    "volumetric flowrate $F$ always appears as the numerator over the reactor\n",
    "volume $V$ , it is common to consider this ratio as a single variable, called\n",
    "the space-velocity $SV$. "
   ]
  },
  {
   "cell_type": "code",
   "execution_count": 1,
   "metadata": {},
   "outputs": [
    {
     "name": "stdout",
     "output_type": "stream",
     "text": [
      "WARNING: Could not locate the 'ipopt' executable, which is required for solver\n",
      "ipopt\n"
     ]
    },
    {
     "ename": "ApplicationError",
     "evalue": "No executable found for solver 'ipopt'",
     "output_type": "error",
     "traceback": [
      "\u001b[31m---------------------------------------------------------------------------\u001b[39m",
      "\u001b[31mApplicationError\u001b[39m                          Traceback (most recent call last)",
      "\u001b[36mCell\u001b[39m\u001b[36m \u001b[39m\u001b[32mIn[1]\u001b[39m\u001b[32m, line 38\u001b[39m\n\u001b[32m     33\u001b[39m model.cd_bal = pyo.Constraint(expr=(\u001b[32m0\u001b[39m == -model.sv * model.cd \\\n\u001b[32m     34\u001b[39m                  + k3 * model.ca ** \u001b[32m2.0\u001b[39m))\n\u001b[32m     36\u001b[39m solver = pyo.SolverFactory(\u001b[33m'\u001b[39m\u001b[33mipopt\u001b[39m\u001b[33m'\u001b[39m)\n\u001b[32m---> \u001b[39m\u001b[32m38\u001b[39m \u001b[43msolver\u001b[49m\u001b[43m.\u001b[49m\u001b[43msolve\u001b[49m\u001b[43m(\u001b[49m\u001b[43mmodel\u001b[49m\u001b[43m)\u001b[49m\n\u001b[32m     39\u001b[39m model.pprint()\n",
      "\u001b[36mFile \u001b[39m\u001b[32m~/.local/lib/python3.12/site-packages/pyomo/opt/base/solvers.py:534\u001b[39m, in \u001b[36mOptSolver.solve\u001b[39m\u001b[34m(self, *args, **kwds)\u001b[39m\n\u001b[32m    531\u001b[39m \u001b[38;5;28;01mdef\u001b[39;00m \u001b[34msolve\u001b[39m(\u001b[38;5;28mself\u001b[39m, *args, **kwds):\n\u001b[32m    532\u001b[39m \u001b[38;5;250m    \u001b[39m\u001b[33;03m\"\"\"Solve the problem\"\"\"\u001b[39;00m\n\u001b[32m--> \u001b[39m\u001b[32m534\u001b[39m     \u001b[38;5;28;43mself\u001b[39;49m\u001b[43m.\u001b[49m\u001b[43mavailable\u001b[49m\u001b[43m(\u001b[49m\u001b[43mexception_flag\u001b[49m\u001b[43m=\u001b[49m\u001b[38;5;28;43;01mTrue\u001b[39;49;00m\u001b[43m)\u001b[49m\n\u001b[32m    535\u001b[39m     \u001b[38;5;66;03m#\u001b[39;00m\n\u001b[32m    536\u001b[39m     \u001b[38;5;66;03m# If the inputs are models, then validate that they have been\u001b[39;00m\n\u001b[32m    537\u001b[39m     \u001b[38;5;66;03m# constructed! Collect suffix names to try and import from solution.\u001b[39;00m\n\u001b[32m    538\u001b[39m     \u001b[38;5;66;03m#\u001b[39;00m\n\u001b[32m    539\u001b[39m     \u001b[38;5;28;01mfrom\u001b[39;00m \u001b[34;01mpyomo\u001b[39;00m\u001b[34;01m.\u001b[39;00m\u001b[34;01mcore\u001b[39;00m\u001b[34;01m.\u001b[39;00m\u001b[34;01mbase\u001b[39;00m\u001b[34;01m.\u001b[39;00m\u001b[34;01mblock\u001b[39;00m \u001b[38;5;28;01mimport\u001b[39;00m BlockData\n",
      "\u001b[36mFile \u001b[39m\u001b[32m~/.local/lib/python3.12/site-packages/pyomo/opt/solver/shellcmd.py:140\u001b[39m, in \u001b[36mSystemCallSolver.available\u001b[39m\u001b[34m(self, exception_flag)\u001b[39m\n\u001b[32m    138\u001b[39m     \u001b[38;5;28;01mif\u001b[39;00m exception_flag:\n\u001b[32m    139\u001b[39m         msg = \u001b[33m\"\u001b[39m\u001b[33mNo executable found for solver \u001b[39m\u001b[33m'\u001b[39m\u001b[38;5;132;01m%s\u001b[39;00m\u001b[33m'\u001b[39m\u001b[33m\"\u001b[39m\n\u001b[32m--> \u001b[39m\u001b[32m140\u001b[39m         \u001b[38;5;28;01mraise\u001b[39;00m ApplicationError(msg % \u001b[38;5;28mself\u001b[39m.name)\n\u001b[32m    141\u001b[39m     \u001b[38;5;28;01mreturn\u001b[39;00m \u001b[38;5;28;01mFalse\u001b[39;00m\n\u001b[32m    142\u001b[39m \u001b[38;5;28;01mreturn\u001b[39;00m \u001b[38;5;28;01mTrue\u001b[39;00m\n",
      "\u001b[31mApplicationError\u001b[39m: No executable found for solver 'ipopt'"
     ]
    }
   ],
   "source": [
    "import pyomo.environ as pyo\n",
    "\n",
    "# create the concrete model\n",
    "model = pyo.ConcreteModel()\n",
    "\n",
    "# set the data (native python data)\n",
    "k1 = 5.0/6.0     # min^-1\n",
    "k2 = 5.0/3.0     # min^-1\n",
    "k3 = 1.0/6000.0  # m^3/(gmol min)\n",
    "caf = 10000.0    # gmol/m^3\n",
    "\n",
    "# create the variables\n",
    "model.sv = pyo.Var(initialize = 1.0, within=pyo.PositiveReals)\n",
    "model.ca = pyo.Var(initialize = 5000.0, within=pyo.PositiveReals)\n",
    "model.cb = pyo.Var(initialize = 2000.0, within=pyo.PositiveReals)\n",
    "model.cc = pyo.Var(initialize = 2000.0, within=pyo.PositiveReals)\n",
    "model.cd = pyo.Var(initialize = 1000.0, within=pyo.PositiveReals)\n",
    "\n",
    "# create the objective\n",
    "model.obj = pyo.Objective(expr = model.cb, sense=pyo.maximize)\n",
    "\n",
    "# create the constraints\n",
    "model.ca_bal = pyo.Constraint(expr = (0 == model.sv * caf \\\n",
    "                 - model.sv * model.ca - k1 * model.ca \\\n",
    "                 -  2.0 * k3 * model.ca ** 2.0))\n",
    "\n",
    "model.cb_bal = pyo.Constraint(expr=(0 == -model.sv * model.cb \\\n",
    "                 + k1 * model.ca - k2 * model.cb))\n",
    "\n",
    "model.cc_bal = pyo.Constraint(expr=(0 == -model.sv * model.cc \\\n",
    "                 + k2 * model.cb))\n",
    "\n",
    "model.cd_bal = pyo.Constraint(expr=(0 == -model.sv * model.cd \\\n",
    "                 + k3 * model.ca ** 2.0))\n",
    "\n",
    "solver = pyo.SolverFactory('ipopt')\n",
    "\n",
    "solver.solve(model)\n",
    "model.pprint()\n"
   ]
  }
 ],
 "metadata": {
  "kernelspec": {
   "display_name": ".venv",
   "language": "python",
   "name": "python3"
  },
  "language_info": {
   "codemirror_mode": {
    "name": "ipython",
    "version": 3
   },
   "file_extension": ".py",
   "mimetype": "text/x-python",
   "name": "python",
   "nbconvert_exporter": "python",
   "pygments_lexer": "ipython3",
   "version": "3.12.3"
  }
 },
 "nbformat": 4,
 "nbformat_minor": 2
}