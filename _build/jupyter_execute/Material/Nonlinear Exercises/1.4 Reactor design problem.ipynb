{
 "cells": [
  {
   "cell_type": "markdown",
   "metadata": {},
   "source": [
    "#### 1.4 Reactor design problem (Hart et al., 2017; Bequette, 2003): \n",
    "In this example, we will consider a chemical reactor designed to produce\n",
    "product B from reactant A using a reaction scheme known as the Van\n",
    "de Vusse reaction:\n",
    "\n",
    "$$A^{\\underrightarrow{k_{1}}}B^{\\underrightarrow{k_{2}}}C$$\n",
    "$$2A^{\\underrightarrow{k_{3}}}D$$\n",
    "Under appropriate assumptions, $F$ is the volumetric flowrate through the tank. The concentation of component $A$ in the feed is $c_{Af}$ , and the concentrations in the reactor are equivalent to the concentrations of each component flowing out of the reactor, given by $c_{A}, c_{B}, c_{C}, c_{D}$\n",
    "\n",
    "If the reactor is too small, we will not produce sufficient quantity of $B$, and if the reactor is too large, much of $B$ will be further reacted to form the undesired product $C$. Therefore, our goal is to solve for the reactor volume that maximizes the outlet concentration for product $B$.\n",
    "\n",
    "The steady-state mole balances for each of the four components are given by,\n",
    "\n",
    "$$0 = \\frac{F}{V}c_{Af} - \\frac{F}{V}c_{A} - k_{1}c_{A} - 2k_{3}c_{A}^{2}$$\n",
    "$$0 = -\\frac{F}{V}c_{B} + k_{1}c_{A} - k_{2}c_{B}$$\n",
    "$$0 = -\\frac{F}{V}c_{C} + k_{2}c_{B}$$\n",
    "$$0 = -\\frac{F}{V}c_{D} + k_{3}c_{A}^{2}$$\n",
    "\n",
    "The known parameters for the system are,\n",
    "\n",
    "$$c_{Af} = 10 \\frac{gmol}{m^3} \\;\\;\\;\\; k_{1} = \\frac{5}{6} min^{-1} \\;\\;\\;\\; k_{2} = \\frac{5}{3} min^{-1} \\;\\;\\;\\; k_{3} = \\frac{1}{6000} \\frac{m^{3}}{mol\\;min}$$\n",
    "\n",
    "Below we formulate and solve this optimization problem using Pyomo. Since the\n",
    "volumetric flowrate $F$ always appears as the numerator over the reactor\n",
    "volume $V$ , it is common to consider this ratio as a single variable, called\n",
    "the space-velocity $SV$. "
   ]
  },
  {
   "cell_type": "code",
   "execution_count": 1,
   "metadata": {},
   "outputs": [
    {
     "ename": "ModuleNotFoundError",
     "evalue": "No module named 'pyomo'",
     "output_type": "error",
     "traceback": [
      "\u001b[1;31m---------------------------------------------------------------------------\u001b[0m",
      "\u001b[1;31mModuleNotFoundError\u001b[0m                       Traceback (most recent call last)",
      "Cell \u001b[1;32mIn[1], line 1\u001b[0m\n\u001b[1;32m----> 1\u001b[0m \u001b[38;5;28;01mimport\u001b[39;00m \u001b[38;5;21;01mpyomo\u001b[39;00m\u001b[38;5;21;01m.\u001b[39;00m\u001b[38;5;21;01menviron\u001b[39;00m \u001b[38;5;28;01mas\u001b[39;00m \u001b[38;5;21;01mpyo\u001b[39;00m\n\u001b[0;32m      3\u001b[0m \u001b[38;5;66;03m# create the concrete model\u001b[39;00m\n\u001b[0;32m      4\u001b[0m model \u001b[38;5;241m=\u001b[39m pyo\u001b[38;5;241m.\u001b[39mConcreteModel()\n",
      "\u001b[1;31mModuleNotFoundError\u001b[0m: No module named 'pyomo'"
     ]
    }
   ],
   "source": [
    "import pyomo.environ as pyo\n",
    "\n",
    "# create the concrete model\n",
    "model = pyo.ConcreteModel()\n",
    "\n",
    "# set the data (native python data)\n",
    "k1 = 5.0/6.0     # min^-1\n",
    "k2 = 5.0/3.0     # min^-1\n",
    "k3 = 1.0/6000.0  # m^3/(gmol min)\n",
    "caf = 10000.0    # gmol/m^3\n",
    "\n",
    "# create the variables\n",
    "model.sv = pyo.Var(initialize = 1.0, within=pyo.PositiveReals)\n",
    "model.ca = pyo.Var(initialize = 5000.0, within=pyo.PositiveReals)\n",
    "model.cb = pyo.Var(initialize = 2000.0, within=pyo.PositiveReals)\n",
    "model.cc = pyo.Var(initialize = 2000.0, within=pyo.PositiveReals)\n",
    "model.cd = pyo.Var(initialize = 1000.0, within=pyo.PositiveReals)\n",
    "\n",
    "# create the objective\n",
    "model.obj = pyo.Objective(expr = model.cb, sense=pyo.maximize)\n",
    "\n",
    "# create the constraints\n",
    "model.ca_bal = pyo.Constraint(expr = (0 == model.sv * caf \\\n",
    "                 - model.sv * model.ca - k1 * model.ca \\\n",
    "                 -  2.0 * k3 * model.ca ** 2.0))\n",
    "\n",
    "model.cb_bal = pyo.Constraint(expr=(0 == -model.sv * model.cb \\\n",
    "                 + k1 * model.ca - k2 * model.cb))\n",
    "\n",
    "model.cc_bal = pyo.Constraint(expr=(0 == -model.sv * model.cc \\\n",
    "                 + k2 * model.cb))\n",
    "\n",
    "model.cd_bal = pyo.Constraint(expr=(0 == -model.sv * model.cd \\\n",
    "                 + k3 * model.ca ** 2.0))\n",
    "\n",
    "ipopt_runner_path = \"/home/runner/work/pyomo_jupyter_book/pyomo_jupyter_book/solvers/ipopt\"\n",
    "solver = pyo.SolverFactory('ipopt', executable=ipopt_runner_path)\n",
    "\n",
    "solver.solve(model)\n",
    "model.pprint()\n"
   ]
  }
 ],
 "metadata": {
  "kernelspec": {
   "display_name": ".venv",
   "language": "python",
   "name": "python3"
  },
  "language_info": {
   "codemirror_mode": {
    "name": "ipython",
    "version": 3
   },
   "file_extension": ".py",
   "mimetype": "text/x-python",
   "name": "python",
   "nbconvert_exporter": "python",
   "pygments_lexer": "ipython3",
   "version": "3.11.5"
  }
 },
 "nbformat": 4,
 "nbformat_minor": 2
}