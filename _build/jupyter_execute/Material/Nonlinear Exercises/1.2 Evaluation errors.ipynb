{
 "cells": [
  {
   "cell_type": "markdown",
   "metadata": {},
   "source": [
    "#### 1.2 Evaluation errors: \n",
    "Consider the following problem with initial values $x=5, y=5$.\n",
    "\n",
    "$$\\begin{aligned}\n",
    "min_{x,y} f(x,y) &= (x - 1.01)^{2} + y^{2}\\\\\n",
    "s.t. \\;\\;\\; y &= \\sqrt{x - 1.0}\n",
    "\\end{aligned}$$\n",
    "\n",
    "(a) Below we formulate this Pyomo model and solve using Ipopt. We then get a list of\n",
    "errors from the solver.  What did you discover? How might you fix this? (Hint: error output might be ordered strangely, look up in the console output.)\n",
    "\n",
    "\n"
   ]
  },
  {
   "cell_type": "code",
   "execution_count": 1,
   "metadata": {},
   "outputs": [
    {
     "name": "stdout",
     "output_type": "stream",
     "text": [
      "WARNING: Could not locate the 'ipopt' executable, which is required for solver\n",
      "ipopt\n"
     ]
    },
    {
     "ename": "ApplicationError",
     "evalue": "No executable found for solver 'ipopt'",
     "output_type": "error",
     "traceback": [
      "\u001b[31m---------------------------------------------------------------------------\u001b[39m",
      "\u001b[31mApplicationError\u001b[39m                          Traceback (most recent call last)",
      "\u001b[36mCell\u001b[39m\u001b[36m \u001b[39m\u001b[32mIn[1]\u001b[39m\u001b[32m, line 18\u001b[39m\n\u001b[32m     16\u001b[39m solver = pyo.SolverFactory(\u001b[33m'\u001b[39m\u001b[33mipopt\u001b[39m\u001b[33m'\u001b[39m)\n\u001b[32m     17\u001b[39m solver.options[\u001b[33m'\u001b[39m\u001b[33mhalt_on_ampl_error\u001b[39m\u001b[33m'\u001b[39m] = \u001b[33m'\u001b[39m\u001b[33myes\u001b[39m\u001b[33m'\u001b[39m\n\u001b[32m---> \u001b[39m\u001b[32m18\u001b[39m \u001b[43msolver\u001b[49m\u001b[43m.\u001b[49m\u001b[43msolve\u001b[49m\u001b[43m(\u001b[49m\u001b[43mmodel\u001b[49m\u001b[43m,\u001b[49m\u001b[43m \u001b[49m\u001b[43mtee\u001b[49m\u001b[43m=\u001b[49m\u001b[38;5;28;43;01mTrue\u001b[39;49;00m\u001b[43m)\u001b[49m\n\u001b[32m     20\u001b[39m \u001b[38;5;28mprint\u001b[39m(pyo.value(model.x))\n\u001b[32m     21\u001b[39m \u001b[38;5;28mprint\u001b[39m(pyo.value(model.y))\n",
      "\u001b[36mFile \u001b[39m\u001b[32m~/.local/lib/python3.12/site-packages/pyomo/opt/base/solvers.py:534\u001b[39m, in \u001b[36mOptSolver.solve\u001b[39m\u001b[34m(self, *args, **kwds)\u001b[39m\n\u001b[32m    531\u001b[39m \u001b[38;5;28;01mdef\u001b[39;00m \u001b[34msolve\u001b[39m(\u001b[38;5;28mself\u001b[39m, *args, **kwds):\n\u001b[32m    532\u001b[39m \u001b[38;5;250m    \u001b[39m\u001b[33;03m\"\"\"Solve the problem\"\"\"\u001b[39;00m\n\u001b[32m--> \u001b[39m\u001b[32m534\u001b[39m     \u001b[38;5;28;43mself\u001b[39;49m\u001b[43m.\u001b[49m\u001b[43mavailable\u001b[49m\u001b[43m(\u001b[49m\u001b[43mexception_flag\u001b[49m\u001b[43m=\u001b[49m\u001b[38;5;28;43;01mTrue\u001b[39;49;00m\u001b[43m)\u001b[49m\n\u001b[32m    535\u001b[39m     \u001b[38;5;66;03m#\u001b[39;00m\n\u001b[32m    536\u001b[39m     \u001b[38;5;66;03m# If the inputs are models, then validate that they have been\u001b[39;00m\n\u001b[32m    537\u001b[39m     \u001b[38;5;66;03m# constructed! Collect suffix names to try and import from solution.\u001b[39;00m\n\u001b[32m    538\u001b[39m     \u001b[38;5;66;03m#\u001b[39;00m\n\u001b[32m    539\u001b[39m     \u001b[38;5;28;01mfrom\u001b[39;00m \u001b[34;01mpyomo\u001b[39;00m\u001b[34;01m.\u001b[39;00m\u001b[34;01mcore\u001b[39;00m\u001b[34;01m.\u001b[39;00m\u001b[34;01mbase\u001b[39;00m\u001b[34;01m.\u001b[39;00m\u001b[34;01mblock\u001b[39;00m \u001b[38;5;28;01mimport\u001b[39;00m BlockData\n",
      "\u001b[36mFile \u001b[39m\u001b[32m~/.local/lib/python3.12/site-packages/pyomo/opt/solver/shellcmd.py:140\u001b[39m, in \u001b[36mSystemCallSolver.available\u001b[39m\u001b[34m(self, exception_flag)\u001b[39m\n\u001b[32m    138\u001b[39m     \u001b[38;5;28;01mif\u001b[39;00m exception_flag:\n\u001b[32m    139\u001b[39m         msg = \u001b[33m\"\u001b[39m\u001b[33mNo executable found for solver \u001b[39m\u001b[33m'\u001b[39m\u001b[38;5;132;01m%s\u001b[39;00m\u001b[33m'\u001b[39m\u001b[33m\"\u001b[39m\n\u001b[32m--> \u001b[39m\u001b[32m140\u001b[39m         \u001b[38;5;28;01mraise\u001b[39;00m ApplicationError(msg % \u001b[38;5;28mself\u001b[39m.name)\n\u001b[32m    141\u001b[39m     \u001b[38;5;28;01mreturn\u001b[39;00m \u001b[38;5;28;01mFalse\u001b[39;00m\n\u001b[32m    142\u001b[39m \u001b[38;5;28;01mreturn\u001b[39;00m \u001b[38;5;28;01mTrue\u001b[39;00m\n",
      "\u001b[31mApplicationError\u001b[39m: No executable found for solver 'ipopt'"
     ]
    }
   ],
   "source": [
    "import pyomo.environ as pyo\n",
    "\n",
    "model = pyo.ConcreteModel()\n",
    "\n",
    "model.x = pyo.Var(initialize=5.0)\n",
    "model.y = pyo.Var(initialize=5.0)\n",
    "\n",
    "def obj_rule(m):\n",
    "    return (m.x-1.01)**2 + m.y**2\n",
    "model.obj = pyo.Objective(rule=obj_rule)\n",
    "\n",
    "def con_rule(m):\n",
    "    return m.y == pyo.sqrt(m.x - 1.0)\n",
    "model.con = pyo.Constraint(rule=con_rule)\n",
    "\n",
    "solver = pyo.SolverFactory('ipopt')\n",
    "solver.options['halt_on_ampl_error'] = 'yes'\n",
    "solver.solve(model, tee=True)\n",
    "\n",
    "print(pyo.value(model.x))\n",
    "print(pyo.value(model.y))"
   ]
  },
  {
   "cell_type": "markdown",
   "metadata": {},
   "source": [
    "(b) Add bounds $x\\geq 1$ to fix this problem. Resolve the problem. Comment on the number of iterations and the quality of solution.\n",
    "(Note: The problem still occurs because $x \\geq 1$ is not enforced exactly, and small numerical values still cause the error.)\n"
   ]
  },
  {
   "cell_type": "code",
   "execution_count": 1,
   "metadata": {},
   "outputs": [
    {
     "name": "stdout",
     "output_type": "stream",
     "text": [
      "Ipopt 3.9.1: halt_on_ampl_error=yes\n",
      "\n",
      "\n",
      "******************************************************************************\n",
      "This program contains Ipopt, a library for large-scale nonlinear optimization.\n",
      " Ipopt is released as open source code under the Common Public License (CPL).\n",
      "         For more information visit http://projects.coin-or.org/Ipopt\n",
      "******************************************************************************\n",
      "\n",
      "NOTE: You are using Ipopt by default with the MUMPS linear solver.\n",
      "      Other linear solvers might be more efficient (see Ipopt documentation).\n",
      "\n",
      "\n",
      "This is Ipopt version 3.9.1, running with linear solver mumps.\n",
      "\n",
      "Number of nonzeros in equality constraint Jacobian...:        2\n",
      "Number of nonzeros in inequality constraint Jacobian.:        0\n",
      "Number of nonzeros in Lagrangian Hessian.............:        2\n",
      "\n",
      "Total number of variables............................:        2\n",
      "                     variables with only lower bounds:        1\n",
      "                variables with lower and upper bounds:        0\n",
      "                     variables with only upper bounds:        0\n",
      "Total number of equality constraints.................:        1\n",
      "Total number of inequality constraints...............:        0\n",
      "        inequality constraints with only lower bounds:        0\n",
      "   inequality constraints with lower and upper bounds:        0\n",
      "        inequality constraints with only upper bounds:        0\n",
      "\n",
      "iter    objective    inf_pr   inf_du lg(mu)  ||d||  lg(rg) alpha_du alpha_pr  ls\n",
      "   0 4.0920100e+001 3.00e+000 8.92e+000  -1.0 0.00e+000    -  0.00e+000 0.00e+000   0\n",
      "   1 1.3964766e+000 9.81e-001 4.57e+000  -1.0 4.20e+000    -  1.00e+000 9.43e-001f  1\n",
      "   2 1.3265288e+000 4.58e-001 9.56e+000  -1.0 3.54e-001   2.0 1.31e-001 1.00e+000f  1\n",
      "   3 3.2528786e-001 1.23e-002 1.25e+000  -1.0 5.70e-001    -  1.00e+000 1.00e+000f  1\n",
      "   4 4.9701812e-003 7.82e-002 1.36e-001  -1.0 3.78e-001    -  1.00e+000 1.00e+000F  1\n",
      "   5 6.0628408e-003 4.53e-002 1.66e+000  -2.5 2.08e-002    -  1.00e+000 1.00e+000h  1\n",
      "   6 6.7063949e-003 4.53e-002 2.24e+000  -2.5 1.05e+000    -  1.53e-002 3.91e-003h  9\n",
      "   7 7.6973110e-003 1.67e-002 5.10e-001  -2.5 6.16e-003   1.5 1.00e+000 1.00e+000h  1\n",
      "   8 3.5855462e-003 1.09e-003 2.51e-001  -2.5 2.81e-002    -  1.00e+000 1.00e+000h  1\n",
      "   9 3.0456986e-003 1.24e-004 1.10e-003  -2.5 4.78e-003    -  1.00e+000 1.00e+000h  1\n",
      "iter    objective    inf_pr   inf_du lg(mu)  ||d||  lg(rg) alpha_du alpha_pr  ls\n",
      "  10 9.2960387e-004 1.58e-002 1.21e+000  -3.8 2.59e-002    -  1.00e+000 1.00e+000h  1\n",
      "  11 2.2722219e-004 1.18e-004 1.42e-001  -3.8 1.75e-002    -  1.00e+000 1.00e+000h  1\n",
      "  12 2.4804811e-004 4.21e-005 4.38e-003  -3.8 8.99e-004    -  1.00e+000 1.00e+000h  1\n",
      "  13 2.5041988e-004 8.02e-007 1.04e-004  -3.8 9.89e-005    -  1.00e+000 1.00e+000h  1\n",
      "  14 1.3928326e-004 4.89e-003 3.54e+000  -5.7 6.12e-003    -  1.00e+000 1.00e+000h  1\n",
      "  15 1.6721345e-004 3.66e-003 4.16e+000  -5.7 1.95e-003   1.0 1.01e-001 1.00e+000h  1\n",
      "  16 1.7756299e-004 1.12e-003 2.28e+000  -5.7 6.51e-004   1.5 1.00e+000 1.00e+000h  1\n",
      "  17 1.5169810e-004 1.68e-005 1.58e-001  -5.7 1.61e-003   1.0 1.00e+000 1.00e+000h  1\n",
      "Error evaluating constraint 1: can't evaluate sqrt(-9.90312e-09).\n",
      "ERROR: Solver (ipopt) returned non-zero return code (1)\n",
      "ERROR: See the solver log above for diagnostic information.\n"
     ]
    },
    {
     "ename": "ApplicationError",
     "evalue": "Solver (ipopt) did not exit normally",
     "output_type": "error",
     "traceback": [
      "\u001b[1;31m---------------------------------------------------------------------------\u001b[0m",
      "\u001b[1;31mApplicationError\u001b[0m                          Traceback (most recent call last)",
      "Cell \u001b[1;32mIn[1], line 18\u001b[0m\n\u001b[0;32m     16\u001b[0m solver \u001b[38;5;241m=\u001b[39m pyo\u001b[38;5;241m.\u001b[39mSolverFactory(\u001b[38;5;124m'\u001b[39m\u001b[38;5;124mipopt\u001b[39m\u001b[38;5;124m'\u001b[39m)\n\u001b[0;32m     17\u001b[0m solver\u001b[38;5;241m.\u001b[39moptions[\u001b[38;5;124m'\u001b[39m\u001b[38;5;124mhalt_on_ampl_error\u001b[39m\u001b[38;5;124m'\u001b[39m] \u001b[38;5;241m=\u001b[39m \u001b[38;5;124m'\u001b[39m\u001b[38;5;124myes\u001b[39m\u001b[38;5;124m'\u001b[39m\n\u001b[1;32m---> 18\u001b[0m \u001b[43msolver\u001b[49m\u001b[38;5;241;43m.\u001b[39;49m\u001b[43msolve\u001b[49m\u001b[43m(\u001b[49m\u001b[43mmodel\u001b[49m\u001b[43m,\u001b[49m\u001b[43m \u001b[49m\u001b[43mtee\u001b[49m\u001b[38;5;241;43m=\u001b[39;49m\u001b[38;5;28;43;01mTrue\u001b[39;49;00m\u001b[43m)\u001b[49m\n\u001b[0;32m     20\u001b[0m \u001b[38;5;28mprint\u001b[39m(pyo\u001b[38;5;241m.\u001b[39mvalue(model\u001b[38;5;241m.\u001b[39mx))\n\u001b[0;32m     21\u001b[0m \u001b[38;5;28mprint\u001b[39m(pyo\u001b[38;5;241m.\u001b[39mvalue(model\u001b[38;5;241m.\u001b[39my))\n",
      "File \u001b[1;32mc:\\Users\\bmurr\\CHE 498\\.venv\\Lib\\site-packages\\pyomo\\opt\\base\\solvers.py:628\u001b[0m, in \u001b[0;36mOptSolver.solve\u001b[1;34m(self, *args, **kwds)\u001b[0m\n\u001b[0;32m    626\u001b[0m     \u001b[38;5;28;01melif\u001b[39;00m \u001b[38;5;28mhasattr\u001b[39m(_status, \u001b[38;5;124m'\u001b[39m\u001b[38;5;124mlog\u001b[39m\u001b[38;5;124m'\u001b[39m) \u001b[38;5;129;01mand\u001b[39;00m _status\u001b[38;5;241m.\u001b[39mlog:\n\u001b[0;32m    627\u001b[0m         logger\u001b[38;5;241m.\u001b[39merror(\u001b[38;5;124m\"\u001b[39m\u001b[38;5;124mSolver log:\u001b[39m\u001b[38;5;130;01m\\n\u001b[39;00m\u001b[38;5;124m\"\u001b[39m \u001b[38;5;241m+\u001b[39m \u001b[38;5;28mstr\u001b[39m(_status\u001b[38;5;241m.\u001b[39mlog))\n\u001b[1;32m--> 628\u001b[0m     \u001b[38;5;28;01mraise\u001b[39;00m ApplicationError(\u001b[38;5;124m\"\u001b[39m\u001b[38;5;124mSolver (\u001b[39m\u001b[38;5;132;01m%s\u001b[39;00m\u001b[38;5;124m) did not exit normally\u001b[39m\u001b[38;5;124m\"\u001b[39m \u001b[38;5;241m%\u001b[39m \u001b[38;5;28mself\u001b[39m\u001b[38;5;241m.\u001b[39mname)\n\u001b[0;32m    629\u001b[0m solve_completion_time \u001b[38;5;241m=\u001b[39m time\u001b[38;5;241m.\u001b[39mtime()\n\u001b[0;32m    630\u001b[0m \u001b[38;5;28;01mif\u001b[39;00m \u001b[38;5;28mself\u001b[39m\u001b[38;5;241m.\u001b[39m_report_timing:\n",
      "\u001b[1;31mApplicationError\u001b[0m: Solver (ipopt) did not exit normally"
     ]
    }
   ],
   "source": [
    "import pyomo.environ as pyo\n",
    "\n",
    "model = pyo.ConcreteModel()\n",
    "\n",
    "model.x = pyo.Var(initialize=5.0, bounds=(1,None))\n",
    "model.y = pyo.Var(initialize=5.0)\n",
    "\n",
    "def obj_rule(m):\n",
    "    return (m.x-1.01)**2 + m.y**2\n",
    "model.obj = pyo.Objective(rule=obj_rule)\n",
    "\n",
    "def con_rule(m):\n",
    "    return m.y == pyo.sqrt(m.x - 1.0)\n",
    "model.con = pyo.Constraint(rule=con_rule)\n",
    "\n",
    "solver = pyo.SolverFactory('ipopt')\n",
    "solver.options['halt_on_ampl_error'] = 'yes'\n",
    "solver.solve(model, tee=True)\n",
    "\n",
    "print(pyo.value(model.x))\n",
    "print(pyo.value(model.y))\n"
   ]
  },
  {
   "cell_type": "markdown",
   "metadata": {},
   "source": [
    "(c) Think about other solutions for this problem. (e.g., $x \\geq 1.001$)."
   ]
  },
  {
   "cell_type": "code",
   "execution_count": 5,
   "metadata": {},
   "outputs": [
    {
     "name": "stdout",
     "output_type": "stream",
     "text": [
      "Ipopt 3.9.1: halt_on_ampl_error=yes\n",
      "\n",
      "\n",
      "******************************************************************************\n",
      "This program contains Ipopt, a library for large-scale nonlinear optimization.\n",
      " Ipopt is released as open source code under the Common Public License (CPL).\n",
      "         For more information visit http://projects.coin-or.org/Ipopt\n",
      "******************************************************************************\n",
      "\n",
      "NOTE: You are using Ipopt by default with the MUMPS linear solver.\n",
      "      Other linear solvers might be more efficient (see Ipopt documentation).\n",
      "\n",
      "\n",
      "This is Ipopt version 3.9.1, running with linear solver mumps.\n",
      "\n",
      "Number of nonzeros in equality constraint Jacobian...:        2\n",
      "Number of nonzeros in inequality constraint Jacobian.:        0\n",
      "Number of nonzeros in Lagrangian Hessian.............:        2\n",
      "\n",
      "Total number of variables............................:        2\n",
      "                     variables with only lower bounds:        1\n",
      "                variables with lower and upper bounds:        0\n",
      "                     variables with only upper bounds:        0\n",
      "Total number of equality constraints.................:        1\n",
      "Total number of inequality constraints...............:        0\n",
      "        inequality constraints with only lower bounds:        0\n",
      "   inequality constraints with lower and upper bounds:        0\n",
      "        inequality constraints with only upper bounds:        0\n",
      "\n",
      "iter    objective    inf_pr   inf_du lg(mu)  ||d||  lg(rg) alpha_du alpha_pr  ls\n",
      "   0 4.0920100e+001 3.00e+000 8.92e+000  -1.0 0.00e+000    -  0.00e+000 0.00e+000   0\n",
      "   1 1.3985928e+000 9.80e-001 4.51e+000  -1.0 4.20e+000    -  1.00e+000 9.43e-001f  1\n",
      "   2 1.3200328e+000 4.52e-001 1.00e+001  -1.0 3.56e-001   2.0 1.31e-001 1.00e+000f  1\n",
      "   3 3.3527706e-001 1.13e-002 1.27e+000  -1.0 5.60e-001    -  1.00e+000 1.00e+000f  1\n",
      "   4 4.9066403e-003 4.74e-002 2.52e-002  -1.0 3.83e-001    -  1.00e+000 1.00e+000F  1\n",
      "   5 4.4928608e-003 2.36e-002 7.26e-001  -2.5 1.19e-002    -  1.00e+000 1.00e+000h  1\n",
      "   6 5.9528153e-003 7.95e-003 5.53e-001  -2.5 1.04e-002    -  1.00e+000 1.00e+000h  1\n",
      "   7 3.2290130e-003 1.43e-003 4.99e-003  -2.5 2.06e-002    -  1.00e+000 1.00e+000h  1\n",
      "   8 1.5403307e-003 3.85e-003 1.04e-001  -3.8 1.82e-002    -  1.00e+000 1.00e+000h  1\n",
      "   9 1.2315611e-003 2.80e-006 1.34e-003  -3.8 4.28e-003    -  1.00e+000 1.00e+000h  1\n",
      "iter    objective    inf_pr   inf_du lg(mu)  ||d||  lg(rg) alpha_du alpha_pr  ls\n",
      "  10 1.0880355e-003 7.80e-005 2.46e-003  -5.7 2.23e-003    -  1.00e+000 1.00e+000h  1\n",
      "  11 1.0828351e-003 2.74e-010 3.15e-007  -5.7 8.21e-005    -  1.00e+000 1.00e+000h  1\n",
      "  12 1.0809936e-003 1.39e-008 4.39e-007  -8.6 2.96e-005    -  1.00e+000 1.00e+000h  1\n",
      "  13 1.0809927e-003 1.34e-015 6.88e-014  -8.6 1.40e-008    -  1.00e+000 1.00e+000h  1\n",
      "\n",
      "Number of Iterations....: 13\n",
      "\n",
      "                                   (scaled)                 (unscaled)\n",
      "Objective...............:  1.0809926760836025e-003   1.0809926760836025e-003\n",
      "Dual infeasibility......:  6.8833827526759706e-014   6.8833827526759706e-014\n",
      "Constraint violation....:  1.3392065234540951e-015   1.3392065234540951e-015\n",
      "Complementarity.........:  2.5059036424968433e-009   2.5059036424968433e-009\n",
      "Overall NLP error.......:  2.5059036424968433e-009   2.5059036424968433e-009\n",
      "\n",
      "\n",
      "Number of objective function evaluations             = 15\n",
      "Number of objective gradient evaluations             = 14\n",
      "Number of equality constraint evaluations            = 15\n",
      "Number of inequality constraint evaluations          = 0\n",
      "Number of equality constraint Jacobian evaluations   = 14\n",
      "Number of inequality constraint Jacobian evaluations = 0\n",
      "Number of Lagrangian Hessian evaluations             = 13\n",
      "Total CPU secs in IPOPT (w/o function evaluations)   =      0.005\n",
      "Total CPU secs in NLP function evaluations           =      0.000\n",
      "\n",
      "EXIT: Optimal Solution Found.\n",
      "1.001\n",
      "0.0316226586775465\n"
     ]
    }
   ],
   "source": [
    "import pyomo.environ as pyo\n",
    "\n",
    "model = pyo.ConcreteModel()\n",
    "\n",
    "model.x = pyo.Var(initialize=5.0, bounds=(1.001,None))\n",
    "model.y = pyo.Var(initialize=5.0)\n",
    "\n",
    "def obj_rule(m):\n",
    "    return (m.x-1.01)**2 + m.y**2\n",
    "model.obj = pyo.Objective(rule=obj_rule)\n",
    "\n",
    "def con_rule(m):\n",
    "    return m.y == pyo.sqrt(m.x - 1.0)\n",
    "model.con = pyo.Constraint(rule=con_rule)\n",
    "\n",
    "\n",
    "solver = pyo.SolverFactory('ipopt')\n",
    "solver.options['halt_on_ampl_error'] = 'yes'\n",
    "solver.solve(model, tee=True)\n",
    "\n",
    "print(pyo.value(model.x))\n",
    "print(pyo.value(model.y))\n"
   ]
  }
 ],
 "metadata": {
  "kernelspec": {
   "display_name": ".venv",
   "language": "python",
   "name": "python3"
  },
  "language_info": {
   "codemirror_mode": {
    "name": "ipython",
    "version": 3
   },
   "file_extension": ".py",
   "mimetype": "text/x-python",
   "name": "python",
   "nbconvert_exporter": "python",
   "pygments_lexer": "ipython3",
   "version": "3.12.3"
  }
 },
 "nbformat": 4,
 "nbformat_minor": 2
}