{
 "cells": [
  {
   "cell_type": "code",
   "execution_count": 1,
   "metadata": {},
   "outputs": [
    {
     "name": "stdout",
     "output_type": "stream",
     "text": [
      "x_init, y_init, x_soln, y_soln\n",
      "WARNING: Could not locate the 'ipopt' executable, which is required for solver\n",
      "ipopt\n"
     ]
    },
    {
     "ename": "ApplicationError",
     "evalue": "No executable found for solver 'ipopt'",
     "output_type": "error",
     "traceback": [
      "\u001b[1;31m---------------------------------------------------------------------------\u001b[0m",
      "\u001b[1;31mApplicationError\u001b[0m                          Traceback (most recent call last)",
      "Cell \u001b[1;32mIn[1], line 21\u001b[0m\n\u001b[0;32m     18\u001b[0m model\u001b[38;5;241m.\u001b[39mx \u001b[38;5;241m=\u001b[39m x_init\n\u001b[0;32m     19\u001b[0m model\u001b[38;5;241m.\u001b[39my \u001b[38;5;241m=\u001b[39m \u001b[38;5;241m5.0\u001b[39m\n\u001b[1;32m---> 21\u001b[0m \u001b[43msolver\u001b[49m\u001b[38;5;241;43m.\u001b[39;49m\u001b[43msolve\u001b[49m\u001b[43m(\u001b[49m\u001b[43mmodel\u001b[49m\u001b[43m)\u001b[49m\n\u001b[0;32m     23\u001b[0m \u001b[38;5;28mprint\u001b[39m(\u001b[38;5;124m\"\u001b[39m\u001b[38;5;132;01m{0:6.2f}\u001b[39;00m\u001b[38;5;124m  \u001b[39m\u001b[38;5;132;01m{1:6.2f}\u001b[39;00m\u001b[38;5;124m  \u001b[39m\u001b[38;5;132;01m{2:6.2f}\u001b[39;00m\u001b[38;5;124m  \u001b[39m\u001b[38;5;132;01m{3:6.2f}\u001b[39;00m\u001b[38;5;124m\"\u001b[39m\u001b[38;5;241m.\u001b[39mformat(x_init, \\\n\u001b[0;32m     24\u001b[0m         y_init, pyo\u001b[38;5;241m.\u001b[39mvalue(model\u001b[38;5;241m.\u001b[39mx), pyo\u001b[38;5;241m.\u001b[39mvalue(model\u001b[38;5;241m.\u001b[39my)))\n",
      "File \u001b[1;32mc:\\Users\\bmurr\\CHE 498\\.venv\\Lib\\site-packages\\pyomo\\opt\\base\\solvers.py:534\u001b[0m, in \u001b[0;36mOptSolver.solve\u001b[1;34m(self, *args, **kwds)\u001b[0m\n\u001b[0;32m    531\u001b[0m \u001b[38;5;28;01mdef\u001b[39;00m \u001b[38;5;21msolve\u001b[39m(\u001b[38;5;28mself\u001b[39m, \u001b[38;5;241m*\u001b[39margs, \u001b[38;5;241m*\u001b[39m\u001b[38;5;241m*\u001b[39mkwds):\n\u001b[0;32m    532\u001b[0m \u001b[38;5;250m    \u001b[39m\u001b[38;5;124;03m\"\"\"Solve the problem\"\"\"\u001b[39;00m\n\u001b[1;32m--> 534\u001b[0m     \u001b[38;5;28;43mself\u001b[39;49m\u001b[38;5;241;43m.\u001b[39;49m\u001b[43mavailable\u001b[49m\u001b[43m(\u001b[49m\u001b[43mexception_flag\u001b[49m\u001b[38;5;241;43m=\u001b[39;49m\u001b[38;5;28;43;01mTrue\u001b[39;49;00m\u001b[43m)\u001b[49m\n\u001b[0;32m    535\u001b[0m     \u001b[38;5;66;03m#\u001b[39;00m\n\u001b[0;32m    536\u001b[0m     \u001b[38;5;66;03m# If the inputs are models, then validate that they have been\u001b[39;00m\n\u001b[0;32m    537\u001b[0m     \u001b[38;5;66;03m# constructed! Collect suffix names to try and import from solution.\u001b[39;00m\n\u001b[0;32m    538\u001b[0m     \u001b[38;5;66;03m#\u001b[39;00m\n\u001b[0;32m    539\u001b[0m     \u001b[38;5;28;01mfrom\u001b[39;00m \u001b[38;5;21;01mpyomo\u001b[39;00m\u001b[38;5;21;01m.\u001b[39;00m\u001b[38;5;21;01mcore\u001b[39;00m\u001b[38;5;21;01m.\u001b[39;00m\u001b[38;5;21;01mbase\u001b[39;00m\u001b[38;5;21;01m.\u001b[39;00m\u001b[38;5;21;01mblock\u001b[39;00m \u001b[38;5;28;01mimport\u001b[39;00m BlockData\n",
      "File \u001b[1;32mc:\\Users\\bmurr\\CHE 498\\.venv\\Lib\\site-packages\\pyomo\\opt\\solver\\shellcmd.py:140\u001b[0m, in \u001b[0;36mSystemCallSolver.available\u001b[1;34m(self, exception_flag)\u001b[0m\n\u001b[0;32m    138\u001b[0m     \u001b[38;5;28;01mif\u001b[39;00m exception_flag:\n\u001b[0;32m    139\u001b[0m         msg \u001b[38;5;241m=\u001b[39m \u001b[38;5;124m\"\u001b[39m\u001b[38;5;124mNo executable found for solver \u001b[39m\u001b[38;5;124m'\u001b[39m\u001b[38;5;132;01m%s\u001b[39;00m\u001b[38;5;124m'\u001b[39m\u001b[38;5;124m\"\u001b[39m\n\u001b[1;32m--> 140\u001b[0m         \u001b[38;5;28;01mraise\u001b[39;00m ApplicationError(msg \u001b[38;5;241m%\u001b[39m \u001b[38;5;28mself\u001b[39m\u001b[38;5;241m.\u001b[39mname)\n\u001b[0;32m    141\u001b[0m     \u001b[38;5;28;01mreturn\u001b[39;00m \u001b[38;5;28;01mFalse\u001b[39;00m\n\u001b[0;32m    142\u001b[0m \u001b[38;5;28;01mreturn\u001b[39;00m \u001b[38;5;28;01mTrue\u001b[39;00m\n",
      "\u001b[1;31mApplicationError\u001b[0m: No executable found for solver 'ipopt'"
     ]
    }
   ],
   "source": [
    "# rosenbrock_script_loop.py: A Pyomo model for the Rosenbrock problem\n",
    "import pyomo.environ as pyo\n",
    "\n",
    "model = pyo.ConcreteModel()\n",
    "model.x = pyo.Var()\n",
    "model.y = pyo.Var()\n",
    "\n",
    "def rosenbrock(m):\n",
    "    return (1.0-m.x)**2 + 100.0*(m.y - m.x**2)**2\n",
    "model.obj = pyo.Objective(rule=rosenbrock, sense=pyo.minimize)\n",
    "\n",
    "\n",
    "solver = pyo.SolverFactory('ipopt')\n",
    "\n",
    "print('x_init, y_init, x_soln, y_soln')\n",
    "y_init = 5.0\n",
    "for x_init in range(2, 6):\n",
    "    model.x = x_init\n",
    "    model.y = 5.0\n",
    "\n",
    "    solver.solve(model)\n",
    "\n",
    "    print(\"{0:6.2f}  {1:6.2f}  {2:6.2f}  {3:6.2f}\".format(x_init, \\\n",
    "            y_init, pyo.value(model.x), pyo.value(model.y)))\n"
   ]
  }
 ],
 "metadata": {
  "language_info": {
   "codemirror_mode": {
    "name": "ipython",
    "version": 3
   },
   "file_extension": ".py",
   "mimetype": "text/x-python",
   "name": "python",
   "nbconvert_exporter": "python",
   "pygments_lexer": "ipython3",
   "version": "3.11.5"
  }
 },
 "nbformat": 4,
 "nbformat_minor": 2
}