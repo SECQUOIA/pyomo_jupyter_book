{
 "cells": [
  {
   "cell_type": "code",
   "execution_count": 1,
   "metadata": {},
   "outputs": [
    {
     "name": "stdout",
     "output_type": "stream",
     "text": [
      "WARNING: Could not locate the 'ipopt' executable, which is required for solver\n",
      "ipopt\n"
     ]
    },
    {
     "ename": "ApplicationError",
     "evalue": "No executable found for solver 'ipopt'",
     "output_type": "error",
     "traceback": [
      "\u001b[1;31m---------------------------------------------------------------------------\u001b[0m",
      "\u001b[1;31mApplicationError\u001b[0m                          Traceback (most recent call last)",
      "Cell \u001b[1;32mIn[1], line 36\u001b[0m\n\u001b[0;32m     30\u001b[0m model\u001b[38;5;241m.\u001b[39mcc_bal \u001b[38;5;241m=\u001b[39m pyo\u001b[38;5;241m.\u001b[39mConstraint(expr\u001b[38;5;241m=\u001b[39m(\u001b[38;5;241m0\u001b[39m \u001b[38;5;241m==\u001b[39m \u001b[38;5;241m-\u001b[39mmodel\u001b[38;5;241m.\u001b[39msv \u001b[38;5;241m*\u001b[39m model\u001b[38;5;241m.\u001b[39mcc \\\n\u001b[0;32m     31\u001b[0m                  \u001b[38;5;241m+\u001b[39m k2 \u001b[38;5;241m*\u001b[39m model\u001b[38;5;241m.\u001b[39mcb))\n\u001b[0;32m     33\u001b[0m model\u001b[38;5;241m.\u001b[39mcd_bal \u001b[38;5;241m=\u001b[39m pyo\u001b[38;5;241m.\u001b[39mConstraint(expr\u001b[38;5;241m=\u001b[39m(\u001b[38;5;241m0\u001b[39m \u001b[38;5;241m==\u001b[39m \u001b[38;5;241m-\u001b[39mmodel\u001b[38;5;241m.\u001b[39msv \u001b[38;5;241m*\u001b[39m model\u001b[38;5;241m.\u001b[39mcd \\\n\u001b[0;32m     34\u001b[0m                  \u001b[38;5;241m+\u001b[39m k3 \u001b[38;5;241m*\u001b[39m model\u001b[38;5;241m.\u001b[39mca \u001b[38;5;241m*\u001b[39m\u001b[38;5;241m*\u001b[39m \u001b[38;5;241m2.0\u001b[39m))\n\u001b[1;32m---> 36\u001b[0m \u001b[43mpyo\u001b[49m\u001b[38;5;241;43m.\u001b[39;49m\u001b[43mSolverFactory\u001b[49m\u001b[43m(\u001b[49m\u001b[38;5;124;43m'\u001b[39;49m\u001b[38;5;124;43mipopt\u001b[39;49m\u001b[38;5;124;43m'\u001b[39;49m\u001b[43m)\u001b[49m\u001b[38;5;241;43m.\u001b[39;49m\u001b[43msolve\u001b[49m\u001b[43m(\u001b[49m\u001b[43mmodel\u001b[49m\u001b[43m)\u001b[49m\n\u001b[0;32m     37\u001b[0m model\u001b[38;5;241m.\u001b[39mpprint()\n",
      "File \u001b[1;32mc:\\Users\\bmurr\\CHE 498\\.venv\\Lib\\site-packages\\pyomo\\opt\\base\\solvers.py:534\u001b[0m, in \u001b[0;36mOptSolver.solve\u001b[1;34m(self, *args, **kwds)\u001b[0m\n\u001b[0;32m    531\u001b[0m \u001b[38;5;28;01mdef\u001b[39;00m \u001b[38;5;21msolve\u001b[39m(\u001b[38;5;28mself\u001b[39m, \u001b[38;5;241m*\u001b[39margs, \u001b[38;5;241m*\u001b[39m\u001b[38;5;241m*\u001b[39mkwds):\n\u001b[0;32m    532\u001b[0m \u001b[38;5;250m    \u001b[39m\u001b[38;5;124;03m\"\"\"Solve the problem\"\"\"\u001b[39;00m\n\u001b[1;32m--> 534\u001b[0m     \u001b[38;5;28;43mself\u001b[39;49m\u001b[38;5;241;43m.\u001b[39;49m\u001b[43mavailable\u001b[49m\u001b[43m(\u001b[49m\u001b[43mexception_flag\u001b[49m\u001b[38;5;241;43m=\u001b[39;49m\u001b[38;5;28;43;01mTrue\u001b[39;49;00m\u001b[43m)\u001b[49m\n\u001b[0;32m    535\u001b[0m     \u001b[38;5;66;03m#\u001b[39;00m\n\u001b[0;32m    536\u001b[0m     \u001b[38;5;66;03m# If the inputs are models, then validate that they have been\u001b[39;00m\n\u001b[0;32m    537\u001b[0m     \u001b[38;5;66;03m# constructed! Collect suffix names to try and import from solution.\u001b[39;00m\n\u001b[0;32m    538\u001b[0m     \u001b[38;5;66;03m#\u001b[39;00m\n\u001b[0;32m    539\u001b[0m     \u001b[38;5;28;01mfrom\u001b[39;00m \u001b[38;5;21;01mpyomo\u001b[39;00m\u001b[38;5;21;01m.\u001b[39;00m\u001b[38;5;21;01mcore\u001b[39;00m\u001b[38;5;21;01m.\u001b[39;00m\u001b[38;5;21;01mbase\u001b[39;00m\u001b[38;5;21;01m.\u001b[39;00m\u001b[38;5;21;01mblock\u001b[39;00m \u001b[38;5;28;01mimport\u001b[39;00m BlockData\n",
      "File \u001b[1;32mc:\\Users\\bmurr\\CHE 498\\.venv\\Lib\\site-packages\\pyomo\\opt\\solver\\shellcmd.py:140\u001b[0m, in \u001b[0;36mSystemCallSolver.available\u001b[1;34m(self, exception_flag)\u001b[0m\n\u001b[0;32m    138\u001b[0m     \u001b[38;5;28;01mif\u001b[39;00m exception_flag:\n\u001b[0;32m    139\u001b[0m         msg \u001b[38;5;241m=\u001b[39m \u001b[38;5;124m\"\u001b[39m\u001b[38;5;124mNo executable found for solver \u001b[39m\u001b[38;5;124m'\u001b[39m\u001b[38;5;132;01m%s\u001b[39;00m\u001b[38;5;124m'\u001b[39m\u001b[38;5;124m\"\u001b[39m\n\u001b[1;32m--> 140\u001b[0m         \u001b[38;5;28;01mraise\u001b[39;00m ApplicationError(msg \u001b[38;5;241m%\u001b[39m \u001b[38;5;28mself\u001b[39m\u001b[38;5;241m.\u001b[39mname)\n\u001b[0;32m    141\u001b[0m     \u001b[38;5;28;01mreturn\u001b[39;00m \u001b[38;5;28;01mFalse\u001b[39;00m\n\u001b[0;32m    142\u001b[0m \u001b[38;5;28;01mreturn\u001b[39;00m \u001b[38;5;28;01mTrue\u001b[39;00m\n",
      "\u001b[1;31mApplicationError\u001b[0m: No executable found for solver 'ipopt'"
     ]
    }
   ],
   "source": [
    "import pyomo.environ as pyo\n",
    "\n",
    "# create the concrete model\n",
    "model = pyo.ConcreteModel()\n",
    "\n",
    "# set the data (native python data)\n",
    "k1 = 5.0/6.0     # min^-1\n",
    "k2 = 5.0/3.0     # min^-1\n",
    "k3 = 1.0/6000.0  # m^3/(gmol min)\n",
    "caf = 10000.0    # gmol/m^3\n",
    "\n",
    "# create the variables\n",
    "model.sv = pyo.Var(initialize = 1.0, within=pyo.PositiveReals)\n",
    "model.ca = pyo.Var(initialize = 5000.0, within=pyo.PositiveReals)\n",
    "model.cb = pyo.Var(initialize = 2000.0, within=pyo.PositiveReals)\n",
    "model.cc = pyo.Var(initialize = 2000.0, within=pyo.PositiveReals)\n",
    "model.cd = pyo.Var(initialize = 1000.0, within=pyo.PositiveReals)\n",
    "\n",
    "# create the objective\n",
    "model.obj = pyo.Objective(expr = model.cb, sense=pyo.maximize)\n",
    "\n",
    "# create the constraints\n",
    "model.ca_bal = pyo.Constraint(expr = (0 == model.sv * caf \\\n",
    "                 - model.sv * model.ca - k1 * model.ca \\\n",
    "                 -  2.0 * k3 * model.ca ** 2.0))\n",
    "\n",
    "model.cb_bal = pyo.Constraint(expr=(0 == -model.sv * model.cb \\\n",
    "                 + k1 * model.ca - k2 * model.cb))\n",
    "\n",
    "model.cc_bal = pyo.Constraint(expr=(0 == -model.sv * model.cc \\\n",
    "                 + k2 * model.cb))\n",
    "\n",
    "model.cd_bal = pyo.Constraint(expr=(0 == -model.sv * model.cd \\\n",
    "                 + k3 * model.ca ** 2.0))\n",
    "\n",
    "pyo.SolverFactory('ipopt').solve(model)\n",
    "model.pprint()\n"
   ]
  }
 ],
 "metadata": {
  "language_info": {
   "codemirror_mode": {
    "name": "ipython",
    "version": 3
   },
   "file_extension": ".py",
   "mimetype": "text/x-python",
   "name": "python",
   "nbconvert_exporter": "python",
   "pygments_lexer": "ipython3",
   "version": "3.11.5"
  }
 },
 "nbformat": 4,
 "nbformat_minor": 2
}