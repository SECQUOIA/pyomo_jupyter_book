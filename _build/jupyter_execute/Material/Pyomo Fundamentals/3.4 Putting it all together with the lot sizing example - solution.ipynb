{
 "cells": [
  {
   "cell_type": "code",
   "execution_count": 1,
   "metadata": {},
   "outputs": [
    {
     "name": "stdout",
     "output_type": "stream",
     "text": [
      "Period: 1, Prod. Amount: 3.0\n",
      "Period: 2, Prod. Amount: 5.0\n",
      "Period: 3, Prod. Amount: 5.0\n",
      "Period: 4, Prod. Amount: 5.0\n",
      "Period: 5, Prod. Amount: 0.0\n"
     ]
    }
   ],
   "source": [
    "import pyomo.environ as pyo\n",
    "\n",
    "model = pyo.ConcreteModel()\n",
    "model.T = pyo.RangeSet(5)    # time periods\n",
    "\n",
    "i0 = 5.0           # initial inventory\n",
    "c = 4.6            # setup cost\n",
    "h_pos = 0.7        # inventory holding cost\n",
    "h_neg = 1.2        # shortage cost\n",
    "P = 5.0            # maximum production amount\n",
    "\n",
    "# demand during period t\n",
    "d = {1: 5.0, 2:7.0, 3:6.2, 4:3.1, 5:1.7}\n",
    "\n",
    "# define the variables\n",
    "model.y = pyo.Var(model.T, domain=pyo.Binary)\n",
    "model.x = pyo.Var(model.T, domain=pyo.NonNegativeReals)\n",
    "model.i = pyo.Var(model.T)\n",
    "model.i_pos = pyo.Var(model.T, domain=pyo.NonNegativeReals)\n",
    "model.i_neg = pyo.Var(model.T, domain=pyo.NonNegativeReals)\n",
    "\n",
    "# define the inventory relationships\n",
    "def inventory_rule(m, t):\n",
    "    if t == m.T.first():\n",
    "        return m.i[t] == i0 + m.x[t] - d[t]\n",
    "    return m.i[t] == m.i[t-1] + m.x[t] - d[t]\n",
    "model.inventory = pyo.Constraint(model.T, rule=inventory_rule)\n",
    "\n",
    "def pos_neg_rule(m, t):\n",
    "    return m.i[t] == m.i_pos[t] - m.i_neg[t]\n",
    "model.pos_neg = pyo.Constraint(model.T, rule=pos_neg_rule)\n",
    "\n",
    "# create the big-M constraint for the production indicator variable\n",
    "def prod_indicator_rule(m,t):\n",
    "    return m.x[t] <= P*m.y[t]\n",
    "model.prod_indicator = pyo.Constraint(model.T, rule=prod_indicator_rule)\n",
    "\n",
    "# define the cost function\n",
    "def obj_rule(m):\n",
    "    return sum(c*m.y[t] + h_pos*m.i_pos[t] + h_neg*m.i_neg[t] for t in m.T)\n",
    "model.obj = pyo.Objective(rule=obj_rule)\n",
    "\n",
    "# solve the problem\n",
    "solver = pyo.SolverFactory('glpk')\n",
    "solver.solve(model)\n",
    "\n",
    "# print the results\n",
    "for t in model.T:\n",
    "    print('Period: {0}, Prod. Amount: {1}'.format(t, pyo.value(model.x[t]))) \n"
   ]
  }
 ],
 "metadata": {
  "language_info": {
   "codemirror_mode": {
    "name": "ipython",
    "version": 3
   },
   "file_extension": ".py",
   "mimetype": "text/x-python",
   "name": "python",
   "nbconvert_exporter": "python",
   "pygments_lexer": "ipython3",
   "version": "3.11.5"
  }
 },
 "nbformat": 4,
 "nbformat_minor": 2
}