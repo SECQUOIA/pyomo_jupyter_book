{
 "cells": [
  {
   "cell_type": "code",
   "execution_count": 1,
   "metadata": {},
   "outputs": [
    {
     "name": "stdout",
     "output_type": "stream",
     "text": [
      "y : Size=3, Index={Harlingen, Memphis, Ashland}\n",
      "    Key       : Lower : Value : Upper : Fixed : Stale : Domain\n",
      "      Ashland :     0 :   1.0 :     1 : False : False : Binary\n",
      "    Harlingen :     0 :   1.0 :     1 : False : False : Binary\n",
      "      Memphis :     0 :   0.0 :     1 : False : False : Binary\n",
      "x : Size=12, Index={Harlingen, Memphis, Ashland}*{NYC, LA, Chicago, Houston}\n",
      "    Key                      : Lower : Value : Upper : Fixed : Stale : Domain\n",
      "      ('Ashland', 'Chicago') :     0 :   1.0 :     1 : False : False :  Reals\n",
      "      ('Ashland', 'Houston') :     0 :   0.0 :     1 : False : False :  Reals\n",
      "           ('Ashland', 'LA') :     0 :   0.0 :     1 : False : False :  Reals\n",
      "          ('Ashland', 'NYC') :     0 :   1.0 :     1 : False : False :  Reals\n",
      "    ('Harlingen', 'Chicago') :     0 :   0.0 :     1 : False : False :  Reals\n",
      "    ('Harlingen', 'Houston') :     0 :   1.0 :     1 : False : False :  Reals\n",
      "         ('Harlingen', 'LA') :     0 :   1.0 :     1 : False : False :  Reals\n",
      "        ('Harlingen', 'NYC') :     0 :   0.0 :     1 : False : False :  Reals\n",
      "      ('Memphis', 'Chicago') :     0 :   0.0 :     1 : False : False :  Reals\n",
      "      ('Memphis', 'Houston') :     0 :   0.0 :     1 : False : False :  Reals\n",
      "           ('Memphis', 'LA') :     0 :   0.0 :     1 : False : False :  Reals\n",
      "          ('Memphis', 'NYC') :     0 :   0.0 :     1 : False : False :  Reals\n"
     ]
    }
   ],
   "source": [
    "# Warehouse location determination problem using decorator notation\n",
    "import pyomo.environ as pyo\n",
    "\n",
    "model = pyo.ConcreteModel(name=\"(WL)\")\n",
    "\n",
    "W = ['Harlingen', 'Memphis', 'Ashland']\n",
    "C = ['NYC', 'LA', 'Chicago', 'Houston']\n",
    "d = {('Harlingen', 'NYC'): 1956, \\\n",
    "     ('Harlingen', 'LA'): 1606, \\\n",
    "     ('Harlingen', 'Chicago'): 1410, \\\n",
    "     ('Harlingen', 'Houston'): 330, \\\n",
    "     ('Memphis', 'NYC'): 1096, \\\n",
    "     ('Memphis', 'LA'): 1792, \\\n",
    "     ('Memphis', 'Chicago'): 531, \\\n",
    "     ('Memphis', 'Houston'): 567, \\\n",
    "     ('Ashland', 'NYC'): 485, \\\n",
    "     ('Ashland', 'LA'): 2322, \\\n",
    "     ('Ashland', 'Chicago'): 324, \\\n",
    "     ('Ashland', 'Houston'): 1236 }\n",
    "P = 2\n",
    "\n",
    "model.x = pyo.Var(W, C, bounds=(0,1))\n",
    "model.y = pyo.Var(W, within=pyo.Binary)\n",
    "\n",
    "@model.Objective()\n",
    "def obj(m):\n",
    "    return sum(d[w,c]*m.x[w,c] for w in W for c in C)\n",
    "\n",
    "@model.Constraint(C)\n",
    "def one_per_cust(m, c):\n",
    "    return sum(m.x[w,c] for w in W) == 1\n",
    "\n",
    "@model.Constraint(W,C)\n",
    "def warehouse_active(m, w, c):\n",
    "    return m.x[w,c] <= m.y[w]\n",
    "\n",
    "@model.Constraint()\n",
    "def num_warehouses(m):\n",
    "    return sum(m.y[w] for w in W) <= P\n",
    "\n",
    "pyo.SolverFactory('glpk').solve(model)\n",
    "\n",
    "model.y.pprint()\n",
    "model.x.pprint()"
   ]
  }
 ],
 "metadata": {
  "language_info": {
   "codemirror_mode": {
    "name": "ipython",
    "version": 3
   },
   "file_extension": ".py",
   "mimetype": "text/x-python",
   "name": "python",
   "nbconvert_exporter": "python",
   "pygments_lexer": "ipython3",
   "version": "3.11.5"
  }
 },
 "nbformat": 4,
 "nbformat_minor": 2
}