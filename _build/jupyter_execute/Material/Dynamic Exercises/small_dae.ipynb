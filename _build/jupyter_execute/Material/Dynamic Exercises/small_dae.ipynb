{
 "cells": [
  {
   "cell_type": "markdown",
   "metadata": {},
   "source": [
    "#### Small Dae Example"
   ]
  },
  {
   "cell_type": "code",
   "execution_count": 1,
   "metadata": {},
   "outputs": [
    {
     "name": "stdout",
     "output_type": "stream",
     "text": [
      "WARNING: Failed to create solver with name 'ipopt': Failed to set executable\n",
      "for solver ipopt. File with\n",
      "name=/home/runner/work/pyomo_jupyter_book/pyomo_jupyter_book/solvers/ipopt\n",
      "either does not exist or it is not executable. To skip this validation, call\n",
      "set_executable with validate=False.\n",
      "Traceback (most recent call last):\n",
      "  File \"/home/murraybj/CHE498/pyomo_jupyter_book/.venv/lib/python3.10/site-packages/pyomo/opt/base/solvers.py\", line 148, in __call__\n",
      "    opt = self._cls[_name](**kwds)\n",
      "  File \"/home/murraybj/CHE498/pyomo_jupyter_book/.venv/lib/python3.10/site-packages/pyomo/solvers/plugins/solvers/IPOPT.py\", line 44, in __init__\n",
      "    super(IPOPT, self).__init__(**kwds)\n",
      "  File \"/home/murraybj/CHE498/pyomo_jupyter_book/.venv/lib/python3.10/site-packages/pyomo/opt/solver/shellcmd.py\", line 66, in __init__\n",
      "    self.set_executable(name=executable, validate=validate)\n",
      "  File \"/home/murraybj/CHE498/pyomo_jupyter_book/.venv/lib/python3.10/site-packages/pyomo/opt/solver/shellcmd.py\", line 115, in set_executable\n",
      "    raise ValueError(\n",
      "ValueError: Failed to set executable for solver ipopt. File with name=/home/runner/work/pyomo_jupyter_book/pyomo_jupyter_book/solvers/ipopt either does not exist or it is not executable. To skip this validation, call set_executable with validate=False.\n"
     ]
    },
    {
     "ename": "RuntimeError",
     "evalue": "Attempting to use an unavailable solver.\n\nThe SolverFactory was unable to create the solver \"ipopt\"\nand returned an UnknownSolver object.  This error is raised at the point\nwhere the UnknownSolver object was used as if it were valid (by calling\nmethod \"solve\").\n\nThe original solver was created with the following parameters:\n\texecutable: /home/runner/work/pyomo_jupyter_book/pyomo_jupyter_book/solvers/ipopt\n\ttype: ipopt\n\t_args: ()\n\toptions: {}",
     "output_type": "error",
     "traceback": [
      "\u001b[0;31m---------------------------------------------------------------------------\u001b[0m",
      "\u001b[0;31mRuntimeError\u001b[0m                              Traceback (most recent call last)",
      "Cell \u001b[0;32mIn[1], line 32\u001b[0m\n\u001b[1;32m     30\u001b[0m ipopt_runner_path \u001b[38;5;241m=\u001b[39m \u001b[38;5;124m\"\u001b[39m\u001b[38;5;124m/home/runner/work/pyomo_jupyter_book/pyomo_jupyter_book/solvers/ipopt\u001b[39m\u001b[38;5;124m\"\u001b[39m\n\u001b[1;32m     31\u001b[0m solver \u001b[38;5;241m=\u001b[39m pyo\u001b[38;5;241m.\u001b[39mSolverFactory(\u001b[38;5;124m'\u001b[39m\u001b[38;5;124mipopt\u001b[39m\u001b[38;5;124m'\u001b[39m, executable\u001b[38;5;241m=\u001b[39mipopt_runner_path)\n\u001b[0;32m---> 32\u001b[0m \u001b[43msolver\u001b[49m\u001b[38;5;241;43m.\u001b[39;49m\u001b[43msolve\u001b[49m\u001b[43m(\u001b[49m\u001b[43mm\u001b[49m\u001b[43m,\u001b[49m\u001b[43mtee\u001b[49m\u001b[38;5;241;43m=\u001b[39;49m\u001b[38;5;28;43;01mTrue\u001b[39;49;00m\u001b[43m)\u001b[49m\n\u001b[1;32m     34\u001b[0m \u001b[38;5;28;01mimport\u001b[39;00m \u001b[38;5;21;01mmatplotlib\u001b[39;00m\u001b[38;5;21;01m.\u001b[39;00m\u001b[38;5;21;01mpyplot\u001b[39;00m \u001b[38;5;28;01mas\u001b[39;00m \u001b[38;5;21;01mplt\u001b[39;00m\n\u001b[1;32m     36\u001b[0m analytical_t \u001b[38;5;241m=\u001b[39m [\u001b[38;5;241m0.01\u001b[39m\u001b[38;5;241m*\u001b[39mi \u001b[38;5;28;01mfor\u001b[39;00m i \u001b[38;5;129;01min\u001b[39;00m \u001b[38;5;28mrange\u001b[39m(\u001b[38;5;241m0\u001b[39m,\u001b[38;5;241m101\u001b[39m)]\n",
      "File \u001b[0;32m~/CHE498/pyomo_jupyter_book/.venv/lib/python3.10/site-packages/pyomo/opt/base/solvers.py:99\u001b[0m, in \u001b[0;36mUnknownSolver.solve\u001b[0;34m(self, *args, **kwds)\u001b[0m\n\u001b[1;32m     97\u001b[0m \u001b[38;5;28;01mdef\u001b[39;00m \u001b[38;5;21msolve\u001b[39m(\u001b[38;5;28mself\u001b[39m, \u001b[38;5;241m*\u001b[39margs, \u001b[38;5;241m*\u001b[39m\u001b[38;5;241m*\u001b[39mkwds):\n\u001b[1;32m     98\u001b[0m \u001b[38;5;250m    \u001b[39m\u001b[38;5;124;03m\"\"\"Perform optimization and return an SolverResults object.\"\"\"\u001b[39;00m\n\u001b[0;32m---> 99\u001b[0m     \u001b[38;5;28;43mself\u001b[39;49m\u001b[38;5;241;43m.\u001b[39;49m\u001b[43m_solver_error\u001b[49m\u001b[43m(\u001b[49m\u001b[38;5;124;43m'\u001b[39;49m\u001b[38;5;124;43msolve\u001b[39;49m\u001b[38;5;124;43m'\u001b[39;49m\u001b[43m)\u001b[49m\n",
      "File \u001b[0;32m~/CHE498/pyomo_jupyter_book/.venv/lib/python3.10/site-packages/pyomo/opt/base/solvers.py:116\u001b[0m, in \u001b[0;36mUnknownSolver._solver_error\u001b[0;34m(self, method_name)\u001b[0m\n\u001b[1;32m    115\u001b[0m     \u001b[38;5;28;01mdef\u001b[39;00m \u001b[38;5;21m_solver_error\u001b[39m(\u001b[38;5;28mself\u001b[39m, method_name):\n\u001b[0;32m--> 116\u001b[0m         \u001b[38;5;28;01mraise\u001b[39;00m \u001b[38;5;167;01mRuntimeError\u001b[39;00m(\n\u001b[1;32m    117\u001b[0m \u001b[38;5;250m            \u001b[39m\u001b[38;5;124;03m\"\"\"Attempting to use an unavailable solver.\u001b[39;00m\n\u001b[1;32m    118\u001b[0m \n\u001b[1;32m    119\u001b[0m \u001b[38;5;124;03mThe SolverFactory was unable to create the solver \"%s\"\u001b[39;00m\n\u001b[1;32m    120\u001b[0m \u001b[38;5;124;03mand returned an UnknownSolver object.  This error is raised at the point\u001b[39;00m\n\u001b[1;32m    121\u001b[0m \u001b[38;5;124;03mwhere the UnknownSolver object was used as if it were valid (by calling\u001b[39;00m\n\u001b[1;32m    122\u001b[0m \u001b[38;5;124;03mmethod \"%s\").\u001b[39;00m\n\u001b[1;32m    123\u001b[0m \n\u001b[1;32m    124\u001b[0m \u001b[38;5;124;03mThe original solver was created with the following parameters:\u001b[39;00m\n\u001b[1;32m    125\u001b[0m \u001b[38;5;124;03m\\t\"\"\"\u001b[39;00m\n\u001b[1;32m    126\u001b[0m             \u001b[38;5;241m%\u001b[39m (\u001b[38;5;28mself\u001b[39m\u001b[38;5;241m.\u001b[39mtype, method_name)\n\u001b[1;32m    127\u001b[0m             \u001b[38;5;241m+\u001b[39m \u001b[38;5;124m\"\u001b[39m\u001b[38;5;130;01m\\n\u001b[39;00m\u001b[38;5;130;01m\\t\u001b[39;00m\u001b[38;5;124m\"\u001b[39m\u001b[38;5;241m.\u001b[39mjoin(\u001b[38;5;124m\"\u001b[39m\u001b[38;5;132;01m%s\u001b[39;00m\u001b[38;5;124m: \u001b[39m\u001b[38;5;132;01m%s\u001b[39;00m\u001b[38;5;124m\"\u001b[39m \u001b[38;5;241m%\u001b[39m i \u001b[38;5;28;01mfor\u001b[39;00m i \u001b[38;5;129;01min\u001b[39;00m \u001b[38;5;28msorted\u001b[39m(\u001b[38;5;28mself\u001b[39m\u001b[38;5;241m.\u001b[39m_kwds\u001b[38;5;241m.\u001b[39mitems()))\n\u001b[1;32m    128\u001b[0m             \u001b[38;5;241m+\u001b[39m \u001b[38;5;124m\"\u001b[39m\u001b[38;5;130;01m\\n\u001b[39;00m\u001b[38;5;130;01m\\t\u001b[39;00m\u001b[38;5;124m_args: \u001b[39m\u001b[38;5;132;01m%s\u001b[39;00m\u001b[38;5;124m\"\u001b[39m \u001b[38;5;241m%\u001b[39m (\u001b[38;5;28mself\u001b[39m\u001b[38;5;241m.\u001b[39m_args,)\n\u001b[1;32m    129\u001b[0m             \u001b[38;5;241m+\u001b[39m \u001b[38;5;124m\"\u001b[39m\u001b[38;5;130;01m\\n\u001b[39;00m\u001b[38;5;130;01m\\t\u001b[39;00m\u001b[38;5;124moptions: \u001b[39m\u001b[38;5;132;01m%s\u001b[39;00m\u001b[38;5;124m\"\u001b[39m \u001b[38;5;241m%\u001b[39m (\u001b[38;5;28mself\u001b[39m\u001b[38;5;241m.\u001b[39moptions,)\n\u001b[1;32m    130\u001b[0m         )\n",
      "\u001b[0;31mRuntimeError\u001b[0m: Attempting to use an unavailable solver.\n\nThe SolverFactory was unable to create the solver \"ipopt\"\nand returned an UnknownSolver object.  This error is raised at the point\nwhere the UnknownSolver object was used as if it were valid (by calling\nmethod \"solve\").\n\nThe original solver was created with the following parameters:\n\texecutable: /home/runner/work/pyomo_jupyter_book/pyomo_jupyter_book/solvers/ipopt\n\ttype: ipopt\n\t_args: ()\n\toptions: {}"
     ]
    }
   ],
   "source": [
    "import pyomo.environ as pyo\n",
    "from pyomo.dae import DerivativeVar, ContinuousSet\n",
    "\n",
    "model = m = pyo.ConcreteModel()\n",
    "\n",
    "m.t = ContinuousSet(bounds=(0,1))\n",
    "\n",
    "m.z = pyo.Var(m.t)\n",
    "m.dzdt = DerivativeVar(m.z)\n",
    "\n",
    "m.obj = pyo.Objective(expr=1) # Dummy Objective\n",
    "\n",
    "def _zdot(m, i):\n",
    "    return m.dzdt[i] == m.z[i]**2 - 2*m.z[i] +1\n",
    "m.zdot = pyo.Constraint(m.t,rule=_zdot)\n",
    "\n",
    "def _init_con(m):\n",
    "    return m.z[0] == -3\n",
    "m.init_con = pyo.Constraint(rule=_init_con)\n",
    "\n",
    "# Discretize using backward finite difference\n",
    "#discretizer = pyo.TransformationFactory('dae.finite_difference')\n",
    "#discretizer.apply_to(m, nfe=50, scheme='BACKWARD')\n",
    "\n",
    "# Discretize using collocation\n",
    "discretizer = pyo.TransformationFactory('dae.collocation')\n",
    "discretizer.apply_to(m, nfe=2, ncp=3 , scheme='LAGRANGE-RADAU')\n",
    "\n",
    "\n",
    "ipopt_runner_path = \"/home/runner/work/pyomo_jupyter_book/pyomo_jupyter_book/solvers/ipopt\"\n",
    "solver = pyo.SolverFactory('ipopt', executable=ipopt_runner_path)\n",
    "solver.solve(m,tee=True)\n",
    "\n",
    "import matplotlib.pyplot as plt\n",
    "\n",
    "analytical_t = [0.01*i for i in range(0,101)]\n",
    "analytical_z = [(4*t-3)/(4*t+1) for t in analytical_t]\n",
    "\n",
    "findiff_t = list(m.t)\n",
    "findiff_z = [pyo.value(m.z[i]) for i in m.t]\n",
    "\n",
    "plt.plot(analytical_t,analytical_z,'b',label='analytical solution')\n",
    "plt.plot(findiff_t,findiff_z,'ro--',label='pyomo.dae discretization solution')\n",
    "plt.legend(loc='best')\n",
    "plt.xlabel('t')\n",
    "plt.show()\n"
   ]
  }
 ],
 "metadata": {
  "kernelspec": {
   "display_name": ".venv",
   "language": "python",
   "name": "python3"
  },
  "language_info": {
   "codemirror_mode": {
    "name": "ipython",
    "version": 3
   },
   "file_extension": ".py",
   "mimetype": "text/x-python",
   "name": "python",
   "nbconvert_exporter": "python",
   "pygments_lexer": "ipython3",
   "version": "3.10.12"
  }
 },
 "nbformat": 4,
 "nbformat_minor": 2
}