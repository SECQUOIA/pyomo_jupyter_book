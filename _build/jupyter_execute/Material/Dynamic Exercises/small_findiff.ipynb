{
 "cells": [
  {
   "cell_type": "markdown",
   "metadata": {},
   "source": [
    "#### Small Find Diff example"
   ]
  },
  {
   "cell_type": "code",
   "execution_count": 1,
   "metadata": {},
   "outputs": [
    {
     "name": "stdout",
     "output_type": "stream",
     "text": [
      "WARNING: Could not locate the 'ipopt' executable, which is required for solver\n",
      "ipopt\n"
     ]
    },
    {
     "ename": "ApplicationError",
     "evalue": "No executable found for solver 'ipopt'",
     "output_type": "error",
     "traceback": [
      "\u001b[31m---------------------------------------------------------------------------\u001b[39m",
      "\u001b[31mApplicationError\u001b[39m                          Traceback (most recent call last)",
      "\u001b[36mCell\u001b[39m\u001b[36m \u001b[39m\u001b[32mIn[1]\u001b[39m\u001b[32m, line 28\u001b[39m\n\u001b[32m     25\u001b[39m m.init_con = pyo.Constraint(rule=_init_con)\n\u001b[32m     27\u001b[39m solver = pyo.SolverFactory(\u001b[33m'\u001b[39m\u001b[33mipopt\u001b[39m\u001b[33m'\u001b[39m)\n\u001b[32m---> \u001b[39m\u001b[32m28\u001b[39m \u001b[43msolver\u001b[49m\u001b[43m.\u001b[49m\u001b[43msolve\u001b[49m\u001b[43m(\u001b[49m\u001b[43mm\u001b[49m\u001b[43m,\u001b[49m\u001b[43mtee\u001b[49m\u001b[43m=\u001b[49m\u001b[38;5;28;43;01mTrue\u001b[39;49;00m\u001b[43m)\u001b[49m\n\u001b[32m     30\u001b[39m \u001b[38;5;28;01mimport\u001b[39;00m \u001b[34;01mmatplotlib\u001b[39;00m\u001b[34;01m.\u001b[39;00m\u001b[34;01mpyplot\u001b[39;00m \u001b[38;5;28;01mas\u001b[39;00m \u001b[34;01mplt\u001b[39;00m\n\u001b[32m     32\u001b[39m analytical_t = [\u001b[32m0.01\u001b[39m*i \u001b[38;5;28;01mfor\u001b[39;00m i \u001b[38;5;129;01min\u001b[39;00m \u001b[38;5;28mrange\u001b[39m(\u001b[32m0\u001b[39m,\u001b[32m101\u001b[39m)]\n",
      "\u001b[36mFile \u001b[39m\u001b[32m~/.local/lib/python3.12/site-packages/pyomo/opt/base/solvers.py:534\u001b[39m, in \u001b[36mOptSolver.solve\u001b[39m\u001b[34m(self, *args, **kwds)\u001b[39m\n\u001b[32m    531\u001b[39m \u001b[38;5;28;01mdef\u001b[39;00m \u001b[34msolve\u001b[39m(\u001b[38;5;28mself\u001b[39m, *args, **kwds):\n\u001b[32m    532\u001b[39m \u001b[38;5;250m    \u001b[39m\u001b[33;03m\"\"\"Solve the problem\"\"\"\u001b[39;00m\n\u001b[32m--> \u001b[39m\u001b[32m534\u001b[39m     \u001b[38;5;28;43mself\u001b[39;49m\u001b[43m.\u001b[49m\u001b[43mavailable\u001b[49m\u001b[43m(\u001b[49m\u001b[43mexception_flag\u001b[49m\u001b[43m=\u001b[49m\u001b[38;5;28;43;01mTrue\u001b[39;49;00m\u001b[43m)\u001b[49m\n\u001b[32m    535\u001b[39m     \u001b[38;5;66;03m#\u001b[39;00m\n\u001b[32m    536\u001b[39m     \u001b[38;5;66;03m# If the inputs are models, then validate that they have been\u001b[39;00m\n\u001b[32m    537\u001b[39m     \u001b[38;5;66;03m# constructed! Collect suffix names to try and import from solution.\u001b[39;00m\n\u001b[32m    538\u001b[39m     \u001b[38;5;66;03m#\u001b[39;00m\n\u001b[32m    539\u001b[39m     \u001b[38;5;28;01mfrom\u001b[39;00m \u001b[34;01mpyomo\u001b[39;00m\u001b[34;01m.\u001b[39;00m\u001b[34;01mcore\u001b[39;00m\u001b[34;01m.\u001b[39;00m\u001b[34;01mbase\u001b[39;00m\u001b[34;01m.\u001b[39;00m\u001b[34;01mblock\u001b[39;00m \u001b[38;5;28;01mimport\u001b[39;00m BlockData\n",
      "\u001b[36mFile \u001b[39m\u001b[32m~/.local/lib/python3.12/site-packages/pyomo/opt/solver/shellcmd.py:140\u001b[39m, in \u001b[36mSystemCallSolver.available\u001b[39m\u001b[34m(self, exception_flag)\u001b[39m\n\u001b[32m    138\u001b[39m     \u001b[38;5;28;01mif\u001b[39;00m exception_flag:\n\u001b[32m    139\u001b[39m         msg = \u001b[33m\"\u001b[39m\u001b[33mNo executable found for solver \u001b[39m\u001b[33m'\u001b[39m\u001b[38;5;132;01m%s\u001b[39;00m\u001b[33m'\u001b[39m\u001b[33m\"\u001b[39m\n\u001b[32m--> \u001b[39m\u001b[32m140\u001b[39m         \u001b[38;5;28;01mraise\u001b[39;00m ApplicationError(msg % \u001b[38;5;28mself\u001b[39m.name)\n\u001b[32m    141\u001b[39m     \u001b[38;5;28;01mreturn\u001b[39;00m \u001b[38;5;28;01mFalse\u001b[39;00m\n\u001b[32m    142\u001b[39m \u001b[38;5;28;01mreturn\u001b[39;00m \u001b[38;5;28;01mTrue\u001b[39;00m\n",
      "\u001b[31mApplicationError\u001b[39m: No executable found for solver 'ipopt'"
     ]
    }
   ],
   "source": [
    "import pyomo.environ as pyo\n",
    "\n",
    "numpoints = 5\n",
    "model = m = pyo.ConcreteModel()\n",
    "m.points = pyo.RangeSet(0,numpoints-1)\n",
    "m.h = pyo.Param(initialize=1.0/(numpoints-1))\n",
    "\n",
    "m.z = pyo.Var(m.points)\n",
    "m.dzdt = pyo.Var(m.points)\n",
    "\n",
    "m.obj = pyo.Objective(expr=1) # Dummy Objective\n",
    "\n",
    "def _zdot(m, i):\n",
    "    return m.dzdt[i] == m.z[i]**2 - 2*m.z[i] +1\n",
    "m.zdot = pyo.Constraint(m.points,rule=_zdot)\n",
    "\n",
    "def _back_diff(m,i):\n",
    "    if i == 0:\n",
    "        return pyo.Constraint.Skip\n",
    "    return m.dzdt[i] == (m.z[i]-m.z[i-1])/m.h\n",
    "m.back_diff = pyo.Constraint(m.points,rule=_back_diff)\n",
    "\n",
    "def _init_con(m):\n",
    "    return m.z[0] == -3\n",
    "m.init_con = pyo.Constraint(rule=_init_con)\n",
    "\n",
    "solver = pyo.SolverFactory('ipopt')\n",
    "solver.solve(m,tee=True)\n",
    "\n",
    "import matplotlib.pyplot as plt\n",
    "\n",
    "analytical_t = [0.01*i for i in range(0,101)]\n",
    "analytical_z = [(4*t-3)/(4*t+1) for t in analytical_t]\n",
    "\n",
    "findiff_t = [m.h*i for i in m.points]\n",
    "findiff_z = [pyo.value(m.z[i]) for i in m.points]\n",
    "\n",
    "plt.plot(analytical_t,analytical_z,'b',label='analytical solution')\n",
    "plt.plot(findiff_t,findiff_z,'ro--',label='finite difference solution')\n",
    "plt.legend(loc='best')\n",
    "plt.xlabel('t')\n",
    "plt.show()\n"
   ]
  }
 ],
 "metadata": {
  "kernelspec": {
   "display_name": ".venv",
   "language": "python",
   "name": "python3"
  },
  "language_info": {
   "codemirror_mode": {
    "name": "ipython",
    "version": 3
   },
   "file_extension": ".py",
   "mimetype": "text/x-python",
   "name": "python",
   "nbconvert_exporter": "python",
   "pygments_lexer": "ipython3",
   "version": "3.12.3"
  }
 },
 "nbformat": 4,
 "nbformat_minor": 2
}