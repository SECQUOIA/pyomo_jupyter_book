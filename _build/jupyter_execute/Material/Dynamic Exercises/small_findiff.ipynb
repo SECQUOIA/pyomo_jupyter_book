{
 "cells": [
  {
   "cell_type": "markdown",
   "metadata": {},
   "source": [
    "#### Small Find Diff example"
   ]
  },
  {
   "cell_type": "code",
   "execution_count": 1,
   "metadata": {},
   "outputs": [
    {
     "ename": "ModuleNotFoundError",
     "evalue": "No module named 'pyomo'",
     "output_type": "error",
     "traceback": [
      "\u001b[1;31m---------------------------------------------------------------------------\u001b[0m",
      "\u001b[1;31mModuleNotFoundError\u001b[0m                       Traceback (most recent call last)",
      "Cell \u001b[1;32mIn[1], line 1\u001b[0m\n\u001b[1;32m----> 1\u001b[0m \u001b[38;5;28;01mimport\u001b[39;00m \u001b[38;5;21;01mpyomo\u001b[39;00m\u001b[38;5;21;01m.\u001b[39;00m\u001b[38;5;21;01menviron\u001b[39;00m \u001b[38;5;28;01mas\u001b[39;00m \u001b[38;5;21;01mpyo\u001b[39;00m\n\u001b[0;32m      3\u001b[0m numpoints \u001b[38;5;241m=\u001b[39m \u001b[38;5;241m5\u001b[39m\n\u001b[0;32m      4\u001b[0m model \u001b[38;5;241m=\u001b[39m m \u001b[38;5;241m=\u001b[39m pyo\u001b[38;5;241m.\u001b[39mConcreteModel()\n",
      "\u001b[1;31mModuleNotFoundError\u001b[0m: No module named 'pyomo'"
     ]
    }
   ],
   "source": [
    "import pyomo.environ as pyo\n",
    "\n",
    "numpoints = 5\n",
    "model = m = pyo.ConcreteModel()\n",
    "m.points = pyo.RangeSet(0,numpoints-1)\n",
    "m.h = pyo.Param(initialize=1.0/(numpoints-1))\n",
    "\n",
    "m.z = pyo.Var(m.points)\n",
    "m.dzdt = pyo.Var(m.points)\n",
    "\n",
    "m.obj = pyo.Objective(expr=1) # Dummy Objective\n",
    "\n",
    "def _zdot(m, i):\n",
    "    return m.dzdt[i] == m.z[i]**2 - 2*m.z[i] +1\n",
    "m.zdot = pyo.Constraint(m.points,rule=_zdot)\n",
    "\n",
    "def _back_diff(m,i):\n",
    "    if i == 0:\n",
    "        return pyo.Constraint.Skip\n",
    "    return m.dzdt[i] == (m.z[i]-m.z[i-1])/m.h\n",
    "m.back_diff = pyo.Constraint(m.points,rule=_back_diff)\n",
    "\n",
    "def _init_con(m):\n",
    "    return m.z[0] == -3\n",
    "m.init_con = pyo.Constraint(rule=_init_con)\n",
    "\n",
    "ipopt_runner_path = \"/home/runner/work/pyomo_jupyter_book/pyomo_jupyter_book/solvers/ipopt\"\n",
    "solver = pyo.SolverFactory('ipopt', executable=ipopt_runner_path)\n",
    "solver.solve(m,tee=True)\n",
    "\n",
    "import matplotlib.pyplot as plt\n",
    "\n",
    "analytical_t = [0.01*i for i in range(0,101)]\n",
    "analytical_z = [(4*t-3)/(4*t+1) for t in analytical_t]\n",
    "\n",
    "findiff_t = [m.h*i for i in m.points]\n",
    "findiff_z = [pyo.value(m.z[i]) for i in m.points]\n",
    "\n",
    "plt.plot(analytical_t,analytical_z,'b',label='analytical solution')\n",
    "plt.plot(findiff_t,findiff_z,'ro--',label='finite difference solution')\n",
    "plt.legend(loc='best')\n",
    "plt.xlabel('t')\n",
    "plt.show()\n"
   ]
  }
 ],
 "metadata": {
  "kernelspec": {
   "display_name": ".venv",
   "language": "python",
   "name": "python3"
  },
  "language_info": {
   "codemirror_mode": {
    "name": "ipython",
    "version": 3
   },
   "file_extension": ".py",
   "mimetype": "text/x-python",
   "name": "python",
   "nbconvert_exporter": "python",
   "pygments_lexer": "ipython3",
   "version": "3.11.5"
  }
 },
 "nbformat": 4,
 "nbformat_minor": 2
}