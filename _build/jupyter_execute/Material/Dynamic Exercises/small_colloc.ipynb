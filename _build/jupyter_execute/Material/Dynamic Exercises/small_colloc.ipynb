{
 "cells": [
  {
   "cell_type": "markdown",
   "metadata": {},
   "source": [
    "#### Small collocation example"
   ]
  },
  {
   "cell_type": "code",
   "execution_count": 1,
   "metadata": {},
   "outputs": [
    {
     "name": "stdout",
     "output_type": "stream",
     "text": [
      "WARNING: Could not locate the 'ipopt' executable, which is required for solver\n",
      "ipopt\n"
     ]
    },
    {
     "ename": "ApplicationError",
     "evalue": "No executable found for solver 'ipopt'",
     "output_type": "error",
     "traceback": [
      "\u001b[31m---------------------------------------------------------------------------\u001b[39m",
      "\u001b[31mApplicationError\u001b[39m                          Traceback (most recent call last)",
      "\u001b[36mCell\u001b[39m\u001b[36m \u001b[39m\u001b[32mIn[1]\u001b[39m\u001b[32m, line 66\u001b[39m\n\u001b[32m     63\u001b[39m m.init_con_t = pyo.Constraint(rule=_init_con_t)\n\u001b[32m     65\u001b[39m solver = pyo.SolverFactory(\u001b[33m'\u001b[39m\u001b[33mipopt\u001b[39m\u001b[33m'\u001b[39m)\n\u001b[32m---> \u001b[39m\u001b[32m66\u001b[39m \u001b[43msolver\u001b[49m\u001b[43m.\u001b[49m\u001b[43msolve\u001b[49m\u001b[43m(\u001b[49m\u001b[43mm\u001b[49m\u001b[43m,\u001b[49m\u001b[43mtee\u001b[49m\u001b[43m=\u001b[49m\u001b[38;5;28;43;01mTrue\u001b[39;49;00m\u001b[43m)\u001b[49m\n\u001b[32m     68\u001b[39m \u001b[38;5;28;01mimport\u001b[39;00m \u001b[34;01mmatplotlib\u001b[39;00m\u001b[34;01m.\u001b[39;00m\u001b[34;01mpyplot\u001b[39;00m \u001b[38;5;28;01mas\u001b[39;00m \u001b[34;01mplt\u001b[39;00m\n\u001b[32m     70\u001b[39m analytical_t = [\u001b[32m0.01\u001b[39m*i \u001b[38;5;28;01mfor\u001b[39;00m i \u001b[38;5;129;01min\u001b[39;00m \u001b[38;5;28mrange\u001b[39m(\u001b[32m0\u001b[39m,\u001b[32m101\u001b[39m)]\n",
      "\u001b[36mFile \u001b[39m\u001b[32m~/.local/lib/python3.12/site-packages/pyomo/opt/base/solvers.py:534\u001b[39m, in \u001b[36mOptSolver.solve\u001b[39m\u001b[34m(self, *args, **kwds)\u001b[39m\n\u001b[32m    531\u001b[39m \u001b[38;5;28;01mdef\u001b[39;00m \u001b[34msolve\u001b[39m(\u001b[38;5;28mself\u001b[39m, *args, **kwds):\n\u001b[32m    532\u001b[39m \u001b[38;5;250m    \u001b[39m\u001b[33;03m\"\"\"Solve the problem\"\"\"\u001b[39;00m\n\u001b[32m--> \u001b[39m\u001b[32m534\u001b[39m     \u001b[38;5;28;43mself\u001b[39;49m\u001b[43m.\u001b[49m\u001b[43mavailable\u001b[49m\u001b[43m(\u001b[49m\u001b[43mexception_flag\u001b[49m\u001b[43m=\u001b[49m\u001b[38;5;28;43;01mTrue\u001b[39;49;00m\u001b[43m)\u001b[49m\n\u001b[32m    535\u001b[39m     \u001b[38;5;66;03m#\u001b[39;00m\n\u001b[32m    536\u001b[39m     \u001b[38;5;66;03m# If the inputs are models, then validate that they have been\u001b[39;00m\n\u001b[32m    537\u001b[39m     \u001b[38;5;66;03m# constructed! Collect suffix names to try and import from solution.\u001b[39;00m\n\u001b[32m    538\u001b[39m     \u001b[38;5;66;03m#\u001b[39;00m\n\u001b[32m    539\u001b[39m     \u001b[38;5;28;01mfrom\u001b[39;00m \u001b[34;01mpyomo\u001b[39;00m\u001b[34;01m.\u001b[39;00m\u001b[34;01mcore\u001b[39;00m\u001b[34;01m.\u001b[39;00m\u001b[34;01mbase\u001b[39;00m\u001b[34;01m.\u001b[39;00m\u001b[34;01mblock\u001b[39;00m \u001b[38;5;28;01mimport\u001b[39;00m BlockData\n",
      "\u001b[36mFile \u001b[39m\u001b[32m~/.local/lib/python3.12/site-packages/pyomo/opt/solver/shellcmd.py:140\u001b[39m, in \u001b[36mSystemCallSolver.available\u001b[39m\u001b[34m(self, exception_flag)\u001b[39m\n\u001b[32m    138\u001b[39m     \u001b[38;5;28;01mif\u001b[39;00m exception_flag:\n\u001b[32m    139\u001b[39m         msg = \u001b[33m\"\u001b[39m\u001b[33mNo executable found for solver \u001b[39m\u001b[33m'\u001b[39m\u001b[38;5;132;01m%s\u001b[39;00m\u001b[33m'\u001b[39m\u001b[33m\"\u001b[39m\n\u001b[32m--> \u001b[39m\u001b[32m140\u001b[39m         \u001b[38;5;28;01mraise\u001b[39;00m ApplicationError(msg % \u001b[38;5;28mself\u001b[39m.name)\n\u001b[32m    141\u001b[39m     \u001b[38;5;28;01mreturn\u001b[39;00m \u001b[38;5;28;01mFalse\u001b[39;00m\n\u001b[32m    142\u001b[39m \u001b[38;5;28;01mreturn\u001b[39;00m \u001b[38;5;28;01mTrue\u001b[39;00m\n",
      "\u001b[31mApplicationError\u001b[39m: No executable found for solver 'ipopt'"
     ]
    }
   ],
   "source": [
    "import pyomo.environ as pyo\n",
    "\n",
    "numcollocation = 4\n",
    "numfinelems = 2\n",
    "\n",
    "model = m = pyo.ConcreteModel()\n",
    "m.colloc = pyo.RangeSet(0,numcollocation-1)\n",
    "m.fe = pyo.RangeSet(0,numfinelems-1)\n",
    "m.h = pyo.Param(initialize=1.0/numfinelems)\n",
    "\n",
    "m.z = pyo.Var(m.fe,m.colloc)\n",
    "m.dzdt = pyo.Var(m.fe,m.colloc)\n",
    "m.time = pyo.Var(m.fe,m.colloc)\n",
    "\n",
    "# Collocation matrix for Radau points [0, 0.155051, 0.644949, 1]\n",
    "adot=[\n",
    "[-9.000001008080126, -4.1393887736243791, 1.7393879671602779, -3.0000002520200333],\n",
    "[10.048810106494384, 3.2247461916839306, -3.5678400771209411, 5.5319724150606273],\n",
    "[-1.3821424037453669, 1.1678398419022438, 0.77525464838285485, -7.5319723310539404],\n",
    "[0.33333330533110994, -0.25319725996179565, 1.0531974615778044, 5.000000168013341],\n",
    "]\n",
    "\n",
    "m.obj = pyo.Objective(expr=1) # Dummy Objective\n",
    "\n",
    "def _zdot(m, i, j):\n",
    "    return m.dzdt[i,j] == m.z[i,j]**2 - 2*m.z[i,j] +1\n",
    "m.zdot = pyo.Constraint(m.fe,m.colloc,rule=_zdot)\n",
    "\n",
    "# Collocation Equations\n",
    "def _colloc_eq(m,i,j):\n",
    "    if j == 0:\n",
    "        return pyo.Constraint.Skip\n",
    "    return m.h*(m.dzdt[i,j]) == sum(m.z[i,k]*adot[k][j] for k in range(0,numcollocation))\n",
    "m.colloc_eq = pyo.Constraint(m.fe,m.colloc,rule=_colloc_eq)\n",
    "\n",
    "def _colloc_eq_t(m,i,j):\n",
    "    if j == 0:\n",
    "        return pyo.Constraint.Skip\n",
    "    return m.h == sum(m.time[i,k]*adot[k][j] for k in range(0,numcollocation))\n",
    "m.colloc_eq_t = pyo.Constraint(m.fe,m.colloc,rule=_colloc_eq_t)\n",
    "\n",
    "\n",
    "# Continuity Equations\n",
    "def _cont_z(m,i):\n",
    "    if i == 0:\n",
    "        return pyo.Constraint.Skip\n",
    "    return m.z[i,0] == m.z[i-1,numcollocation-1]\n",
    "m.cont_z = pyo.Constraint(m.fe,rule=_cont_z)\n",
    "\n",
    "def _cont_t(m,i):\n",
    "    if i == 0:\n",
    "        return pyo.Constraint.Skip\n",
    "    return m.time[i,0] == m.time[i-1,numcollocation-1]\n",
    "m.cont_t = pyo.Constraint(m.fe,rule=_cont_t)\n",
    "\n",
    "# Initial Conditions\n",
    "def _init_con(m):\n",
    "    return m.z[0,0] == -3\n",
    "m.init_con = pyo.Constraint(rule=_init_con)\n",
    "\n",
    "def _init_con_t(m):\n",
    "    return m.time[0,0] == 0\n",
    "m.init_con_t = pyo.Constraint(rule=_init_con_t)\n",
    "\n",
    "solver = pyo.SolverFactory('ipopt')\n",
    "solver.solve(m,tee=True)\n",
    "\n",
    "import matplotlib.pyplot as plt\n",
    "\n",
    "analytical_t = [0.01*i for i in range(0,101)]\n",
    "analytical_z = [(4*t-3)/(4*t+1) for t in analytical_t]\n",
    "\n",
    "findiff_t = []\n",
    "findiff_z = []\n",
    "\n",
    "for i in range(0,numfinelems):\n",
    "    for j in range(0,numcollocation):\n",
    "        if i != 0 and j == 0:\n",
    "            continue\n",
    "        findiff_t.append(pyo.value(m.time[i,j]))\n",
    "        findiff_z.append(pyo.value(m.z[i,j]))\n",
    "\n",
    "plt.plot(analytical_t,analytical_z,'b',label='analytical solution')\n",
    "plt.plot(findiff_t,findiff_z,'ro--',label='collocation solution')\n",
    "plt.legend(loc='best')\n",
    "plt.xlabel(\"t\")\n",
    "plt.show()"
   ]
  }
 ],
 "metadata": {
  "kernelspec": {
   "display_name": ".venv",
   "language": "python",
   "name": "python3"
  },
  "language_info": {
   "codemirror_mode": {
    "name": "ipython",
    "version": 3
   },
   "file_extension": ".py",
   "mimetype": "text/x-python",
   "name": "python",
   "nbconvert_exporter": "python",
   "pygments_lexer": "ipython3",
   "version": "3.12.3"
  }
 },
 "nbformat": 4,
 "nbformat_minor": 2
}