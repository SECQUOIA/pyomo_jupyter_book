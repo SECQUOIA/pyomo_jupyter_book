{
 "cells": [
  {
   "cell_type": "markdown",
   "metadata": {},
   "source": [
    "#### Parameter Estimation 1\n",
    "\n",
    "$$min \\sum ((X_{1}(t_{i}) - X_{1,meas}(t_i))^{2})$$\n",
    "$$s.t \\;\\; X_{1,dot} = X_{2} \\;\\;\\;\\;\\;\\;\\;\\; X_{1}(0) = p_{1}$$\n",
    "$$\\;\\; X_{2,dot} = 1-2*X_{2}-X_{1} \\;\\;\\;\\;\\;\\;\\;\\; X_{2}(0) = p_{2}$$\n",
    "$$-1.5 \\leq p_{1}, p_{2} \\leq 1.5$$\n",
    "$$t_{f} = 6$$"
   ]
  },
  {
   "cell_type": "code",
   "execution_count": 1,
   "metadata": {},
   "outputs": [
    {
     "ename": "ModuleNotFoundError",
     "evalue": "No module named 'pyomo'",
     "output_type": "error",
     "traceback": [
      "\u001b[1;31m---------------------------------------------------------------------------\u001b[0m",
      "\u001b[1;31mModuleNotFoundError\u001b[0m                       Traceback (most recent call last)",
      "Cell \u001b[1;32mIn[1], line 1\u001b[0m\n\u001b[1;32m----> 1\u001b[0m \u001b[38;5;28;01mimport\u001b[39;00m \u001b[38;5;21;01mpyomo\u001b[39;00m\u001b[38;5;21;01m.\u001b[39;00m\u001b[38;5;21;01menviron\u001b[39;00m \u001b[38;5;28;01mas\u001b[39;00m \u001b[38;5;21;01mpyo\u001b[39;00m\n\u001b[0;32m      2\u001b[0m \u001b[38;5;28;01mfrom\u001b[39;00m \u001b[38;5;21;01mpyomo\u001b[39;00m\u001b[38;5;21;01m.\u001b[39;00m\u001b[38;5;21;01mdae\u001b[39;00m \u001b[38;5;28;01mimport\u001b[39;00m ContinuousSet, DerivativeVar\n\u001b[0;32m      4\u001b[0m measurements \u001b[38;5;241m=\u001b[39m {\u001b[38;5;241m1\u001b[39m:\u001b[38;5;241m0.264\u001b[39m, \u001b[38;5;241m2\u001b[39m:\u001b[38;5;241m0.594\u001b[39m, \u001b[38;5;241m3\u001b[39m:\u001b[38;5;241m0.801\u001b[39m, \u001b[38;5;241m5\u001b[39m:\u001b[38;5;241m0.959\u001b[39m}\n",
      "\u001b[1;31mModuleNotFoundError\u001b[0m: No module named 'pyomo'"
     ]
    }
   ],
   "source": [
    "import pyomo.environ as pyo\n",
    "from pyomo.dae import ContinuousSet, DerivativeVar\n",
    "\n",
    "measurements = {1:0.264, 2:0.594, 3:0.801, 5:0.959}\n",
    "\n",
    "model = pyo.ConcreteModel()\n",
    "model.t = ContinuousSet(initialize=measurements.keys(),bounds=(0, 6))\t\n",
    "\n",
    "model.x1 = pyo.Var(model.t)\n",
    "model.x2 = pyo.Var(model.t)\n",
    "\n",
    "model.p1 = pyo.Var(bounds=(-1.5,1.5))\n",
    "model.p2 = pyo.Var(bounds=(-1.5,1.5))\n",
    "\n",
    "model.x1dot = DerivativeVar(model.x1,wrt=model.t)\n",
    "model.x2dot = DerivativeVar(model.x2)\n",
    "\n",
    "def _init_conditions(model):\n",
    "\tyield model.x1[0] == model.p1\n",
    "\tyield model.x2[0] == model.p2\n",
    "model.init_conditions = pyo.ConstraintList(rule=_init_conditions)\n",
    "\n",
    "# Alternate way to declare initial conditions\n",
    "#def _initx1(model):\n",
    "#\treturn model.x1[0] == model.p1\t\t\n",
    "#model.initx1 = pyo.Constraint(rule=_initx1)\n",
    "\n",
    "#def _initx2(model):\n",
    "#\treturn model.x2[0] == model.p2\n",
    "#model.initx2 = pyo.Constraint(rule=_initx2)\n",
    "\n",
    "def _x1dot(model,i):\n",
    "\treturn model.x1dot[i] == model.x2[i]\n",
    "model.x1dotcon = pyo.Constraint(model.t, rule=_x1dot)\n",
    "\n",
    "def _x2dot(model,i):\n",
    "\treturn model.x2dot[i] == 1-2*model.x2[i]-model.x1[i]\n",
    "model.x2dotcon = pyo.Constraint(model.t, rule=_x2dot)\n",
    "\n",
    "def _obj(model):\n",
    "\treturn sum((model.x1[i]-measurements[i])**2 for i in measurements.keys())\n",
    "model.obj = pyo.Objective(rule=_obj)\n",
    "\n",
    "# Discretize model using Orthogonal Collocation\n",
    "discretizer = pyo.TransformationFactory('dae.collocation')\n",
    "discretizer.apply_to(model,nfe=8,ncp=5)\n",
    "\n",
    "ipopt_runner_path = \"/home/runner/work/pyomo_jupyter_book/pyomo_jupyter_book/solvers/ipopt\"\n",
    "solver = pyo.SolverFactory('ipopt', executable=ipopt_runner_path)\n",
    "\n",
    "results = solver.solve(model,tee=True)\n",
    "\n",
    "t_meas = sorted(list(measurements.keys()))\n",
    "x1_meas = [pyo.value(measurements[i]) for i in sorted(measurements.keys())]\n",
    "\n",
    "t = list(model.t)\n",
    "x1 = [pyo.value(model.x1[i]) for i in model.t]\n",
    "    \n",
    "import matplotlib.pyplot as plt\n",
    "\n",
    "plt.plot(t,x1)\n",
    "plt.plot(t_meas,x1_meas,'o')\n",
    "plt.xlabel('t')\n",
    "plt.ylabel('x')\n",
    "plt.title('Dynamic Parameter Estimation Using Collocation')\n",
    "plt.show()\n"
   ]
  }
 ],
 "metadata": {
  "kernelspec": {
   "display_name": ".venv",
   "language": "python",
   "name": "python3"
  },
  "language_info": {
   "codemirror_mode": {
    "name": "ipython",
    "version": 3
   },
   "file_extension": ".py",
   "mimetype": "text/x-python",
   "name": "python",
   "nbconvert_exporter": "python",
   "pygments_lexer": "ipython3",
   "version": "3.11.5"
  }
 },
 "nbformat": 4,
 "nbformat_minor": 2
}