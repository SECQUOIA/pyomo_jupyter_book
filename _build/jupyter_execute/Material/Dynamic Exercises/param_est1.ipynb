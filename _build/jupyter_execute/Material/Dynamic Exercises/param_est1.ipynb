{
 "cells": [
  {
   "cell_type": "markdown",
   "metadata": {},
   "source": [
    "#### Parameter Estimation 1\n",
    "\n",
    "$$min \\sum ((X_{1}(t_{i}) - X_{1,meas}(t_i))^{2})$$\n",
    "$$s.t \\;\\; X_{1,dot} = X_{2} \\;\\;\\;\\;\\;\\;\\;\\; X_{1}(0) = p_{1}$$\n",
    "$$\\;\\; X_{2,dot} = 1-2*X_{2}-X_{1} \\;\\;\\;\\;\\;\\;\\;\\; X_{2}(0) = p_{2}$$\n",
    "$$-1.5 \\leq p_{1}, p_{2} \\leq 1.5$$\n",
    "$$t_{f} = 6$$"
   ]
  },
  {
   "cell_type": "code",
   "execution_count": 1,
   "metadata": {},
   "outputs": [
    {
     "name": "stdout",
     "output_type": "stream",
     "text": [
      "WARNING: Could not locate the 'ipopt' executable, which is required for solver\n",
      "ipopt\n"
     ]
    },
    {
     "ename": "ApplicationError",
     "evalue": "No executable found for solver 'ipopt'",
     "output_type": "error",
     "traceback": [
      "\u001b[31m---------------------------------------------------------------------------\u001b[39m",
      "\u001b[31mApplicationError\u001b[39m                          Traceback (most recent call last)",
      "\u001b[36mCell\u001b[39m\u001b[36m \u001b[39m\u001b[32mIn[1]\u001b[39m\u001b[32m, line 50\u001b[39m\n\u001b[32m     46\u001b[39m discretizer.apply_to(model,nfe=\u001b[32m8\u001b[39m,ncp=\u001b[32m5\u001b[39m)\n\u001b[32m     48\u001b[39m solver = pyo.SolverFactory(\u001b[33m'\u001b[39m\u001b[33mipopt\u001b[39m\u001b[33m'\u001b[39m)\n\u001b[32m---> \u001b[39m\u001b[32m50\u001b[39m results = \u001b[43msolver\u001b[49m\u001b[43m.\u001b[49m\u001b[43msolve\u001b[49m\u001b[43m(\u001b[49m\u001b[43mmodel\u001b[49m\u001b[43m,\u001b[49m\u001b[43mtee\u001b[49m\u001b[43m=\u001b[49m\u001b[38;5;28;43;01mTrue\u001b[39;49;00m\u001b[43m)\u001b[49m\n\u001b[32m     52\u001b[39m t_meas = \u001b[38;5;28msorted\u001b[39m(\u001b[38;5;28mlist\u001b[39m(measurements.keys()))\n\u001b[32m     53\u001b[39m x1_meas = [pyo.value(measurements[i]) \u001b[38;5;28;01mfor\u001b[39;00m i \u001b[38;5;129;01min\u001b[39;00m \u001b[38;5;28msorted\u001b[39m(measurements.keys())]\n",
      "\u001b[36mFile \u001b[39m\u001b[32m~/.local/lib/python3.12/site-packages/pyomo/opt/base/solvers.py:534\u001b[39m, in \u001b[36mOptSolver.solve\u001b[39m\u001b[34m(self, *args, **kwds)\u001b[39m\n\u001b[32m    531\u001b[39m \u001b[38;5;28;01mdef\u001b[39;00m \u001b[34msolve\u001b[39m(\u001b[38;5;28mself\u001b[39m, *args, **kwds):\n\u001b[32m    532\u001b[39m \u001b[38;5;250m    \u001b[39m\u001b[33;03m\"\"\"Solve the problem\"\"\"\u001b[39;00m\n\u001b[32m--> \u001b[39m\u001b[32m534\u001b[39m     \u001b[38;5;28;43mself\u001b[39;49m\u001b[43m.\u001b[49m\u001b[43mavailable\u001b[49m\u001b[43m(\u001b[49m\u001b[43mexception_flag\u001b[49m\u001b[43m=\u001b[49m\u001b[38;5;28;43;01mTrue\u001b[39;49;00m\u001b[43m)\u001b[49m\n\u001b[32m    535\u001b[39m     \u001b[38;5;66;03m#\u001b[39;00m\n\u001b[32m    536\u001b[39m     \u001b[38;5;66;03m# If the inputs are models, then validate that they have been\u001b[39;00m\n\u001b[32m    537\u001b[39m     \u001b[38;5;66;03m# constructed! Collect suffix names to try and import from solution.\u001b[39;00m\n\u001b[32m    538\u001b[39m     \u001b[38;5;66;03m#\u001b[39;00m\n\u001b[32m    539\u001b[39m     \u001b[38;5;28;01mfrom\u001b[39;00m \u001b[34;01mpyomo\u001b[39;00m\u001b[34;01m.\u001b[39;00m\u001b[34;01mcore\u001b[39;00m\u001b[34;01m.\u001b[39;00m\u001b[34;01mbase\u001b[39;00m\u001b[34;01m.\u001b[39;00m\u001b[34;01mblock\u001b[39;00m \u001b[38;5;28;01mimport\u001b[39;00m BlockData\n",
      "\u001b[36mFile \u001b[39m\u001b[32m~/.local/lib/python3.12/site-packages/pyomo/opt/solver/shellcmd.py:140\u001b[39m, in \u001b[36mSystemCallSolver.available\u001b[39m\u001b[34m(self, exception_flag)\u001b[39m\n\u001b[32m    138\u001b[39m     \u001b[38;5;28;01mif\u001b[39;00m exception_flag:\n\u001b[32m    139\u001b[39m         msg = \u001b[33m\"\u001b[39m\u001b[33mNo executable found for solver \u001b[39m\u001b[33m'\u001b[39m\u001b[38;5;132;01m%s\u001b[39;00m\u001b[33m'\u001b[39m\u001b[33m\"\u001b[39m\n\u001b[32m--> \u001b[39m\u001b[32m140\u001b[39m         \u001b[38;5;28;01mraise\u001b[39;00m ApplicationError(msg % \u001b[38;5;28mself\u001b[39m.name)\n\u001b[32m    141\u001b[39m     \u001b[38;5;28;01mreturn\u001b[39;00m \u001b[38;5;28;01mFalse\u001b[39;00m\n\u001b[32m    142\u001b[39m \u001b[38;5;28;01mreturn\u001b[39;00m \u001b[38;5;28;01mTrue\u001b[39;00m\n",
      "\u001b[31mApplicationError\u001b[39m: No executable found for solver 'ipopt'"
     ]
    }
   ],
   "source": [
    "import pyomo.environ as pyo\n",
    "from pyomo.dae import ContinuousSet, DerivativeVar\n",
    "\n",
    "measurements = {1:0.264, 2:0.594, 3:0.801, 5:0.959}\n",
    "\n",
    "model = pyo.ConcreteModel()\n",
    "model.t = ContinuousSet(initialize=measurements.keys(),bounds=(0, 6))\t\n",
    "\n",
    "model.x1 = pyo.Var(model.t)\n",
    "model.x2 = pyo.Var(model.t)\n",
    "\n",
    "model.p1 = pyo.Var(bounds=(-1.5,1.5))\n",
    "model.p2 = pyo.Var(bounds=(-1.5,1.5))\n",
    "\n",
    "model.x1dot = DerivativeVar(model.x1,wrt=model.t)\n",
    "model.x2dot = DerivativeVar(model.x2)\n",
    "\n",
    "def _init_conditions(model):\n",
    "\tyield model.x1[0] == model.p1\n",
    "\tyield model.x2[0] == model.p2\n",
    "model.init_conditions = pyo.ConstraintList(rule=_init_conditions)\n",
    "\n",
    "# Alternate way to declare initial conditions\n",
    "#def _initx1(model):\n",
    "#\treturn model.x1[0] == model.p1\t\t\n",
    "#model.initx1 = pyo.Constraint(rule=_initx1)\n",
    "\n",
    "#def _initx2(model):\n",
    "#\treturn model.x2[0] == model.p2\n",
    "#model.initx2 = pyo.Constraint(rule=_initx2)\n",
    "\n",
    "def _x1dot(model,i):\n",
    "\treturn model.x1dot[i] == model.x2[i]\n",
    "model.x1dotcon = pyo.Constraint(model.t, rule=_x1dot)\n",
    "\n",
    "def _x2dot(model,i):\n",
    "\treturn model.x2dot[i] == 1-2*model.x2[i]-model.x1[i]\n",
    "model.x2dotcon = pyo.Constraint(model.t, rule=_x2dot)\n",
    "\n",
    "def _obj(model):\n",
    "\treturn sum((model.x1[i]-measurements[i])**2 for i in measurements.keys())\n",
    "model.obj = pyo.Objective(rule=_obj)\n",
    "\n",
    "# Discretize model using Orthogonal Collocation\n",
    "discretizer = pyo.TransformationFactory('dae.collocation')\n",
    "discretizer.apply_to(model,nfe=8,ncp=5)\n",
    "\n",
    "solver = pyo.SolverFactory('ipopt')\n",
    "\n",
    "results = solver.solve(model,tee=True)\n",
    "\n",
    "t_meas = sorted(list(measurements.keys()))\n",
    "x1_meas = [pyo.value(measurements[i]) for i in sorted(measurements.keys())]\n",
    "\n",
    "t = list(model.t)\n",
    "x1 = [pyo.value(model.x1[i]) for i in model.t]\n",
    "    \n",
    "import matplotlib.pyplot as plt\n",
    "\n",
    "plt.plot(t,x1)\n",
    "plt.plot(t_meas,x1_meas,'o')\n",
    "plt.xlabel('t')\n",
    "plt.ylabel('x')\n",
    "plt.title('Dynamic Parameter Estimation Using Collocation')\n",
    "plt.show()\n"
   ]
  }
 ],
 "metadata": {
  "kernelspec": {
   "display_name": ".venv",
   "language": "python",
   "name": "python3"
  },
  "language_info": {
   "codemirror_mode": {
    "name": "ipython",
    "version": 3
   },
   "file_extension": ".py",
   "mimetype": "text/x-python",
   "name": "python",
   "nbconvert_exporter": "python",
   "pygments_lexer": "ipython3",
   "version": "3.12.3"
  }
 },
 "nbformat": 4,
 "nbformat_minor": 2
}