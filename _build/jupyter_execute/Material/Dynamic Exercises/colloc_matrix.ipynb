{
 "cells": [
  {
   "cell_type": "markdown",
   "metadata": {},
   "source": [
    "#### Collocation Matrix"
   ]
  },
  {
   "cell_type": "code",
   "execution_count": 1,
   "metadata": {},
   "outputs": [
    {
     "ename": "ModuleNotFoundError",
     "evalue": "No module named 'numpy'",
     "output_type": "error",
     "traceback": [
      "\u001b[1;31m---------------------------------------------------------------------------\u001b[0m",
      "\u001b[1;31mModuleNotFoundError\u001b[0m                       Traceback (most recent call last)",
      "Cell \u001b[1;32mIn[1], line 1\u001b[0m\n\u001b[1;32m----> 1\u001b[0m \u001b[38;5;28;01mimport\u001b[39;00m \u001b[38;5;21;01mnumpy\u001b[39;00m\n\u001b[0;32m      3\u001b[0m cp \u001b[38;5;241m=\u001b[39m [\u001b[38;5;241m0\u001b[39m, \u001b[38;5;241m0.155051\u001b[39m, \u001b[38;5;241m0.644949\u001b[39m, \u001b[38;5;241m1\u001b[39m]\n\u001b[0;32m      5\u001b[0m a \u001b[38;5;241m=\u001b[39m []\n",
      "\u001b[1;31mModuleNotFoundError\u001b[0m: No module named 'numpy'"
     ]
    }
   ],
   "source": [
    "import numpy\n",
    "\n",
    "cp = [0, 0.155051, 0.644949, 1]\n",
    "\n",
    "a = []\n",
    "\n",
    "print('[')\n",
    "for i in range(len(cp)):\n",
    "    ptmp = []\n",
    "    tmp = 0\n",
    "    for j in range(len(cp)):\n",
    "        if j != i:\n",
    "            row = []\n",
    "            row.insert(0,1/(cp[i]-cp[j]))\n",
    "            row.insert(1,-cp[j]/(cp[i]-cp[j]))\n",
    "            ptmp.insert(tmp,row)\n",
    "            tmp += 1\n",
    "    p=[1]\n",
    "    for j in range(len(cp)-1):\n",
    "        p = numpy.convolve(p,ptmp[j])\n",
    "    pder = numpy.polyder(p,1)\n",
    "    arow = []\n",
    "    for j in range(len(cp)):\n",
    "        arow.append(numpy.polyval(pder,cp[j]))\n",
    "    a.append(arow)\n",
    "    print(str(arow)+',')\n",
    "print(']')"
   ]
  }
 ],
 "metadata": {
  "kernelspec": {
   "display_name": ".venv",
   "language": "python",
   "name": "python3"
  },
  "language_info": {
   "codemirror_mode": {
    "name": "ipython",
    "version": 3
   },
   "file_extension": ".py",
   "mimetype": "text/x-python",
   "name": "python",
   "nbconvert_exporter": "python",
   "pygments_lexer": "ipython3",
   "version": "3.11.5"
  }
 },
 "nbformat": 4,
 "nbformat_minor": 2
}