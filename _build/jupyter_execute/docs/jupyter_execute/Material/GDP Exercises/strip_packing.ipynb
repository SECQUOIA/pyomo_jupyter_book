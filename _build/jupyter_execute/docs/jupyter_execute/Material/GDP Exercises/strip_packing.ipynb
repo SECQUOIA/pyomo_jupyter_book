{
 "cells": [
  {
   "cell_type": "markdown",
   "metadata": {},
   "source": [
    "#### Strip Packing\n",
    "\n",
    "This model packs a set of rectangles without rotation or overlap within a strip of a given width, while minimizing the length of the strip.\n",
    "\n",
    "This is a Strip-packing example from http://minlp.org/library/lib.php?lib=GDP"
   ]
  },
  {
   "cell_type": "code",
   "execution_count": 1,
   "metadata": {},
   "outputs": [
    {
     "name": "stdout",
     "output_type": "stream",
     "text": [
      "WARNING: Could not locate the 'glpsol' executable, which is required for\n",
      "solver 'glpk'\n"
     ]
    },
    {
     "ename": "ApplicationError",
     "evalue": "No executable found for solver 'glpk'",
     "output_type": "error",
     "traceback": [
      "\u001b[31m---------------------------------------------------------------------------\u001b[39m",
      "\u001b[31mApplicationError\u001b[39m                          Traceback (most recent call last)",
      "\u001b[36mCell\u001b[39m\u001b[36m \u001b[39m\u001b[32mIn[1]\u001b[39m\u001b[32m, line 63\u001b[39m\n\u001b[32m     58\u001b[39m pyo.TransformationFactory(\u001b[33m'\u001b[39m\u001b[33mgdp.bigm\u001b[39m\u001b[33m'\u001b[39m).apply_to(model)\n\u001b[32m     60\u001b[39m \u001b[38;5;66;03m#\u001b[39;00m\n\u001b[32m     61\u001b[39m \u001b[38;5;66;03m# Solve and print the solution\u001b[39;00m\n\u001b[32m     62\u001b[39m \u001b[38;5;66;03m#\u001b[39;00m\n\u001b[32m---> \u001b[39m\u001b[32m63\u001b[39m \u001b[43mpyo\u001b[49m\u001b[43m.\u001b[49m\u001b[43mSolverFactory\u001b[49m\u001b[43m(\u001b[49m\u001b[33;43m'\u001b[39;49m\u001b[33;43mglpk\u001b[39;49m\u001b[33;43m'\u001b[39;49m\u001b[43m)\u001b[49m\u001b[43m.\u001b[49m\u001b[43msolve\u001b[49m\u001b[43m(\u001b[49m\u001b[43mmodel\u001b[49m\u001b[43m,\u001b[49m\u001b[43m \u001b[49m\u001b[43mtee\u001b[49m\u001b[43m=\u001b[49m\u001b[38;5;28;43;01mTrue\u001b[39;49;00m\u001b[43m)\u001b[49m\n\u001b[32m     64\u001b[39m model.pprint()\n\u001b[32m     65\u001b[39m \u001b[38;5;28;01mfor\u001b[39;00m i \u001b[38;5;129;01min\u001b[39;00m model.RECTANGLES:\n",
      "\u001b[36mFile \u001b[39m\u001b[32m~/.local/lib/python3.12/site-packages/pyomo/opt/base/solvers.py:534\u001b[39m, in \u001b[36mOptSolver.solve\u001b[39m\u001b[34m(self, *args, **kwds)\u001b[39m\n\u001b[32m    531\u001b[39m \u001b[38;5;28;01mdef\u001b[39;00m \u001b[34msolve\u001b[39m(\u001b[38;5;28mself\u001b[39m, *args, **kwds):\n\u001b[32m    532\u001b[39m \u001b[38;5;250m    \u001b[39m\u001b[33;03m\"\"\"Solve the problem\"\"\"\u001b[39;00m\n\u001b[32m--> \u001b[39m\u001b[32m534\u001b[39m     \u001b[38;5;28;43mself\u001b[39;49m\u001b[43m.\u001b[49m\u001b[43mavailable\u001b[49m\u001b[43m(\u001b[49m\u001b[43mexception_flag\u001b[49m\u001b[43m=\u001b[49m\u001b[38;5;28;43;01mTrue\u001b[39;49;00m\u001b[43m)\u001b[49m\n\u001b[32m    535\u001b[39m     \u001b[38;5;66;03m#\u001b[39;00m\n\u001b[32m    536\u001b[39m     \u001b[38;5;66;03m# If the inputs are models, then validate that they have been\u001b[39;00m\n\u001b[32m    537\u001b[39m     \u001b[38;5;66;03m# constructed! Collect suffix names to try and import from solution.\u001b[39;00m\n\u001b[32m    538\u001b[39m     \u001b[38;5;66;03m#\u001b[39;00m\n\u001b[32m    539\u001b[39m     \u001b[38;5;28;01mfrom\u001b[39;00m \u001b[34;01mpyomo\u001b[39;00m\u001b[34;01m.\u001b[39;00m\u001b[34;01mcore\u001b[39;00m\u001b[34;01m.\u001b[39;00m\u001b[34;01mbase\u001b[39;00m\u001b[34;01m.\u001b[39;00m\u001b[34;01mblock\u001b[39;00m \u001b[38;5;28;01mimport\u001b[39;00m BlockData\n",
      "\u001b[36mFile \u001b[39m\u001b[32m~/.local/lib/python3.12/site-packages/pyomo/opt/solver/shellcmd.py:140\u001b[39m, in \u001b[36mSystemCallSolver.available\u001b[39m\u001b[34m(self, exception_flag)\u001b[39m\n\u001b[32m    138\u001b[39m     \u001b[38;5;28;01mif\u001b[39;00m exception_flag:\n\u001b[32m    139\u001b[39m         msg = \u001b[33m\"\u001b[39m\u001b[33mNo executable found for solver \u001b[39m\u001b[33m'\u001b[39m\u001b[38;5;132;01m%s\u001b[39;00m\u001b[33m'\u001b[39m\u001b[33m\"\u001b[39m\n\u001b[32m--> \u001b[39m\u001b[32m140\u001b[39m         \u001b[38;5;28;01mraise\u001b[39;00m ApplicationError(msg % \u001b[38;5;28mself\u001b[39m.name)\n\u001b[32m    141\u001b[39m     \u001b[38;5;28;01mreturn\u001b[39;00m \u001b[38;5;28;01mFalse\u001b[39;00m\n\u001b[32m    142\u001b[39m \u001b[38;5;28;01mreturn\u001b[39;00m \u001b[38;5;28;01mTrue\u001b[39;00m\n",
      "\u001b[31mApplicationError\u001b[39m: No executable found for solver 'glpk'"
     ]
    }
   ],
   "source": [
    "import pyomo.environ as pyo\n",
    "from pyomo.gdp import Disjunct, Disjunction\n",
    "\n",
    "model = pyo.ConcreteModel()\n",
    "\n",
    "model.RECTANGLES = pyo.Set(ordered=True, initialize=[0,1,2,3])\n",
    "\n",
    "# Width and Lenght of each rectangle\n",
    "model.Width = pyo.Param(model.RECTANGLES, initialize={0:6, 1:3, 2:4, 3:2})\n",
    "model.Length = pyo.Param(model.RECTANGLES, initialize={0:6, 1:8, 2:5, 3:3})\n",
    "\n",
    "model.StripWidth = pyo.Param(initialize=10, doc=\"Width of the strip\" )\n",
    "\n",
    "# upperbound on length (default is sum of lengths of rectangles)\n",
    "model.LengthUB = pyo.Param(initialize=sum(model.Length[i] for i in\n",
    "                                          model.RECTANGLES))\n",
    "\n",
    "# x (length) and y (width) coordinates of each of the rectangles\n",
    "model.x = pyo.Var(model.RECTANGLES, bounds=(0, model.LengthUB),\n",
    "                  doc=\"rectangle corner x-position (position down length)\")\n",
    "def y_bounds(m, i):\n",
    "    return (0, m.StripWidth-m.Width[i])\n",
    "model.y = pyo.Var(model.RECTANGLES,\n",
    "              bounds=y_bounds,\n",
    "              doc=\"rectangle corner y-position (position across width)\")\n",
    "\n",
    "# length of strip (this will be the objective)\n",
    "model.MaxLength = pyo.Var(within=pyo.NonNegativeReals)\n",
    "\n",
    "# generate the list of possible rectangle conflicts (which are any pair)\n",
    "def rec_pairs_filter(model, i, j):\n",
    "    return i < j\n",
    "model.OVERLAP_PAIRS = pyo.Set(initialize=model.RECTANGLES * model.RECTANGLES,\n",
    "    dimen=2, filter=rec_pairs_filter)\n",
    "\n",
    "# strip length constraint\n",
    "@model.Constraint(model.RECTANGLES)\n",
    "def strip_ends_after_last_rec(model, i):\n",
    "    return model.MaxLength >= model.x[i] + model.Length[i]\n",
    "\n",
    "# minimize length\n",
    "model.total_length = pyo.Objective(expr=model.MaxLength)\n",
    "\n",
    "#\n",
    "# Insert the no-overlap disjunctions here!\n",
    "#\n",
    "@model.Disjunction(model.OVERLAP_PAIRS)\n",
    "def noOverlap(m,i,j):\n",
    "    return [\n",
    "        m.x[i] + m.Length[i] <= m.x[j],\n",
    "        m.x[j] + m.Length[j] <= m.x[i],\n",
    "        m.y[i] + m.Width[i] <= m.y[j],\n",
    "        m.y[j] + m.Width[j] <= m.y[i],\n",
    "    ]\n",
    "#\n",
    "# Transform the model using the BigM relaxation\n",
    "#\n",
    "pyo.TransformationFactory('gdp.bigm').apply_to(model)\n",
    "\n",
    "#\n",
    "# Solve and print the solution\n",
    "#\n",
    "pyo.SolverFactory('glpk').solve(model, tee=True)\n",
    "model.pprint()\n",
    "for i in model.RECTANGLES:\n",
    "    print(\"Rectangle %s: (%s, %s)\" % (i, pyo.value(model.x[i]), pyo.value(model.y[i])))\n",
    "model.total_length.display()\n"
   ]
  }
 ],
 "metadata": {
  "kernelspec": {
   "display_name": ".venv",
   "language": "python",
   "name": "python3"
  },
  "language_info": {
   "codemirror_mode": {
    "name": "ipython",
    "version": 3
   },
   "file_extension": ".py",
   "mimetype": "text/x-python",
   "name": "python",
   "nbconvert_exporter": "python",
   "pygments_lexer": "ipython3",
   "version": "3.12.3"
  }
 },
 "nbformat": 4,
 "nbformat_minor": 2
}