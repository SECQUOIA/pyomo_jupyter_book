{
 "cells": [
  {
   "cell_type": "markdown",
   "metadata": {},
   "source": [
    "#### 3.1 Using the decorator notation for rules: \n",
    "In the slides, we saw an alternative notation for declaring and defining Pyomo components using decorators. Below we change the model to use the decorator notation."
   ]
  },
  {
   "cell_type": "code",
   "execution_count": 1,
   "metadata": {},
   "outputs": [
    {
     "name": "stdout",
     "output_type": "stream",
     "text": [
      "WARNING: Could not locate the 'glpsol' executable, which is required for\n",
      "solver 'glpk'\n"
     ]
    },
    {
     "ename": "ApplicationError",
     "evalue": "No executable found for solver 'glpk'",
     "output_type": "error",
     "traceback": [
      "\u001b[0;31m---------------------------------------------------------------------------\u001b[0m",
      "\u001b[0;31mApplicationError\u001b[0m                          Traceback (most recent call last)",
      "Cell \u001b[0;32mIn[1], line 41\u001b[0m\n\u001b[1;32m     37\u001b[0m \u001b[38;5;129m@model\u001b[39m\u001b[38;5;241m.\u001b[39mConstraint()\n\u001b[1;32m     38\u001b[0m \u001b[38;5;28;01mdef\u001b[39;00m \u001b[38;5;21mnum_warehouses\u001b[39m(m):\n\u001b[1;32m     39\u001b[0m     \u001b[38;5;28;01mreturn\u001b[39;00m \u001b[38;5;28msum\u001b[39m(m\u001b[38;5;241m.\u001b[39my[w] \u001b[38;5;28;01mfor\u001b[39;00m w \u001b[38;5;129;01min\u001b[39;00m W) \u001b[38;5;241m<\u001b[39m\u001b[38;5;241m=\u001b[39m P\n\u001b[0;32m---> 41\u001b[0m \u001b[43mpyo\u001b[49m\u001b[38;5;241;43m.\u001b[39;49m\u001b[43mSolverFactory\u001b[49m\u001b[43m(\u001b[49m\u001b[38;5;124;43m'\u001b[39;49m\u001b[38;5;124;43mglpk\u001b[39;49m\u001b[38;5;124;43m'\u001b[39;49m\u001b[43m)\u001b[49m\u001b[38;5;241;43m.\u001b[39;49m\u001b[43msolve\u001b[49m\u001b[43m(\u001b[49m\u001b[43mmodel\u001b[49m\u001b[43m)\u001b[49m\n\u001b[1;32m     43\u001b[0m model\u001b[38;5;241m.\u001b[39my\u001b[38;5;241m.\u001b[39mpprint()\n\u001b[1;32m     44\u001b[0m model\u001b[38;5;241m.\u001b[39mx\u001b[38;5;241m.\u001b[39mpprint()\n",
      "File \u001b[0;32m~/CHE498/pyomo_jupyter_book/.venv/lib/python3.10/site-packages/pyomo/opt/base/solvers.py:534\u001b[0m, in \u001b[0;36mOptSolver.solve\u001b[0;34m(self, *args, **kwds)\u001b[0m\n\u001b[1;32m    531\u001b[0m \u001b[38;5;28;01mdef\u001b[39;00m \u001b[38;5;21msolve\u001b[39m(\u001b[38;5;28mself\u001b[39m, \u001b[38;5;241m*\u001b[39margs, \u001b[38;5;241m*\u001b[39m\u001b[38;5;241m*\u001b[39mkwds):\n\u001b[1;32m    532\u001b[0m \u001b[38;5;250m    \u001b[39m\u001b[38;5;124;03m\"\"\"Solve the problem\"\"\"\u001b[39;00m\n\u001b[0;32m--> 534\u001b[0m     \u001b[38;5;28;43mself\u001b[39;49m\u001b[38;5;241;43m.\u001b[39;49m\u001b[43mavailable\u001b[49m\u001b[43m(\u001b[49m\u001b[43mexception_flag\u001b[49m\u001b[38;5;241;43m=\u001b[39;49m\u001b[38;5;28;43;01mTrue\u001b[39;49;00m\u001b[43m)\u001b[49m\n\u001b[1;32m    535\u001b[0m     \u001b[38;5;66;03m#\u001b[39;00m\n\u001b[1;32m    536\u001b[0m     \u001b[38;5;66;03m# If the inputs are models, then validate that they have been\u001b[39;00m\n\u001b[1;32m    537\u001b[0m     \u001b[38;5;66;03m# constructed! Collect suffix names to try and import from solution.\u001b[39;00m\n\u001b[1;32m    538\u001b[0m     \u001b[38;5;66;03m#\u001b[39;00m\n\u001b[1;32m    539\u001b[0m     \u001b[38;5;28;01mfrom\u001b[39;00m \u001b[38;5;21;01mpyomo\u001b[39;00m\u001b[38;5;21;01m.\u001b[39;00m\u001b[38;5;21;01mcore\u001b[39;00m\u001b[38;5;21;01m.\u001b[39;00m\u001b[38;5;21;01mbase\u001b[39;00m\u001b[38;5;21;01m.\u001b[39;00m\u001b[38;5;21;01mblock\u001b[39;00m \u001b[38;5;28;01mimport\u001b[39;00m BlockData\n",
      "File \u001b[0;32m~/CHE498/pyomo_jupyter_book/.venv/lib/python3.10/site-packages/pyomo/opt/solver/shellcmd.py:140\u001b[0m, in \u001b[0;36mSystemCallSolver.available\u001b[0;34m(self, exception_flag)\u001b[0m\n\u001b[1;32m    138\u001b[0m     \u001b[38;5;28;01mif\u001b[39;00m exception_flag:\n\u001b[1;32m    139\u001b[0m         msg \u001b[38;5;241m=\u001b[39m \u001b[38;5;124m\"\u001b[39m\u001b[38;5;124mNo executable found for solver \u001b[39m\u001b[38;5;124m'\u001b[39m\u001b[38;5;132;01m%s\u001b[39;00m\u001b[38;5;124m'\u001b[39m\u001b[38;5;124m\"\u001b[39m\n\u001b[0;32m--> 140\u001b[0m         \u001b[38;5;28;01mraise\u001b[39;00m ApplicationError(msg \u001b[38;5;241m%\u001b[39m \u001b[38;5;28mself\u001b[39m\u001b[38;5;241m.\u001b[39mname)\n\u001b[1;32m    141\u001b[0m     \u001b[38;5;28;01mreturn\u001b[39;00m \u001b[38;5;28;01mFalse\u001b[39;00m\n\u001b[1;32m    142\u001b[0m \u001b[38;5;28;01mreturn\u001b[39;00m \u001b[38;5;28;01mTrue\u001b[39;00m\n",
      "\u001b[0;31mApplicationError\u001b[0m: No executable found for solver 'glpk'"
     ]
    }
   ],
   "source": [
    "# Warehouse location determination problem using decorator notation\n",
    "import pyomo.environ as pyo\n",
    "\n",
    "model = pyo.ConcreteModel(name=\"(WL)\")\n",
    "\n",
    "W = ['Harlingen', 'Memphis', 'Ashland']\n",
    "C = ['NYC', 'LA', 'Chicago', 'Houston']\n",
    "d = {('Harlingen', 'NYC'): 1956, \\\n",
    "     ('Harlingen', 'LA'): 1606, \\\n",
    "     ('Harlingen', 'Chicago'): 1410, \\\n",
    "     ('Harlingen', 'Houston'): 330, \\\n",
    "     ('Memphis', 'NYC'): 1096, \\\n",
    "     ('Memphis', 'LA'): 1792, \\\n",
    "     ('Memphis', 'Chicago'): 531, \\\n",
    "     ('Memphis', 'Houston'): 567, \\\n",
    "     ('Ashland', 'NYC'): 485, \\\n",
    "     ('Ashland', 'LA'): 2322, \\\n",
    "     ('Ashland', 'Chicago'): 324, \\\n",
    "     ('Ashland', 'Houston'): 1236 }\n",
    "P = 2\n",
    "\n",
    "model.x = pyo.Var(W, C, bounds=(0,1))\n",
    "model.y = pyo.Var(W, within=pyo.Binary)\n",
    "\n",
    "@model.Objective()\n",
    "def obj(m):\n",
    "    return sum(d[w,c]*m.x[w,c] for w in W for c in C)\n",
    "\n",
    "@model.Constraint(C)\n",
    "def one_per_cust(m, c):\n",
    "    return sum(m.x[w,c] for w in W) == 1\n",
    "\n",
    "@model.Constraint(W,C)\n",
    "def warehouse_active(m, w, c):\n",
    "    return m.x[w,c] <= m.y[w]\n",
    "\n",
    "@model.Constraint()\n",
    "def num_warehouses(m):\n",
    "    return sum(m.y[w] for w in W) <= P\n",
    "\n",
    "pyo.SolverFactory('glpk').solve(model)\n",
    "\n",
    "model.y.pprint()\n",
    "model.x.pprint()"
   ]
  }
 ],
 "metadata": {
  "kernelspec": {
   "display_name": ".venv",
   "language": "python",
   "name": "python3"
  },
  "language_info": {
   "codemirror_mode": {
    "name": "ipython",
    "version": 3
   },
   "file_extension": ".py",
   "mimetype": "text/x-python",
   "name": "python",
   "nbconvert_exporter": "python",
   "pygments_lexer": "ipython3",
   "version": "3.10.12"
  }
 },
 "nbformat": 4,
 "nbformat_minor": 2
}