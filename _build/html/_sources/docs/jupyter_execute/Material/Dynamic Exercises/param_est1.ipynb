{
 "cells": [
  {
   "cell_type": "markdown",
   "metadata": {},
   "source": [
    "#### Parameter Estimation 1\n",
    "\n",
    "$$min \\sum ((X_{1}(t_{i}) - X_{1,meas}(t_i))^{2})$$\n",
    "$$s.t \\;\\; X_{1,dot} = X_{2} \\;\\;\\;\\;\\;\\;\\;\\; X_{1}(0) = p_{1}$$\n",
    "$$\\;\\; X_{2,dot} = 1-2*X_{2}-X_{1} \\;\\;\\;\\;\\;\\;\\;\\; X_{2}(0) = p_{2}$$\n",
    "$$-1.5 \\leq p_{1}, p_{2} \\leq 1.5$$\n",
    "$$t_{f} = 6$$"
   ]
  },
  {
   "cell_type": "code",
   "execution_count": 1,
   "metadata": {},
   "outputs": [
    {
     "name": "stdout",
     "output_type": "stream",
     "text": [
      "WARNING: Failed to create solver with name 'ipopt': Failed to set executable\n",
      "for solver ipopt. File with\n",
      "name=/home/runner/work/pyomo_jupyter_book/pyomo_jupyter_book/solvers/ipopt\n",
      "either does not exist or it is not executable. To skip this validation, call\n",
      "set_executable with validate=False.\n",
      "Traceback (most recent call last):\n",
      "  File \"/home/murraybj/CHE498/pyomo_jupyter_book/.venv/lib/python3.10/site-packages/pyomo/opt/base/solvers.py\", line 148, in __call__\n",
      "    opt = self._cls[_name](**kwds)\n",
      "  File \"/home/murraybj/CHE498/pyomo_jupyter_book/.venv/lib/python3.10/site-packages/pyomo/solvers/plugins/solvers/IPOPT.py\", line 44, in __init__\n",
      "    super(IPOPT, self).__init__(**kwds)\n",
      "  File \"/home/murraybj/CHE498/pyomo_jupyter_book/.venv/lib/python3.10/site-packages/pyomo/opt/solver/shellcmd.py\", line 66, in __init__\n",
      "    self.set_executable(name=executable, validate=validate)\n",
      "  File \"/home/murraybj/CHE498/pyomo_jupyter_book/.venv/lib/python3.10/site-packages/pyomo/opt/solver/shellcmd.py\", line 115, in set_executable\n",
      "    raise ValueError(\n",
      "ValueError: Failed to set executable for solver ipopt. File with name=/home/runner/work/pyomo_jupyter_book/pyomo_jupyter_book/solvers/ipopt either does not exist or it is not executable. To skip this validation, call set_executable with validate=False.\n"
     ]
    },
    {
     "ename": "RuntimeError",
     "evalue": "Attempting to use an unavailable solver.\n\nThe SolverFactory was unable to create the solver \"ipopt\"\nand returned an UnknownSolver object.  This error is raised at the point\nwhere the UnknownSolver object was used as if it were valid (by calling\nmethod \"solve\").\n\nThe original solver was created with the following parameters:\n\texecutable: /home/runner/work/pyomo_jupyter_book/pyomo_jupyter_book/solvers/ipopt\n\ttype: ipopt\n\t_args: ()\n\toptions: {}",
     "output_type": "error",
     "traceback": [
      "\u001b[0;31m---------------------------------------------------------------------------\u001b[0m",
      "\u001b[0;31mRuntimeError\u001b[0m                              Traceback (most recent call last)",
      "Cell \u001b[0;32mIn[1], line 51\u001b[0m\n\u001b[1;32m     48\u001b[0m ipopt_runner_path \u001b[38;5;241m=\u001b[39m \u001b[38;5;124m\"\u001b[39m\u001b[38;5;124m/home/runner/work/pyomo_jupyter_book/pyomo_jupyter_book/solvers/ipopt\u001b[39m\u001b[38;5;124m\"\u001b[39m\n\u001b[1;32m     49\u001b[0m solver \u001b[38;5;241m=\u001b[39m pyo\u001b[38;5;241m.\u001b[39mSolverFactory(\u001b[38;5;124m'\u001b[39m\u001b[38;5;124mipopt\u001b[39m\u001b[38;5;124m'\u001b[39m, executable\u001b[38;5;241m=\u001b[39mipopt_runner_path)\n\u001b[0;32m---> 51\u001b[0m results \u001b[38;5;241m=\u001b[39m \u001b[43msolver\u001b[49m\u001b[38;5;241;43m.\u001b[39;49m\u001b[43msolve\u001b[49m\u001b[43m(\u001b[49m\u001b[43mmodel\u001b[49m\u001b[43m,\u001b[49m\u001b[43mtee\u001b[49m\u001b[38;5;241;43m=\u001b[39;49m\u001b[38;5;28;43;01mTrue\u001b[39;49;00m\u001b[43m)\u001b[49m\n\u001b[1;32m     53\u001b[0m t_meas \u001b[38;5;241m=\u001b[39m \u001b[38;5;28msorted\u001b[39m(\u001b[38;5;28mlist\u001b[39m(measurements\u001b[38;5;241m.\u001b[39mkeys()))\n\u001b[1;32m     54\u001b[0m x1_meas \u001b[38;5;241m=\u001b[39m [pyo\u001b[38;5;241m.\u001b[39mvalue(measurements[i]) \u001b[38;5;28;01mfor\u001b[39;00m i \u001b[38;5;129;01min\u001b[39;00m \u001b[38;5;28msorted\u001b[39m(measurements\u001b[38;5;241m.\u001b[39mkeys())]\n",
      "File \u001b[0;32m~/CHE498/pyomo_jupyter_book/.venv/lib/python3.10/site-packages/pyomo/opt/base/solvers.py:99\u001b[0m, in \u001b[0;36mUnknownSolver.solve\u001b[0;34m(self, *args, **kwds)\u001b[0m\n\u001b[1;32m     97\u001b[0m \u001b[38;5;28;01mdef\u001b[39;00m \u001b[38;5;21msolve\u001b[39m(\u001b[38;5;28mself\u001b[39m, \u001b[38;5;241m*\u001b[39margs, \u001b[38;5;241m*\u001b[39m\u001b[38;5;241m*\u001b[39mkwds):\n\u001b[1;32m     98\u001b[0m \u001b[38;5;250m    \u001b[39m\u001b[38;5;124;03m\"\"\"Perform optimization and return an SolverResults object.\"\"\"\u001b[39;00m\n\u001b[0;32m---> 99\u001b[0m     \u001b[38;5;28;43mself\u001b[39;49m\u001b[38;5;241;43m.\u001b[39;49m\u001b[43m_solver_error\u001b[49m\u001b[43m(\u001b[49m\u001b[38;5;124;43m'\u001b[39;49m\u001b[38;5;124;43msolve\u001b[39;49m\u001b[38;5;124;43m'\u001b[39;49m\u001b[43m)\u001b[49m\n",
      "File \u001b[0;32m~/CHE498/pyomo_jupyter_book/.venv/lib/python3.10/site-packages/pyomo/opt/base/solvers.py:116\u001b[0m, in \u001b[0;36mUnknownSolver._solver_error\u001b[0;34m(self, method_name)\u001b[0m\n\u001b[1;32m    115\u001b[0m     \u001b[38;5;28;01mdef\u001b[39;00m \u001b[38;5;21m_solver_error\u001b[39m(\u001b[38;5;28mself\u001b[39m, method_name):\n\u001b[0;32m--> 116\u001b[0m         \u001b[38;5;28;01mraise\u001b[39;00m \u001b[38;5;167;01mRuntimeError\u001b[39;00m(\n\u001b[1;32m    117\u001b[0m \u001b[38;5;250m            \u001b[39m\u001b[38;5;124;03m\"\"\"Attempting to use an unavailable solver.\u001b[39;00m\n\u001b[1;32m    118\u001b[0m \n\u001b[1;32m    119\u001b[0m \u001b[38;5;124;03mThe SolverFactory was unable to create the solver \"%s\"\u001b[39;00m\n\u001b[1;32m    120\u001b[0m \u001b[38;5;124;03mand returned an UnknownSolver object.  This error is raised at the point\u001b[39;00m\n\u001b[1;32m    121\u001b[0m \u001b[38;5;124;03mwhere the UnknownSolver object was used as if it were valid (by calling\u001b[39;00m\n\u001b[1;32m    122\u001b[0m \u001b[38;5;124;03mmethod \"%s\").\u001b[39;00m\n\u001b[1;32m    123\u001b[0m \n\u001b[1;32m    124\u001b[0m \u001b[38;5;124;03mThe original solver was created with the following parameters:\u001b[39;00m\n\u001b[1;32m    125\u001b[0m \u001b[38;5;124;03m\\t\"\"\"\u001b[39;00m\n\u001b[1;32m    126\u001b[0m             \u001b[38;5;241m%\u001b[39m (\u001b[38;5;28mself\u001b[39m\u001b[38;5;241m.\u001b[39mtype, method_name)\n\u001b[1;32m    127\u001b[0m             \u001b[38;5;241m+\u001b[39m \u001b[38;5;124m\"\u001b[39m\u001b[38;5;130;01m\\n\u001b[39;00m\u001b[38;5;130;01m\\t\u001b[39;00m\u001b[38;5;124m\"\u001b[39m\u001b[38;5;241m.\u001b[39mjoin(\u001b[38;5;124m\"\u001b[39m\u001b[38;5;132;01m%s\u001b[39;00m\u001b[38;5;124m: \u001b[39m\u001b[38;5;132;01m%s\u001b[39;00m\u001b[38;5;124m\"\u001b[39m \u001b[38;5;241m%\u001b[39m i \u001b[38;5;28;01mfor\u001b[39;00m i \u001b[38;5;129;01min\u001b[39;00m \u001b[38;5;28msorted\u001b[39m(\u001b[38;5;28mself\u001b[39m\u001b[38;5;241m.\u001b[39m_kwds\u001b[38;5;241m.\u001b[39mitems()))\n\u001b[1;32m    128\u001b[0m             \u001b[38;5;241m+\u001b[39m \u001b[38;5;124m\"\u001b[39m\u001b[38;5;130;01m\\n\u001b[39;00m\u001b[38;5;130;01m\\t\u001b[39;00m\u001b[38;5;124m_args: \u001b[39m\u001b[38;5;132;01m%s\u001b[39;00m\u001b[38;5;124m\"\u001b[39m \u001b[38;5;241m%\u001b[39m (\u001b[38;5;28mself\u001b[39m\u001b[38;5;241m.\u001b[39m_args,)\n\u001b[1;32m    129\u001b[0m             \u001b[38;5;241m+\u001b[39m \u001b[38;5;124m\"\u001b[39m\u001b[38;5;130;01m\\n\u001b[39;00m\u001b[38;5;130;01m\\t\u001b[39;00m\u001b[38;5;124moptions: \u001b[39m\u001b[38;5;132;01m%s\u001b[39;00m\u001b[38;5;124m\"\u001b[39m \u001b[38;5;241m%\u001b[39m (\u001b[38;5;28mself\u001b[39m\u001b[38;5;241m.\u001b[39moptions,)\n\u001b[1;32m    130\u001b[0m         )\n",
      "\u001b[0;31mRuntimeError\u001b[0m: Attempting to use an unavailable solver.\n\nThe SolverFactory was unable to create the solver \"ipopt\"\nand returned an UnknownSolver object.  This error is raised at the point\nwhere the UnknownSolver object was used as if it were valid (by calling\nmethod \"solve\").\n\nThe original solver was created with the following parameters:\n\texecutable: /home/runner/work/pyomo_jupyter_book/pyomo_jupyter_book/solvers/ipopt\n\ttype: ipopt\n\t_args: ()\n\toptions: {}"
     ]
    }
   ],
   "source": [
    "import pyomo.environ as pyo\n",
    "from pyomo.dae import ContinuousSet, DerivativeVar\n",
    "\n",
    "measurements = {1:0.264, 2:0.594, 3:0.801, 5:0.959}\n",
    "\n",
    "model = pyo.ConcreteModel()\n",
    "model.t = ContinuousSet(initialize=measurements.keys(),bounds=(0, 6))\t\n",
    "\n",
    "model.x1 = pyo.Var(model.t)\n",
    "model.x2 = pyo.Var(model.t)\n",
    "\n",
    "model.p1 = pyo.Var(bounds=(-1.5,1.5))\n",
    "model.p2 = pyo.Var(bounds=(-1.5,1.5))\n",
    "\n",
    "model.x1dot = DerivativeVar(model.x1,wrt=model.t)\n",
    "model.x2dot = DerivativeVar(model.x2)\n",
    "\n",
    "def _init_conditions(model):\n",
    "\tyield model.x1[0] == model.p1\n",
    "\tyield model.x2[0] == model.p2\n",
    "model.init_conditions = pyo.ConstraintList(rule=_init_conditions)\n",
    "\n",
    "# Alternate way to declare initial conditions\n",
    "#def _initx1(model):\n",
    "#\treturn model.x1[0] == model.p1\t\t\n",
    "#model.initx1 = pyo.Constraint(rule=_initx1)\n",
    "\n",
    "#def _initx2(model):\n",
    "#\treturn model.x2[0] == model.p2\n",
    "#model.initx2 = pyo.Constraint(rule=_initx2)\n",
    "\n",
    "def _x1dot(model,i):\n",
    "\treturn model.x1dot[i] == model.x2[i]\n",
    "model.x1dotcon = pyo.Constraint(model.t, rule=_x1dot)\n",
    "\n",
    "def _x2dot(model,i):\n",
    "\treturn model.x2dot[i] == 1-2*model.x2[i]-model.x1[i]\n",
    "model.x2dotcon = pyo.Constraint(model.t, rule=_x2dot)\n",
    "\n",
    "def _obj(model):\n",
    "\treturn sum((model.x1[i]-measurements[i])**2 for i in measurements.keys())\n",
    "model.obj = pyo.Objective(rule=_obj)\n",
    "\n",
    "# Discretize model using Orthogonal Collocation\n",
    "discretizer = pyo.TransformationFactory('dae.collocation')\n",
    "discretizer.apply_to(model,nfe=8,ncp=5)\n",
    "\n",
    "ipopt_runner_path = \"/home/runner/work/pyomo_jupyter_book/pyomo_jupyter_book/solvers/ipopt\"\n",
    "solver = pyo.SolverFactory('ipopt', executable=ipopt_runner_path)\n",
    "\n",
    "results = solver.solve(model,tee=True)\n",
    "\n",
    "t_meas = sorted(list(measurements.keys()))\n",
    "x1_meas = [pyo.value(measurements[i]) for i in sorted(measurements.keys())]\n",
    "\n",
    "t = list(model.t)\n",
    "x1 = [pyo.value(model.x1[i]) for i in model.t]\n",
    "    \n",
    "import matplotlib.pyplot as plt\n",
    "\n",
    "plt.plot(t,x1)\n",
    "plt.plot(t_meas,x1_meas,'o')\n",
    "plt.xlabel('t')\n",
    "plt.ylabel('x')\n",
    "plt.title('Dynamic Parameter Estimation Using Collocation')\n",
    "plt.show()\n"
   ]
  }
 ],
 "metadata": {
  "kernelspec": {
   "display_name": ".venv",
   "language": "python",
   "name": "python3"
  },
  "language_info": {
   "codemirror_mode": {
    "name": "ipython",
    "version": 3
   },
   "file_extension": ".py",
   "mimetype": "text/x-python",
   "name": "python",
   "nbconvert_exporter": "python",
   "pygments_lexer": "ipython3",
   "version": "3.10.12"
  }
 },
 "nbformat": 4,
 "nbformat_minor": 2
}