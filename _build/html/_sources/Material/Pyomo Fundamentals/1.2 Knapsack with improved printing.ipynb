{
 "cells": [
  {
   "cell_type": "markdown",
   "metadata": {},
   "source": [
    "#### 1.2 Knapsack with improved printing: \n",
    "The knapsack.py example shown\n",
    "in the tutorial uses `model.pprint()` to see the value of the solution\n",
    "variables. Note that the Pyomo value function should be used to get the floating point value of Pyomo modeling components (e.g., `print(value(model.x[i])`). We can also\n",
    "print the value of the items selected (the objective), and the total\n",
    "weight."
   ]
  },
  {
   "cell_type": "code",
   "execution_count": 1,
   "metadata": {},
   "outputs": [
    {
     "name": "stdout",
     "output_type": "stream",
     "text": [
      "Total Weight: 12.0\n",
      "Total Benefit: 25.0\n",
      "        Item     Selected\n",
      "=========================\n",
      "      hammer          Yes\n",
      "      wrench           No\n",
      " screwdriver          Yes\n",
      "       towel          Yes\n",
      "-------------------------\n"
     ]
    }
   ],
   "source": [
    "import pyomo.environ as pyo\n",
    "\n",
    "A = ['hammer', 'wrench', 'screwdriver', 'towel']\n",
    "b = {'hammer':8, 'wrench':3, 'screwdriver':6, 'towel':11}\n",
    "w = {'hammer':5, 'wrench':7, 'screwdriver':4, 'towel':3}\n",
    "W_max = 14\n",
    "\n",
    "model = pyo.ConcreteModel()\n",
    "model.x = pyo.Var( A, within=pyo.Binary )\n",
    "\n",
    "model.obj = pyo.Objective(\n",
    "    expr = sum( b[i]*model.x[i] for i in A ), \n",
    "    sense = pyo.maximize )\n",
    "\n",
    "model.weight_con = pyo.Constraint(\n",
    "    expr = sum( w[i]*model.x[i] for i in A ) <= W_max )\n",
    "\n",
    "opt = pyo.SolverFactory('cbc')\n",
    "opt_success = opt.solve(model)\n",
    "\n",
    "total_weight = sum( w[i]*pyo.value(model.x[i]) for i in A )\n",
    "print('Total Weight:', total_weight)\n",
    "print('Total Benefit:', pyo.value(model.obj))\n",
    "\n",
    "print('%12s %12s' % ('Item', 'Selected'))\n",
    "print('=========================')\n",
    "for i in A:\n",
    "    acquired = 'No'\n",
    "    if pyo.value(model.x[i]) >= 0.5:\n",
    "        acquired = 'Yes'\n",
    "    print('%12s %12s' % (i, acquired))\n",
    "print('-------------------------')\n"
   ]
  }
 ],
 "metadata": {
  "kernelspec": {
   "display_name": ".venv",
   "language": "python",
   "name": "python3"
  },
  "language_info": {
   "codemirror_mode": {
    "name": "ipython",
    "version": 3
   },
   "file_extension": ".py",
   "mimetype": "text/x-python",
   "name": "python",
   "nbconvert_exporter": "python",
   "pygments_lexer": "ipython3",
   "version": "3.11.5"
  }
 },
 "nbformat": 4,
 "nbformat_minor": 2
}
