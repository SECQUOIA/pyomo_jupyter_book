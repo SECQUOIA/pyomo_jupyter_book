{
 "cells": [
  {
   "cell_type": "markdown",
   "metadata": {},
   "source": [
    "#### 3.2 Changing Parameter values: \n",
    "In the tutorial slides, we saw that a parameter could be specified to be *mutable*. This tells Pyomo that the value of the parameter may change in the future, and allows the user to\n",
    "change the parameter value and resolve the problem without the need to rebuild the entire model each time. We will use this functionality\n",
    "to find a better solution to an earlier exercise. Considering again the knapsack problem, we would like to find when the wrench becomes valuable enough to be a part of the optimal solution. Create a Pyomo *Parameter* for the value of the items, make it mutable, and then write a loop that prints the solution for different wrench values. Start with the code below. (A solution for this problem can be found in `3.2 Changing Parameter values - solution.ipynb`)"
   ]
  },
  {
   "cell_type": "code",
   "execution_count": 1,
   "metadata": {},
   "outputs": [
    {
     "name": "stdout",
     "output_type": "stream",
     "text": [
      "Wrench benefit: 1 x['wrench']: 0.0\n",
      "Wrench benefit: 2 x['wrench']: 0.0\n",
      "Wrench benefit: 3 x['wrench']: 0.0\n",
      "Wrench benefit: 4 x['wrench']: 0.0\n",
      "Wrench benefit: 5 x['wrench']: 0.0\n",
      "Wrench benefit: 6 x['wrench']: 0.0\n",
      "Wrench benefit: 7 x['wrench']: 0.0\n",
      "Wrench benefit: 8 x['wrench']: 1.0\n",
      "Wrench benefit: 9 x['wrench']: 1.0\n",
      "Wrench benefit: 10 x['wrench']: 1.0\n"
     ]
    }
   ],
   "source": [
    "import pyomo.environ as pyo\n",
    "\n",
    "A = ['hammer', 'wrench', 'screwdriver', 'towel']\n",
    "b = {'hammer':8, 'wrench':3, 'screwdriver':6, 'towel':11}\n",
    "w = {'hammer':5, 'wrench':7, 'screwdriver':4, 'towel':3}\n",
    "W_max = 14\n",
    "\n",
    "model = pyo.ConcreteModel()\n",
    "model.x = pyo.Var( A, within=pyo.Binary )\n",
    "model.item_benefit = pyo.Param( A, within=pyo.NonNegativeReals, initialize=b, mutable=True)\n",
    "\n",
    "def obj_rule(m):\n",
    "    return sum( m.item_benefit[i]*m.x[i] for i in A )\n",
    "model.obj = pyo.Objective(rule=obj_rule, sense = pyo.maximize )\n",
    "\n",
    "def weight_rule(m):\n",
    "    return sum( w[i]*m.x[i] for i in A ) <= W_max\n",
    "model.weight = pyo.Constraint(rule=weight_rule)\n",
    "\n",
    "opt = pyo.SolverFactory('glpk')\n",
    "\n",
    "for wrench_benefit in range(1,11):\n",
    "    model.item_benefit['wrench'] = wrench_benefit\n",
    "    result_obj = opt.solve(model)\n",
    "\n",
    "    print('Wrench benefit:', wrench_benefit, \"x['wrench']:\", pyo.value(model.x['wrench']))"
   ]
  }
 ],
 "metadata": {
  "kernelspec": {
   "display_name": ".venv",
   "language": "python",
   "name": "python3"
  },
  "language_info": {
   "codemirror_mode": {
    "name": "ipython",
    "version": 3
   },
   "file_extension": ".py",
   "mimetype": "text/x-python",
   "name": "python",
   "nbconvert_exporter": "python",
   "pygments_lexer": "ipython3",
   "version": "3.11.5"
  }
 },
 "nbformat": 4,
 "nbformat_minor": 2
}
