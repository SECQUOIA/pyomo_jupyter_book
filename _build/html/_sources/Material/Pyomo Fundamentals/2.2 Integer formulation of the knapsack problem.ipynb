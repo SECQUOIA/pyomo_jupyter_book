{
 "cells": [
  {
   "cell_type": "markdown",
   "metadata": {},
   "source": [
    "#### 2.2 Integer formulation of the knapsack problem: \n",
    "Consider again, the\n",
    "knapsack problem. Assume now that we can acquire multiple items of\n",
    "the same type. In this new formulation, xi is now an integer variable\n",
    "instead of a binary variable. One way to formulate this problem is as\n",
    "follows:\n",
    "$$max_{q,x} \\sum _{i \\in A} v_{i}x_{i}$$\n",
    "$$s.t \\sum _{i \\in A} w_{i}x_{i} \\leq W_{max}$$\n",
    "$$x_{i} = \\sum ^{N} _{j=0}jq_{i,j} \\;\\;\\;\\;\\;\\;\\; \\forall i \\in A$$\n",
    "$$0 \\leq x \\leq N$$\n",
    "$$q_{i,j} \\in \\{0,1\\} \\;\\;\\;\\; \\forall i \\in A, j \\in \\{0..N\\}$$\n",
    "Starting with code below, implement this new formulation and solve. Is the solution surprising? (A solution can be found in\n",
    "`2.2 Integer formulation of the knapsack problem - solution.ipynb`)\n",
    "\n"
   ]
  },
  {
   "cell_type": "code",
   "execution_count": 1,
   "metadata": {},
   "outputs": [
    {
     "name": "stdout",
     "output_type": "stream",
     "text": [
      "Total Weight: 12.0\n",
      "Total Benefit: 44.0\n",
      "        Item   # Selected\n",
      "=========================\n",
      "      hammer          0.0\n",
      "      wrench          0.0\n",
      " screwdriver          0.0\n",
      "       towel          4.0\n",
      "-------------------------\n"
     ]
    }
   ],
   "source": [
    "import pyomo.environ as pyo\n",
    "\n",
    "A = ['hammer', 'wrench', 'screwdriver', 'towel']\n",
    "b = {'hammer':8, 'wrench':3, 'screwdriver':6, 'towel':11}\n",
    "w = {'hammer':5, 'wrench':7, 'screwdriver':4, 'towel':3}\n",
    "W_max = 14\n",
    "N = range(6) # create a list from 0-5\n",
    "\n",
    "model = pyo.ConcreteModel()\n",
    "model.x = pyo.Var( A )\n",
    "model.q = pyo.Var( A, N, within=pyo.Binary )\n",
    "\n",
    "def obj_rule(m):\n",
    "    return sum( b[i]*m.x[i] for i in A )\n",
    "model.obj = pyo.Objective(rule=obj_rule, sense = pyo.maximize )\n",
    "\n",
    "def weight_con_rule(m):\n",
    "    return sum( w[i]*m.x[i] for i in A ) <= W_max\n",
    "model.weight_con = pyo.Constraint(rule=weight_con_rule)\n",
    "\n",
    "def x_integer_rule(m, i):\n",
    "    return m.x[i] == sum( j*m.q[i,j] for j in N )\n",
    "model.x_integer = pyo.Constraint(A, rule=x_integer_rule)\n",
    "\n",
    "opt = pyo.SolverFactory('glpk')\n",
    "result_obj = opt.solve(model)\n",
    "\n",
    "total_weight = sum( w[i]*pyo.value(model.x[i]) for i in A )\n",
    "print('Total Weight:', total_weight)\n",
    "print('Total Benefit:', pyo.value(model.obj))\n",
    "\n",
    "print('%12s %12s' % ('Item', '# Selected'))\n",
    "print('=========================')\n",
    "for i in A:\n",
    "    print('%12s %12s' % (i, pyo.value(model.x[i])))\n",
    "print('-------------------------')"
   ]
  }
 ],
 "metadata": {
  "kernelspec": {
   "display_name": ".venv",
   "language": "python",
   "name": "python3"
  },
  "language_info": {
   "codemirror_mode": {
    "name": "ipython",
    "version": 3
   },
   "file_extension": ".py",
   "mimetype": "text/x-python",
   "name": "python",
   "nbconvert_exporter": "python",
   "pygments_lexer": "ipython3",
   "version": "3.11.5"
  }
 },
 "nbformat": 4,
 "nbformat_minor": 2
}
