{
 "cells": [
  {
   "cell_type": "markdown",
   "metadata": {},
   "source": [
    "#### 3.4 Putting it all together with the lot sizing example: (Hart et al., 2017)\n",
    "We will now write a complete model from scratch using a well-known multi-period optimization problem for optimal lot-sizing adapted from\n",
    "Hagen et al. (2001) shown below.\n",
    "\n",
    "\n",
    "$$\\begin{align}\n",
    "min \\sum _{t \\in T} c_{t} y_{t} + h_{t}^{+}I_{t}^{+} + h_{t}^{-}I_{t}^{-} \\\\\n",
    "s.t. \\;\\;\\;I_{t} &= I_{t-1} + X_{t} - d_{t} \\\\\n",
    "I_{t} &= I_{t}^{+} - I_{t}^{-} \\\\\n",
    "X_{t} &\\leq Py_{t} \\\\\n",
    "X_{t}, I_{t}^{+}, I_{t}^{-} &\\geq 0 \\\\\n",
    "y_{t} &\\in \\{0,1\\}\n",
    "\\end{align}\n",
    "$$\n",
    "\n",
    "\n",
    "Our goal is to find the optimal production $X_{t}$ given known demands $d_{t}$, fixed cost $c_{t}$ associated with active production in a particular time\n",
    "period, an inventory holding cost $h_{t}^{+}$ and a shortage cost $h_{t}^{-}$ (cost of keeping a backlog) of orders. The variable $y_{t}$ (binary) determines if we produce in time $t$ or not, and $I_{t}^{+}$ represents inventory that we are storing\n",
    "across time period $t$, while $h_{t}^{-}$ represents the magnitude of the backlog.\n",
    "Note that equation (4) is a constraint that only allows production in time period t if the indicator variable $y_{t}=1$. Below we write a Pyomo model for this problem and solve it using *glpk* using the data provided below. \n",
    "\n",
    "| Parameter      | Description | Value     |\n",
    "| :---:       |    :----   |          :--- |\n",
    "|$c$|fixed cost of production|4.6|\n",
    "|$I_{0}^{+}$|initial value of positive inventory|5.0|\n",
    "|$I_{0}^{-}$|initial value of backlogged orders|0.0|\n",
    "|$h^{+}$|cost (per unit) of holding inventory|0.7|\n",
    "|$h^{-}$|shortage cost (per unit)|1.2|\n",
    "|$P$|maximum production amount (big-M value)|5|\n",
    "|$d$|demand|[5,7,6.2,3.1,1.7]|"
   ]
  },
  {
   "cell_type": "code",
   "execution_count": 1,
   "metadata": {},
   "outputs": [
    {
     "name": "stdout",
     "output_type": "stream",
     "text": [
      "Period: 1, Prod. Amount: 3.0\n",
      "Period: 2, Prod. Amount: 5.0\n",
      "Period: 3, Prod. Amount: 5.0\n",
      "Period: 4, Prod. Amount: 5.0\n",
      "Period: 5, Prod. Amount: 0.0\n"
     ]
    }
   ],
   "source": [
    "import pyomo.environ as pyo\n",
    "\n",
    "model = pyo.ConcreteModel()\n",
    "model.T = pyo.RangeSet(5)    # time periods\n",
    "\n",
    "i0 = 5.0           # initial inventory\n",
    "c = 4.6            # setup cost\n",
    "h_pos = 0.7        # inventory holding cost\n",
    "h_neg = 1.2        # shortage cost\n",
    "P = 5.0            # maximum production amount\n",
    "\n",
    "# demand during period t\n",
    "d = {1: 5.0, 2:7.0, 3:6.2, 4:3.1, 5:1.7}\n",
    "\n",
    "# define the variables\n",
    "model.y = pyo.Var(model.T, domain=pyo.Binary)\n",
    "model.x = pyo.Var(model.T, domain=pyo.NonNegativeReals)\n",
    "model.i = pyo.Var(model.T)\n",
    "model.i_pos = pyo.Var(model.T, domain=pyo.NonNegativeReals)\n",
    "model.i_neg = pyo.Var(model.T, domain=pyo.NonNegativeReals)\n",
    "\n",
    "# define the inventory relationships\n",
    "def inventory_rule(m, t):\n",
    "    if t == m.T.first():\n",
    "        return m.i[t] == i0 + m.x[t] - d[t]\n",
    "    return m.i[t] == m.i[t-1] + m.x[t] - d[t]\n",
    "model.inventory = pyo.Constraint(model.T, rule=inventory_rule)\n",
    "\n",
    "def pos_neg_rule(m, t):\n",
    "    return m.i[t] == m.i_pos[t] - m.i_neg[t]\n",
    "model.pos_neg = pyo.Constraint(model.T, rule=pos_neg_rule)\n",
    "\n",
    "# create the big-M constraint for the production indicator variable\n",
    "def prod_indicator_rule(m,t):\n",
    "    return m.x[t] <= P*m.y[t]\n",
    "model.prod_indicator = pyo.Constraint(model.T, rule=prod_indicator_rule)\n",
    "\n",
    "# define the cost function\n",
    "def obj_rule(m):\n",
    "    return sum(c*m.y[t] + h_pos*m.i_pos[t] + h_neg*m.i_neg[t] for t in m.T)\n",
    "model.obj = pyo.Objective(rule=obj_rule)\n",
    "\n",
    "# solve the problem\n",
    "solver = pyo.SolverFactory('glpk')\n",
    "solver.solve(model)\n",
    "\n",
    "# print the results\n",
    "for t in model.T:\n",
    "    print('Period: {0}, Prod. Amount: {1}'.format(t, pyo.value(model.x[t]))) \n"
   ]
  }
 ],
 "metadata": {
  "kernelspec": {
   "display_name": ".venv",
   "language": "python",
   "name": "python3"
  },
  "language_info": {
   "codemirror_mode": {
    "name": "ipython",
    "version": 3
   },
   "file_extension": ".py",
   "mimetype": "text/x-python",
   "name": "python",
   "nbconvert_exporter": "python",
   "pygments_lexer": "ipython3",
   "version": "3.11.5"
  }
 },
 "nbformat": 4,
 "nbformat_minor": 2
}
