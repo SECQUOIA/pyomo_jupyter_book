{
 "cells": [
  {
   "cell_type": "markdown",
   "metadata": {},
   "source": [
    "### 1.1 Alternative Initialization: \n",
    "Effective initialization can be critical for solving nonlinear problems, since they can have several local solutions\n",
    "and numerical difficulties. Below we solve the Rosenbrock example using different initial values for the x variables. We write a loop that varies the initial value from 2.0 to 6.0, solves the problem, and prints the solution for each iteration of the loop."
   ]
  },
  {
   "cell_type": "code",
   "execution_count": 1,
   "metadata": {},
   "outputs": [
    {
     "name": "stdout",
     "output_type": "stream",
     "text": [
      "x_init, y_init, x_soln, y_soln\n",
      "  2.00    5.00    1.00    1.00\n",
      "  3.00    5.00    1.00    1.00\n",
      "  4.00    5.00    1.00    1.00\n",
      "  5.00    5.00    1.00    1.00\n"
     ]
    }
   ],
   "source": [
    "# rosenbrock_script_loop.py: A Pyomo model for the Rosenbrock problem\n",
    "import pyomo.environ as pyo\n",
    "\n",
    "model = pyo.ConcreteModel()\n",
    "model.x = pyo.Var()\n",
    "model.y = pyo.Var()\n",
    "\n",
    "def rosenbrock(m):\n",
    "    return (1.0-m.x)**2 + 100.0*(m.y - m.x**2)**2\n",
    "model.obj = pyo.Objective(rule=rosenbrock, sense=pyo.minimize)\n",
    "\n",
    "\n",
    "solver = pyo.SolverFactory('ipopt', exectuable='pyomo_jupyter_book/solvers/ipopt')\n",
    "\n",
    "print('x_init, y_init, x_soln, y_soln')\n",
    "y_init = 5.0\n",
    "for x_init in range(2, 6):\n",
    "    model.x = x_init\n",
    "    model.y = 5.0\n",
    "\n",
    "    solver.solve(model)\n",
    "\n",
    "    print(\"{0:6.2f}  {1:6.2f}  {2:6.2f}  {3:6.2f}\".format(x_init, \\\n",
    "            y_init, pyo.value(model.x), pyo.value(model.y)))\n"
   ]
  }
 ],
 "metadata": {
  "kernelspec": {
   "display_name": ".venv",
   "language": "python",
   "name": "python3"
  },
  "language_info": {
   "codemirror_mode": {
    "name": "ipython",
    "version": 3
   },
   "file_extension": ".py",
   "mimetype": "text/x-python",
   "name": "python",
   "nbconvert_exporter": "python",
   "pygments_lexer": "ipython3",
   "version": "3.11.5"
  }
 },
 "nbformat": 4,
 "nbformat_minor": 2
}
