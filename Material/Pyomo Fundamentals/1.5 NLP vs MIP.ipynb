{
 "cells": [
  {
   "cell_type": "markdown",
   "metadata": {},
   "source": [
    "#### 1.5 NLP vs MIP: \n",
    "Here we solve the knapsack problem with Ipopt instead of glpk. What happened? Why?\n"
   ]
  },
  {
   "cell_type": "code",
   "execution_count": 1,
   "metadata": {},
   "outputs": [
    {
     "name": "stdout",
     "output_type": "stream",
     "text": [
      "1 Var Declarations\n",
      "    x : Size=4, Index={hammer, wrench, screwdriver, towel}\n",
      "        Key         : Lower : Value              : Upper : Fixed : Stale : Domain\n",
      "             hammer :     0 :                1.0 :     1 : False : False : Binary\n",
      "        screwdriver :     0 :                1.0 :     1 : False : False : Binary\n",
      "              towel :     0 :                1.0 :     1 : False : False : Binary\n",
      "             wrench :     0 : 0.2857142884855867 :     1 : False : False : Binary\n",
      "\n",
      "1 Objective Declarations\n",
      "    obj : Size=1, Index=None, Active=True\n",
      "        Key  : Active : Sense    : Expression\n",
      "        None :   True : maximize : 8*x[hammer] + 3*x[wrench] + 6*x[screwdriver] + 11*x[towel]\n",
      "\n",
      "1 Constraint Declarations\n",
      "    weight_con : Size=1, Index=None, Active=True\n",
      "        Key  : Lower : Body                                                      : Upper : Active\n",
      "        None :  -Inf : 5*x[hammer] + 7*x[wrench] + 4*x[screwdriver] + 3*x[towel] :  14.0 :   True\n",
      "\n",
      "3 Declarations: x obj weight_con\n"
     ]
    }
   ],
   "source": [
    "import pyomo.environ as pyo\n",
    "\n",
    "A = ['hammer', 'wrench', 'screwdriver', 'towel']\n",
    "b = {'hammer':8, 'wrench':3, 'screwdriver':6, 'towel':11}\n",
    "w = {'hammer':5, 'wrench':7, 'screwdriver':4, 'towel':3}\n",
    "W_max = 14\n",
    "\n",
    "model = pyo.ConcreteModel()\n",
    "model.x = pyo.Var( A, within=pyo.Binary )\n",
    "\n",
    "model.obj = pyo.Objective(\n",
    "    expr = sum( b[i]*model.x[i] for i in A ), \n",
    "    sense = pyo.maximize )\n",
    "\n",
    "model.weight_con = pyo.Constraint(\n",
    "    expr = sum( w[i]*model.x[i] for i in A ) <= W_max )\n",
    "\n",
    "opt = pyo.SolverFactory('ipopt')\n",
    "opt_success = opt.solve(model)\n",
    "\n",
    "model.pprint()\n",
    "\n"
   ]
  }
 ],
 "metadata": {
  "kernelspec": {
   "display_name": ".venv",
   "language": "python",
   "name": "python3"
  },
  "language_info": {
   "codemirror_mode": {
    "name": "ipython",
    "version": 3
   },
   "file_extension": ".py",
   "mimetype": "text/x-python",
   "name": "python",
   "nbconvert_exporter": "python",
   "pygments_lexer": "ipython3",
   "version": "3.11.5"
  }
 },
 "nbformat": 4,
 "nbformat_minor": 2
}
