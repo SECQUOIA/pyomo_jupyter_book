{
 "cells": [
  {
   "cell_type": "markdown",
   "metadata": {},
   "source": [
    "# Knapsack: Exercise 1.4 - Loading Data from Excel\n",
    "\n",
    "In the knapsack example shown in the tutorial slides, the data is hardcoded at the top of the file. Instead of hard-coding the data, we can use Python to load the data from a different source.\n",
    "\n",
    "**Learning Objectives:**\n",
    "- Learn to read external data sources (Excel files)\n",
    "- Understand data integration with Pyomo models\n",
    "- Practice using pandas for data manipulation\n",
    "- See how to make models more flexible and reusable"
   ]
  },
  {
   "cell_type": "code",
   "execution_count": 1,
   "metadata": {},
   "outputs": [
    {
     "name": "stdout",
     "output_type": "stream",
     "text": [
      "Total Weight: 12.0\n",
      "Total Benefit: 25.0\n",
      "        Item     Selected\n",
      "=========================\n",
      "      hammer          Yes\n",
      "      wrench           No\n",
      " screwdriver          Yes\n",
      "       towel          Yes\n",
      "-------------------------\n"
     ]
    }
   ],
   "source": [
    "import pandas as pd\n",
    "import pyomo.environ as pyo\n",
    "import os\n",
    "import openpyxl\n",
    "path = os.path.abspath('knapsack_data.xlsx')\n",
    "df_items = pd.read_excel(path, sheet_name='data', header=0, index_col=0)\n",
    "W_max = 14\n",
    "\n",
    "A = df_items.index.tolist()\n",
    "b = df_items['Benefit'].to_dict()\n",
    "w = df_items['Weight'].to_dict()\n",
    "\n",
    "model = pyo.ConcreteModel()\n",
    "model.x = pyo.Var( A, within=pyo.Binary )\n",
    "\n",
    "model.obj = pyo.Objective(\n",
    "    expr = sum( b[i]*model.x[i] for i in A ), \n",
    "    sense = pyo.maximize )\n",
    "\n",
    "model.weight_con = pyo.Constraint(\n",
    "    expr = sum( w[i]*model.x[i] for i in A ) <= W_max )\n",
    "\n",
    "opt = pyo.SolverFactory('cbc')\n",
    "opt_success = opt.solve(model)\n",
    "\n",
    "total_weight = sum( w[i]*pyo.value(model.x[i]) for i in A )\n",
    "print('Total Weight:', total_weight)\n",
    "print('Total Benefit:', pyo.value(model.obj))\n",
    "\n",
    "print('%12s %12s' % ('Item', 'Selected'))\n",
    "print('=========================')\n",
    "for i in A:\n",
    "    acquired = 'No'\n",
    "    if pyo.value(model.x[i]) >= 0.5:\n",
    "        acquired = 'Yes'\n",
    "    print('%12s %12s' % (i, acquired))\n",
    "print('-------------------------')\n"
   ]
  }
 ],
 "metadata": {
  "kernelspec": {
   "display_name": ".venv",
   "language": "python",
   "name": "python3"
  },
  "language_info": {
   "codemirror_mode": {
    "name": "ipython",
    "version": 3
   },
   "file_extension": ".py",
   "mimetype": "text/x-python",
   "name": "python",
   "nbconvert_exporter": "python",
   "pygments_lexer": "ipython3",
   "version": "3.11.5"
  }
 },
 "nbformat": 4,
 "nbformat_minor": 2
}
