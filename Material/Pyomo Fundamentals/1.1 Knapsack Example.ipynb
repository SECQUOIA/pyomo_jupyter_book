{
 "cells": [
  {
   "cell_type": "markdown",
   "metadata": {},
   "source": [
    "# 1.1 Knapsack example: \n",
    "Below is the knapsack problem. Which items are acquired in the optimal solution? What is the value of the selected items?"
   ]
  },
  {
   "cell_type": "code",
   "execution_count": 17,
   "metadata": {},
   "outputs": [
    {
     "ename": "KeyboardInterrupt",
     "evalue": "",
     "output_type": "error",
     "traceback": [
      "\u001b[1;31m---------------------------------------------------------------------------\u001b[0m",
      "\u001b[1;31mKeyboardInterrupt\u001b[0m                         Traceback (most recent call last)",
      "Cell \u001b[1;32mIn[17], line 22\u001b[0m\n\u001b[0;32m     17\u001b[0m model\u001b[38;5;241m.\u001b[39mweight_con \u001b[38;5;241m=\u001b[39m pyo\u001b[38;5;241m.\u001b[39mConstraint(\n\u001b[0;32m     18\u001b[0m     expr \u001b[38;5;241m=\u001b[39m \u001b[38;5;28msum\u001b[39m( w[i]\u001b[38;5;241m*\u001b[39mmodel\u001b[38;5;241m.\u001b[39mx[i] \u001b[38;5;28;01mfor\u001b[39;00m i \u001b[38;5;129;01min\u001b[39;00m A ) \u001b[38;5;241m<\u001b[39m\u001b[38;5;241m=\u001b[39m W_max )\n\u001b[0;32m     20\u001b[0m opt \u001b[38;5;241m=\u001b[39m HiGHS(time_limit\u001b[38;5;241m=\u001b[39m\u001b[38;5;241m0.000001\u001b[39m)\n\u001b[1;32m---> 22\u001b[0m opt_success \u001b[38;5;241m=\u001b[39m \u001b[43mopt\u001b[49m\u001b[38;5;241;43m.\u001b[39;49m\u001b[43msolve\u001b[49m\u001b[43m(\u001b[49m\u001b[43mmodel\u001b[49m\u001b[43m)\u001b[49m\n\u001b[0;32m     23\u001b[0m model\u001b[38;5;241m.\u001b[39mpprint()\n",
      "File \u001b[1;32mc:\\Users\\bmurr\\AppData\\Local\\Programs\\Python\\Python311\\Lib\\site-packages\\gethighs\\solver.py:217\u001b[0m, in \u001b[0;36mHiGHS.solve\u001b[1;34m(self, model, time_limit, warmstart, write_model_file, solution_file, log_file, removefiles, removelog, symbolic_model, rounding_digits, truncate_precision, sleep_time, **options)\u001b[0m\n\u001b[0;32m    215\u001b[0m time\u001b[38;5;241m.\u001b[39msleep(sleep_time)\n\u001b[0;32m    216\u001b[0m \u001b[38;5;28;01mwhile\u001b[39;00m \u001b[38;5;129;01mnot\u001b[39;00m os\u001b[38;5;241m.\u001b[39mpath\u001b[38;5;241m.\u001b[39mexists(solfile):\n\u001b[1;32m--> 217\u001b[0m     \u001b[43mtime\u001b[49m\u001b[38;5;241;43m.\u001b[39;49m\u001b[43msleep\u001b[49m\u001b[43m(\u001b[49m\u001b[43msleep_time\u001b[49m\u001b[43m)\u001b[49m\n\u001b[0;32m    218\u001b[0m \u001b[38;5;28;01mwhile\u001b[39;00m \u001b[38;5;129;01mnot\u001b[39;00m \u001b[38;5;28mself\u001b[39m\u001b[38;5;241m.\u001b[39m_check_complete_sol():\n\u001b[0;32m    219\u001b[0m     time\u001b[38;5;241m.\u001b[39msleep(sleep_time)\n",
      "\u001b[1;31mKeyboardInterrupt\u001b[0m: "
     ]
    }
   ],
   "source": [
    "# knapsack.py \n",
    "import pyomo.environ as pyo\n",
    "from gethighs import HiGHS\n",
    "\n",
    "A = ['hammer', 'wrench', 'screwdriver', 'towel']\n",
    "b = {'hammer':8, 'wrench':3, 'screwdriver':6, 'towel':11}\n",
    "w = {'hammer':5, 'wrench':7, 'screwdriver':4, 'towel':3}\n",
    "W_max = 14\n",
    "\n",
    "model = pyo.ConcreteModel()\n",
    "model.x = pyo.Var( A, within=pyo.Binary )\n",
    "\n",
    "model.obj = pyo.Objective(\n",
    "    expr = sum( b[i]*model.x[i] for i in A ), \n",
    "    sense = pyo.maximize )\n",
    "\n",
    "model.weight_con = pyo.Constraint(\n",
    "    expr = sum( w[i]*model.x[i] for i in A ) <= W_max )\n",
    "\n",
    "opt = HiGHS(time_limit=0.000001)\n",
    "\n",
    "opt_success = opt.solve(model)\n",
    "model.pprint()"
   ]
  }
 ],
 "metadata": {
  "kernelspec": {
   "display_name": ".venv",
   "language": "python",
   "name": "python3"
  },
  "language_info": {
   "codemirror_mode": {
    "name": "ipython",
    "version": 3
   },
   "file_extension": ".py",
   "mimetype": "text/x-python",
   "name": "python",
   "nbconvert_exporter": "python",
   "pygments_lexer": "ipython3",
   "version": "3.11.5"
  }
 },
 "nbformat": 4,
 "nbformat_minor": 2
}
