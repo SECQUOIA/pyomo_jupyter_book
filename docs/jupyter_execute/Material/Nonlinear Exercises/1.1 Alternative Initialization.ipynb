{
 "cells": [
  {
   "cell_type": "markdown",
   "metadata": {},
   "source": [
    "### 1.1 Alternative Initialization: \n",
    "Effective initialization can be critical for solving nonlinear problems, since they can have several local solutions\n",
    "and numerical difficulties. Below we solve the Rosenbrock example using different initial values for the x variables. We write a loop that varies the initial value from 2.0 to 6.0, solves the problem, and prints the solution for each iteration of the loop."
   ]
  },
  {
   "cell_type": "code",
   "execution_count": 1,
   "metadata": {},
   "outputs": [
    {
     "name": "stdout",
     "output_type": "stream",
     "text": [
      "WARNING: Failed to create solver with name 'ipopt': Failed to set executable\n",
      "for solver ipopt. File with\n",
      "name=/home/runner/work/pyomo_jupyter_book/pyomo_jupyter_book/solvers/ipopt\n",
      "either does not exist or it is not executable. To skip this validation, call\n",
      "set_executable with validate=False.\n",
      "Traceback (most recent call last):\n",
      "  File \"/home/murraybj/CHE498/pyomo_jupyter_book/.venv/lib/python3.10/site-packages/pyomo/opt/base/solvers.py\", line 148, in __call__\n",
      "    opt = self._cls[_name](**kwds)\n",
      "  File \"/home/murraybj/CHE498/pyomo_jupyter_book/.venv/lib/python3.10/site-packages/pyomo/solvers/plugins/solvers/IPOPT.py\", line 44, in __init__\n",
      "    super(IPOPT, self).__init__(**kwds)\n",
      "  File \"/home/murraybj/CHE498/pyomo_jupyter_book/.venv/lib/python3.10/site-packages/pyomo/opt/solver/shellcmd.py\", line 66, in __init__\n",
      "    self.set_executable(name=executable, validate=validate)\n",
      "  File \"/home/murraybj/CHE498/pyomo_jupyter_book/.venv/lib/python3.10/site-packages/pyomo/opt/solver/shellcmd.py\", line 115, in set_executable\n",
      "    raise ValueError(\n",
      "ValueError: Failed to set executable for solver ipopt. File with name=/home/runner/work/pyomo_jupyter_book/pyomo_jupyter_book/solvers/ipopt either does not exist or it is not executable. To skip this validation, call set_executable with validate=False.\n"
     ]
    },
    {
     "name": "stdout",
     "output_type": "stream",
     "text": [
      "x_init, y_init, x_soln, y_soln\n"
     ]
    },
    {
     "ename": "RuntimeError",
     "evalue": "Attempting to use an unavailable solver.\n\nThe SolverFactory was unable to create the solver \"ipopt\"\nand returned an UnknownSolver object.  This error is raised at the point\nwhere the UnknownSolver object was used as if it were valid (by calling\nmethod \"solve\").\n\nThe original solver was created with the following parameters:\n\texecutable: /home/runner/work/pyomo_jupyter_book/pyomo_jupyter_book/solvers/ipopt\n\ttype: ipopt\n\t_args: ()\n\toptions: {}",
     "output_type": "error",
     "traceback": [
      "\u001b[0;31m---------------------------------------------------------------------------\u001b[0m",
      "\u001b[0;31mRuntimeError\u001b[0m                              Traceback (most recent call last)",
      "Cell \u001b[0;32mIn[1], line 22\u001b[0m\n\u001b[1;32m     19\u001b[0m model\u001b[38;5;241m.\u001b[39mx \u001b[38;5;241m=\u001b[39m x_init\n\u001b[1;32m     20\u001b[0m model\u001b[38;5;241m.\u001b[39my \u001b[38;5;241m=\u001b[39m \u001b[38;5;241m5.0\u001b[39m\n\u001b[0;32m---> 22\u001b[0m \u001b[43msolver\u001b[49m\u001b[38;5;241;43m.\u001b[39;49m\u001b[43msolve\u001b[49m\u001b[43m(\u001b[49m\u001b[43mmodel\u001b[49m\u001b[43m)\u001b[49m\n\u001b[1;32m     24\u001b[0m \u001b[38;5;28mprint\u001b[39m(\u001b[38;5;124m\"\u001b[39m\u001b[38;5;132;01m{0:6.2f}\u001b[39;00m\u001b[38;5;124m  \u001b[39m\u001b[38;5;132;01m{1:6.2f}\u001b[39;00m\u001b[38;5;124m  \u001b[39m\u001b[38;5;132;01m{2:6.2f}\u001b[39;00m\u001b[38;5;124m  \u001b[39m\u001b[38;5;132;01m{3:6.2f}\u001b[39;00m\u001b[38;5;124m\"\u001b[39m\u001b[38;5;241m.\u001b[39mformat(x_init, \\\n\u001b[1;32m     25\u001b[0m         y_init, pyo\u001b[38;5;241m.\u001b[39mvalue(model\u001b[38;5;241m.\u001b[39mx), pyo\u001b[38;5;241m.\u001b[39mvalue(model\u001b[38;5;241m.\u001b[39my)))\n",
      "File \u001b[0;32m~/CHE498/pyomo_jupyter_book/.venv/lib/python3.10/site-packages/pyomo/opt/base/solvers.py:99\u001b[0m, in \u001b[0;36mUnknownSolver.solve\u001b[0;34m(self, *args, **kwds)\u001b[0m\n\u001b[1;32m     97\u001b[0m \u001b[38;5;28;01mdef\u001b[39;00m \u001b[38;5;21msolve\u001b[39m(\u001b[38;5;28mself\u001b[39m, \u001b[38;5;241m*\u001b[39margs, \u001b[38;5;241m*\u001b[39m\u001b[38;5;241m*\u001b[39mkwds):\n\u001b[1;32m     98\u001b[0m \u001b[38;5;250m    \u001b[39m\u001b[38;5;124;03m\"\"\"Perform optimization and return an SolverResults object.\"\"\"\u001b[39;00m\n\u001b[0;32m---> 99\u001b[0m     \u001b[38;5;28;43mself\u001b[39;49m\u001b[38;5;241;43m.\u001b[39;49m\u001b[43m_solver_error\u001b[49m\u001b[43m(\u001b[49m\u001b[38;5;124;43m'\u001b[39;49m\u001b[38;5;124;43msolve\u001b[39;49m\u001b[38;5;124;43m'\u001b[39;49m\u001b[43m)\u001b[49m\n",
      "File \u001b[0;32m~/CHE498/pyomo_jupyter_book/.venv/lib/python3.10/site-packages/pyomo/opt/base/solvers.py:116\u001b[0m, in \u001b[0;36mUnknownSolver._solver_error\u001b[0;34m(self, method_name)\u001b[0m\n\u001b[1;32m    115\u001b[0m     \u001b[38;5;28;01mdef\u001b[39;00m \u001b[38;5;21m_solver_error\u001b[39m(\u001b[38;5;28mself\u001b[39m, method_name):\n\u001b[0;32m--> 116\u001b[0m         \u001b[38;5;28;01mraise\u001b[39;00m \u001b[38;5;167;01mRuntimeError\u001b[39;00m(\n\u001b[1;32m    117\u001b[0m \u001b[38;5;250m            \u001b[39m\u001b[38;5;124;03m\"\"\"Attempting to use an unavailable solver.\u001b[39;00m\n\u001b[1;32m    118\u001b[0m \n\u001b[1;32m    119\u001b[0m \u001b[38;5;124;03mThe SolverFactory was unable to create the solver \"%s\"\u001b[39;00m\n\u001b[1;32m    120\u001b[0m \u001b[38;5;124;03mand returned an UnknownSolver object.  This error is raised at the point\u001b[39;00m\n\u001b[1;32m    121\u001b[0m \u001b[38;5;124;03mwhere the UnknownSolver object was used as if it were valid (by calling\u001b[39;00m\n\u001b[1;32m    122\u001b[0m \u001b[38;5;124;03mmethod \"%s\").\u001b[39;00m\n\u001b[1;32m    123\u001b[0m \n\u001b[1;32m    124\u001b[0m \u001b[38;5;124;03mThe original solver was created with the following parameters:\u001b[39;00m\n\u001b[1;32m    125\u001b[0m \u001b[38;5;124;03m\\t\"\"\"\u001b[39;00m\n\u001b[1;32m    126\u001b[0m             \u001b[38;5;241m%\u001b[39m (\u001b[38;5;28mself\u001b[39m\u001b[38;5;241m.\u001b[39mtype, method_name)\n\u001b[1;32m    127\u001b[0m             \u001b[38;5;241m+\u001b[39m \u001b[38;5;124m\"\u001b[39m\u001b[38;5;130;01m\\n\u001b[39;00m\u001b[38;5;130;01m\\t\u001b[39;00m\u001b[38;5;124m\"\u001b[39m\u001b[38;5;241m.\u001b[39mjoin(\u001b[38;5;124m\"\u001b[39m\u001b[38;5;132;01m%s\u001b[39;00m\u001b[38;5;124m: \u001b[39m\u001b[38;5;132;01m%s\u001b[39;00m\u001b[38;5;124m\"\u001b[39m \u001b[38;5;241m%\u001b[39m i \u001b[38;5;28;01mfor\u001b[39;00m i \u001b[38;5;129;01min\u001b[39;00m \u001b[38;5;28msorted\u001b[39m(\u001b[38;5;28mself\u001b[39m\u001b[38;5;241m.\u001b[39m_kwds\u001b[38;5;241m.\u001b[39mitems()))\n\u001b[1;32m    128\u001b[0m             \u001b[38;5;241m+\u001b[39m \u001b[38;5;124m\"\u001b[39m\u001b[38;5;130;01m\\n\u001b[39;00m\u001b[38;5;130;01m\\t\u001b[39;00m\u001b[38;5;124m_args: \u001b[39m\u001b[38;5;132;01m%s\u001b[39;00m\u001b[38;5;124m\"\u001b[39m \u001b[38;5;241m%\u001b[39m (\u001b[38;5;28mself\u001b[39m\u001b[38;5;241m.\u001b[39m_args,)\n\u001b[1;32m    129\u001b[0m             \u001b[38;5;241m+\u001b[39m \u001b[38;5;124m\"\u001b[39m\u001b[38;5;130;01m\\n\u001b[39;00m\u001b[38;5;130;01m\\t\u001b[39;00m\u001b[38;5;124moptions: \u001b[39m\u001b[38;5;132;01m%s\u001b[39;00m\u001b[38;5;124m\"\u001b[39m \u001b[38;5;241m%\u001b[39m (\u001b[38;5;28mself\u001b[39m\u001b[38;5;241m.\u001b[39moptions,)\n\u001b[1;32m    130\u001b[0m         )\n",
      "\u001b[0;31mRuntimeError\u001b[0m: Attempting to use an unavailable solver.\n\nThe SolverFactory was unable to create the solver \"ipopt\"\nand returned an UnknownSolver object.  This error is raised at the point\nwhere the UnknownSolver object was used as if it were valid (by calling\nmethod \"solve\").\n\nThe original solver was created with the following parameters:\n\texecutable: /home/runner/work/pyomo_jupyter_book/pyomo_jupyter_book/solvers/ipopt\n\ttype: ipopt\n\t_args: ()\n\toptions: {}"
     ]
    }
   ],
   "source": [
    "# rosenbrock_script_loop.py: A Pyomo model for the Rosenbrock problem\n",
    "import pyomo.environ as pyo\n",
    "\n",
    "model = pyo.ConcreteModel()\n",
    "model.x = pyo.Var()\n",
    "model.y = pyo.Var()\n",
    "\n",
    "def rosenbrock(m):\n",
    "    return (1.0-m.x)**2 + 100.0*(m.y - m.x**2)**2\n",
    "model.obj = pyo.Objective(rule=rosenbrock, sense=pyo.minimize)\n",
    "\n",
    "\n",
    "ipopt_runner_path = \"/home/runner/work/pyomo_jupyter_book/pyomo_jupyter_book/solvers/ipopt\"\n",
    "solver = pyo.SolverFactory('ipopt', executable=ipopt_runner_path)\n",
    "\n",
    "print('x_init, y_init, x_soln, y_soln')\n",
    "y_init = 5.0\n",
    "for x_init in range(2, 6):\n",
    "    model.x = x_init\n",
    "    model.y = 5.0\n",
    "\n",
    "    solver.solve(model)\n",
    "\n",
    "    print(\"{0:6.2f}  {1:6.2f}  {2:6.2f}  {3:6.2f}\".format(x_init, \\\n",
    "            y_init, pyo.value(model.x), pyo.value(model.y)))\n"
   ]
  }
 ],
 "metadata": {
  "kernelspec": {
   "display_name": ".venv",
   "language": "python",
   "name": "python3"
  },
  "language_info": {
   "codemirror_mode": {
    "name": "ipython",
    "version": 3
   },
   "file_extension": ".py",
   "mimetype": "text/x-python",
   "name": "python",
   "nbconvert_exporter": "python",
   "pygments_lexer": "ipython3",
   "version": "3.10.12"
  }
 },
 "nbformat": 4,
 "nbformat_minor": 2
}