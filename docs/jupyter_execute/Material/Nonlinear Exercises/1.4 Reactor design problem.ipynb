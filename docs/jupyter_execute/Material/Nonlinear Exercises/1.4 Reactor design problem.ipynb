{
 "cells": [
  {
   "cell_type": "markdown",
   "metadata": {},
   "source": [
    "#### 1.4 Reactor design problem (Hart et al., 2017; Bequette, 2003): \n",
    "In this example, we will consider a chemical reactor designed to produce\n",
    "product B from reactant A using a reaction scheme known as the Van\n",
    "de Vusse reaction:\n",
    "\n",
    "$$A^{\\underrightarrow{k_{1}}}B^{\\underrightarrow{k_{2}}}C$$\n",
    "$$2A^{\\underrightarrow{k_{3}}}D$$\n",
    "Under appropriate assumptions, $F$ is the volumetric flowrate through the tank. The concentation of component $A$ in the feed is $c_{Af}$ , and the concentrations in the reactor are equivalent to the concentrations of each component flowing out of the reactor, given by $c_{A}, c_{B}, c_{C}, c_{D}$\n",
    "\n",
    "If the reactor is too small, we will not produce sufficient quantity of $B$, and if the reactor is too large, much of $B$ will be further reacted to form the undesired product $C$. Therefore, our goal is to solve for the reactor volume that maximizes the outlet concentration for product $B$.\n",
    "\n",
    "The steady-state mole balances for each of the four components are given by,\n",
    "\n",
    "$$0 = \\frac{F}{V}c_{Af} - \\frac{F}{V}c_{A} - k_{1}c_{A} - 2k_{3}c_{A}^{2}$$\n",
    "$$0 = -\\frac{F}{V}c_{B} + k_{1}c_{A} - k_{2}c_{B}$$\n",
    "$$0 = -\\frac{F}{V}c_{C} + k_{2}c_{B}$$\n",
    "$$0 = -\\frac{F}{V}c_{D} + k_{3}c_{A}^{2}$$\n",
    "\n",
    "The known parameters for the system are,\n",
    "\n",
    "$$c_{Af} = 10 \\frac{gmol}{m^3} \\;\\;\\;\\; k_{1} = \\frac{5}{6} min^{-1} \\;\\;\\;\\; k_{2} = \\frac{5}{3} min^{-1} \\;\\;\\;\\; k_{3} = \\frac{1}{6000} \\frac{m^{3}}{mol\\;min}$$\n",
    "\n",
    "Below we formulate and solve this optimization problem using Pyomo. Since the\n",
    "volumetric flowrate $F$ always appears as the numerator over the reactor\n",
    "volume $V$ , it is common to consider this ratio as a single variable, called\n",
    "the space-velocity $SV$. "
   ]
  },
  {
   "cell_type": "code",
   "execution_count": 1,
   "metadata": {},
   "outputs": [
    {
     "name": "stdout",
     "output_type": "stream",
     "text": [
      "WARNING: Failed to create solver with name 'ipopt': Failed to set executable\n",
      "for solver ipopt. File with\n",
      "name=/home/runner/work/pyomo_jupyter_book/pyomo_jupyter_book/solvers/ipopt\n",
      "either does not exist or it is not executable. To skip this validation, call\n",
      "set_executable with validate=False.\n",
      "Traceback (most recent call last):\n",
      "  File \"/home/murraybj/CHE498/pyomo_jupyter_book/.venv/lib/python3.10/site-packages/pyomo/opt/base/solvers.py\", line 148, in __call__\n",
      "    opt = self._cls[_name](**kwds)\n",
      "  File \"/home/murraybj/CHE498/pyomo_jupyter_book/.venv/lib/python3.10/site-packages/pyomo/solvers/plugins/solvers/IPOPT.py\", line 44, in __init__\n",
      "    super(IPOPT, self).__init__(**kwds)\n",
      "  File \"/home/murraybj/CHE498/pyomo_jupyter_book/.venv/lib/python3.10/site-packages/pyomo/opt/solver/shellcmd.py\", line 66, in __init__\n",
      "    self.set_executable(name=executable, validate=validate)\n",
      "  File \"/home/murraybj/CHE498/pyomo_jupyter_book/.venv/lib/python3.10/site-packages/pyomo/opt/solver/shellcmd.py\", line 115, in set_executable\n",
      "    raise ValueError(\n",
      "ValueError: Failed to set executable for solver ipopt. File with name=/home/runner/work/pyomo_jupyter_book/pyomo_jupyter_book/solvers/ipopt either does not exist or it is not executable. To skip this validation, call set_executable with validate=False.\n"
     ]
    },
    {
     "ename": "RuntimeError",
     "evalue": "Attempting to use an unavailable solver.\n\nThe SolverFactory was unable to create the solver \"ipopt\"\nand returned an UnknownSolver object.  This error is raised at the point\nwhere the UnknownSolver object was used as if it were valid (by calling\nmethod \"solve\").\n\nThe original solver was created with the following parameters:\n\texecutable: /home/runner/work/pyomo_jupyter_book/pyomo_jupyter_book/solvers/ipopt\n\ttype: ipopt\n\t_args: ()\n\toptions: {}",
     "output_type": "error",
     "traceback": [
      "\u001b[0;31m---------------------------------------------------------------------------\u001b[0m",
      "\u001b[0;31mRuntimeError\u001b[0m                              Traceback (most recent call last)",
      "Cell \u001b[0;32mIn[1], line 39\u001b[0m\n\u001b[1;32m     36\u001b[0m ipopt_runner_path \u001b[38;5;241m=\u001b[39m \u001b[38;5;124m\"\u001b[39m\u001b[38;5;124m/home/runner/work/pyomo_jupyter_book/pyomo_jupyter_book/solvers/ipopt\u001b[39m\u001b[38;5;124m\"\u001b[39m\n\u001b[1;32m     37\u001b[0m solver \u001b[38;5;241m=\u001b[39m pyo\u001b[38;5;241m.\u001b[39mSolverFactory(\u001b[38;5;124m'\u001b[39m\u001b[38;5;124mipopt\u001b[39m\u001b[38;5;124m'\u001b[39m, executable\u001b[38;5;241m=\u001b[39mipopt_runner_path)\n\u001b[0;32m---> 39\u001b[0m \u001b[43msolver\u001b[49m\u001b[38;5;241;43m.\u001b[39;49m\u001b[43msolve\u001b[49m\u001b[43m(\u001b[49m\u001b[43mmodel\u001b[49m\u001b[43m)\u001b[49m\n\u001b[1;32m     40\u001b[0m model\u001b[38;5;241m.\u001b[39mpprint()\n",
      "File \u001b[0;32m~/CHE498/pyomo_jupyter_book/.venv/lib/python3.10/site-packages/pyomo/opt/base/solvers.py:99\u001b[0m, in \u001b[0;36mUnknownSolver.solve\u001b[0;34m(self, *args, **kwds)\u001b[0m\n\u001b[1;32m     97\u001b[0m \u001b[38;5;28;01mdef\u001b[39;00m \u001b[38;5;21msolve\u001b[39m(\u001b[38;5;28mself\u001b[39m, \u001b[38;5;241m*\u001b[39margs, \u001b[38;5;241m*\u001b[39m\u001b[38;5;241m*\u001b[39mkwds):\n\u001b[1;32m     98\u001b[0m \u001b[38;5;250m    \u001b[39m\u001b[38;5;124;03m\"\"\"Perform optimization and return an SolverResults object.\"\"\"\u001b[39;00m\n\u001b[0;32m---> 99\u001b[0m     \u001b[38;5;28;43mself\u001b[39;49m\u001b[38;5;241;43m.\u001b[39;49m\u001b[43m_solver_error\u001b[49m\u001b[43m(\u001b[49m\u001b[38;5;124;43m'\u001b[39;49m\u001b[38;5;124;43msolve\u001b[39;49m\u001b[38;5;124;43m'\u001b[39;49m\u001b[43m)\u001b[49m\n",
      "File \u001b[0;32m~/CHE498/pyomo_jupyter_book/.venv/lib/python3.10/site-packages/pyomo/opt/base/solvers.py:116\u001b[0m, in \u001b[0;36mUnknownSolver._solver_error\u001b[0;34m(self, method_name)\u001b[0m\n\u001b[1;32m    115\u001b[0m     \u001b[38;5;28;01mdef\u001b[39;00m \u001b[38;5;21m_solver_error\u001b[39m(\u001b[38;5;28mself\u001b[39m, method_name):\n\u001b[0;32m--> 116\u001b[0m         \u001b[38;5;28;01mraise\u001b[39;00m \u001b[38;5;167;01mRuntimeError\u001b[39;00m(\n\u001b[1;32m    117\u001b[0m \u001b[38;5;250m            \u001b[39m\u001b[38;5;124;03m\"\"\"Attempting to use an unavailable solver.\u001b[39;00m\n\u001b[1;32m    118\u001b[0m \n\u001b[1;32m    119\u001b[0m \u001b[38;5;124;03mThe SolverFactory was unable to create the solver \"%s\"\u001b[39;00m\n\u001b[1;32m    120\u001b[0m \u001b[38;5;124;03mand returned an UnknownSolver object.  This error is raised at the point\u001b[39;00m\n\u001b[1;32m    121\u001b[0m \u001b[38;5;124;03mwhere the UnknownSolver object was used as if it were valid (by calling\u001b[39;00m\n\u001b[1;32m    122\u001b[0m \u001b[38;5;124;03mmethod \"%s\").\u001b[39;00m\n\u001b[1;32m    123\u001b[0m \n\u001b[1;32m    124\u001b[0m \u001b[38;5;124;03mThe original solver was created with the following parameters:\u001b[39;00m\n\u001b[1;32m    125\u001b[0m \u001b[38;5;124;03m\\t\"\"\"\u001b[39;00m\n\u001b[1;32m    126\u001b[0m             \u001b[38;5;241m%\u001b[39m (\u001b[38;5;28mself\u001b[39m\u001b[38;5;241m.\u001b[39mtype, method_name)\n\u001b[1;32m    127\u001b[0m             \u001b[38;5;241m+\u001b[39m \u001b[38;5;124m\"\u001b[39m\u001b[38;5;130;01m\\n\u001b[39;00m\u001b[38;5;130;01m\\t\u001b[39;00m\u001b[38;5;124m\"\u001b[39m\u001b[38;5;241m.\u001b[39mjoin(\u001b[38;5;124m\"\u001b[39m\u001b[38;5;132;01m%s\u001b[39;00m\u001b[38;5;124m: \u001b[39m\u001b[38;5;132;01m%s\u001b[39;00m\u001b[38;5;124m\"\u001b[39m \u001b[38;5;241m%\u001b[39m i \u001b[38;5;28;01mfor\u001b[39;00m i \u001b[38;5;129;01min\u001b[39;00m \u001b[38;5;28msorted\u001b[39m(\u001b[38;5;28mself\u001b[39m\u001b[38;5;241m.\u001b[39m_kwds\u001b[38;5;241m.\u001b[39mitems()))\n\u001b[1;32m    128\u001b[0m             \u001b[38;5;241m+\u001b[39m \u001b[38;5;124m\"\u001b[39m\u001b[38;5;130;01m\\n\u001b[39;00m\u001b[38;5;130;01m\\t\u001b[39;00m\u001b[38;5;124m_args: \u001b[39m\u001b[38;5;132;01m%s\u001b[39;00m\u001b[38;5;124m\"\u001b[39m \u001b[38;5;241m%\u001b[39m (\u001b[38;5;28mself\u001b[39m\u001b[38;5;241m.\u001b[39m_args,)\n\u001b[1;32m    129\u001b[0m             \u001b[38;5;241m+\u001b[39m \u001b[38;5;124m\"\u001b[39m\u001b[38;5;130;01m\\n\u001b[39;00m\u001b[38;5;130;01m\\t\u001b[39;00m\u001b[38;5;124moptions: \u001b[39m\u001b[38;5;132;01m%s\u001b[39;00m\u001b[38;5;124m\"\u001b[39m \u001b[38;5;241m%\u001b[39m (\u001b[38;5;28mself\u001b[39m\u001b[38;5;241m.\u001b[39moptions,)\n\u001b[1;32m    130\u001b[0m         )\n",
      "\u001b[0;31mRuntimeError\u001b[0m: Attempting to use an unavailable solver.\n\nThe SolverFactory was unable to create the solver \"ipopt\"\nand returned an UnknownSolver object.  This error is raised at the point\nwhere the UnknownSolver object was used as if it were valid (by calling\nmethod \"solve\").\n\nThe original solver was created with the following parameters:\n\texecutable: /home/runner/work/pyomo_jupyter_book/pyomo_jupyter_book/solvers/ipopt\n\ttype: ipopt\n\t_args: ()\n\toptions: {}"
     ]
    }
   ],
   "source": [
    "import pyomo.environ as pyo\n",
    "\n",
    "# create the concrete model\n",
    "model = pyo.ConcreteModel()\n",
    "\n",
    "# set the data (native python data)\n",
    "k1 = 5.0/6.0     # min^-1\n",
    "k2 = 5.0/3.0     # min^-1\n",
    "k3 = 1.0/6000.0  # m^3/(gmol min)\n",
    "caf = 10000.0    # gmol/m^3\n",
    "\n",
    "# create the variables\n",
    "model.sv = pyo.Var(initialize = 1.0, within=pyo.PositiveReals)\n",
    "model.ca = pyo.Var(initialize = 5000.0, within=pyo.PositiveReals)\n",
    "model.cb = pyo.Var(initialize = 2000.0, within=pyo.PositiveReals)\n",
    "model.cc = pyo.Var(initialize = 2000.0, within=pyo.PositiveReals)\n",
    "model.cd = pyo.Var(initialize = 1000.0, within=pyo.PositiveReals)\n",
    "\n",
    "# create the objective\n",
    "model.obj = pyo.Objective(expr = model.cb, sense=pyo.maximize)\n",
    "\n",
    "# create the constraints\n",
    "model.ca_bal = pyo.Constraint(expr = (0 == model.sv * caf \\\n",
    "                 - model.sv * model.ca - k1 * model.ca \\\n",
    "                 -  2.0 * k3 * model.ca ** 2.0))\n",
    "\n",
    "model.cb_bal = pyo.Constraint(expr=(0 == -model.sv * model.cb \\\n",
    "                 + k1 * model.ca - k2 * model.cb))\n",
    "\n",
    "model.cc_bal = pyo.Constraint(expr=(0 == -model.sv * model.cc \\\n",
    "                 + k2 * model.cb))\n",
    "\n",
    "model.cd_bal = pyo.Constraint(expr=(0 == -model.sv * model.cd \\\n",
    "                 + k3 * model.ca ** 2.0))\n",
    "\n",
    "ipopt_runner_path = \"/home/runner/work/pyomo_jupyter_book/pyomo_jupyter_book/solvers/ipopt\"\n",
    "solver = pyo.SolverFactory('ipopt', executable=ipopt_runner_path)\n",
    "\n",
    "solver.solve(model)\n",
    "model.pprint()\n"
   ]
  }
 ],
 "metadata": {
  "kernelspec": {
   "display_name": ".venv",
   "language": "python",
   "name": "python3"
  },
  "language_info": {
   "codemirror_mode": {
    "name": "ipython",
    "version": 3
   },
   "file_extension": ".py",
   "mimetype": "text/x-python",
   "name": "python",
   "nbconvert_exporter": "python",
   "pygments_lexer": "ipython3",
   "version": "3.10.12"
  }
 },
 "nbformat": 4,
 "nbformat_minor": 2
}