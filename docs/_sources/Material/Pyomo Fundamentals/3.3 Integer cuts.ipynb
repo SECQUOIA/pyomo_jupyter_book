{
 "cells": [
  {
   "cell_type": "markdown",
   "metadata": {},
   "source": [
    "#### 3.3 Integer cuts: \n",
    "Often, it can be important to find not only the “best” solution, but a number of solutions that are equally optimal, or close to optimal. For discrete optimization problems, this can be done using something known as an integer cut. Consider again the knapsack problem where the choice of which items to select is a discrete variable $x_{i} \\forall i \\in A$. Let $x_{i}^{*}$ be a particular set of x values we want to remove from the feasible solution space. We define an integer cut using two sets. The first set $S_{0}$ contains the indices for those variables whose current solution is 0, and the second set $S_{1}$ consists of indices for those variables whose current solution is 1. Given these two sets, an integer cut constraint that would prevent such a solution from appearing again\n",
    "is defined by,\n",
    "\n",
    "$$\\sum _{i \\in S_{0}}x[i] + \\sum _{i \\in \\in S_{1}}(1 - x[i]) \\geq 1$$\n",
    "\n",
    "Below, we write a loop that solves the problem 5 times, adding an integer cut to remove the previous solution, and printing the value of the objective function and the solution at each iteration of the loop."
   ]
  },
  {
   "cell_type": "code",
   "execution_count": 1,
   "metadata": {},
   "outputs": [
    {
     "name": "stdout",
     "output_type": "stream",
     "text": [
      "Obj: 25.0  x[hammer]: 1.000000  x[wrench]: 0.000000  x[screwdriver]: 1.000000  x[towel]: 1.000000\n",
      "Obj: 20.0  x[hammer]: 0.000000  x[wrench]: 1.000000  x[screwdriver]: 1.000000  x[towel]: 1.000000\n",
      "Obj: 19.0  x[hammer]: 1.000000  x[wrench]: 0.000000  x[screwdriver]: 0.000000  x[towel]: 1.000000\n",
      "Obj: 17.0  x[hammer]: 0.000000  x[wrench]: 0.000000  x[screwdriver]: 1.000000  x[towel]: 1.000000\n",
      "Obj: 14.0  x[hammer]: 0.000000  x[wrench]: 1.000000  x[screwdriver]: 0.000000  x[towel]: 1.000000\n"
     ]
    }
   ],
   "source": [
    "import pyomo.environ as pyo\n",
    "\n",
    "A = ['hammer', 'wrench', 'screwdriver', 'towel']\n",
    "b = {'hammer':8, 'wrench':3, 'screwdriver':6, 'towel':11}\n",
    "w = {'hammer':5, 'wrench':7, 'screwdriver':4, 'towel':3}\n",
    "W_max = 14\n",
    "\n",
    "model = pyo.ConcreteModel()\n",
    "model.x = pyo.Var( A, within=pyo.Binary )\n",
    "\n",
    "def obj_rule(m):\n",
    "    return sum( b[i]*m.x[i] for i in A )\n",
    "model.obj = pyo.Objective(rule=obj_rule, sense = pyo.maximize )\n",
    "\n",
    "def weight_con_rule(m):\n",
    "    return sum( w[i]*m.x[i] for i in A ) <= W_max\n",
    "model.weight_con = pyo.Constraint(rule=weight_con_rule)\n",
    "\n",
    "opt = pyo.SolverFactory('glpk')\n",
    "\n",
    "\n",
    "# create the ConstraintList to hold the integer cuts\n",
    "model.int_cuts = pyo.ConstraintList()\n",
    "\n",
    "# loop 5 times\n",
    "for l in range(5):\n",
    "    # solve the problem\n",
    "    result_obj = opt.solve(model)\n",
    "\n",
    "    # print the solution\n",
    "    output_str = 'Obj: ' + str(pyo.value(model.obj))\n",
    "    for i in A:\n",
    "        output_str += \"  x[%s]: %f\" % (str(i), pyo.value(model.x[i]))\n",
    "    print(output_str)           \n",
    "    \n",
    "    # add the integer cut based on the current solution\n",
    "    cut_expr = 0\n",
    "    for i in A:\n",
    "        if pyo.value(model.x[i]) < 0.5:\n",
    "            cut_expr += model.x[i]\n",
    "        else:\n",
    "            cut_expr += (1.0 - model.x[i])\n",
    "    model.int_cuts.add(cut_expr >= 1)"
   ]
  }
 ],
 "metadata": {
  "kernelspec": {
   "display_name": ".venv",
   "language": "python",
   "name": "python3"
  },
  "language_info": {
   "codemirror_mode": {
    "name": "ipython",
    "version": 3
   },
   "file_extension": ".py",
   "mimetype": "text/x-python",
   "name": "python",
   "nbconvert_exporter": "python",
   "pygments_lexer": "ipython3",
   "version": "3.11.5"
  }
 },
 "nbformat": 4,
 "nbformat_minor": 2
}
